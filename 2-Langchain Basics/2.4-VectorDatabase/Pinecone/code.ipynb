{
 "cells": [
  {
   "cell_type": "code",
   "execution_count": 10,
   "id": "f851d7ef",
   "metadata": {},
   "outputs": [
    {
     "data": {
      "text/plain": [
       "True"
      ]
     },
     "execution_count": 10,
     "metadata": {},
     "output_type": "execute_result"
    }
   ],
   "source": [
    "from dotenv import load_dotenv\n",
    "load_dotenv()"
   ]
  },
  {
   "cell_type": "code",
   "execution_count": 2,
   "id": "db61e9be",
   "metadata": {},
   "outputs": [],
   "source": [
    "import os\n",
    "os.environ['HF_TOKEN']=os.getenv(\"HUGGINGFACEHUB_API_TOKEN\")"
   ]
  },
  {
   "cell_type": "code",
   "execution_count": 5,
   "id": "45e0aea5",
   "metadata": {},
   "outputs": [
    {
     "name": "stderr",
     "output_type": "stream",
     "text": [
      "c:\\Users\\Artur Dragunov\\Documents\\GIT\\agentic-ai-bootcamp\\.venv\\Lib\\site-packages\\huggingface_hub\\file_download.py:143: UserWarning: `huggingface_hub` cache-system uses symlinks by default to efficiently store duplicated files but your machine does not support them in C:\\Users\\Artur Dragunov\\Documents\\GIT\\agentic-ai-bootcamp\\hugging_face_embedding\\models--sentence-transformers--all-MiniLM-L6-v2. Caching files will still work but in a degraded version that might require more space on your disk. This warning can be disabled by setting the `HF_HUB_DISABLE_SYMLINKS_WARNING` environment variable. For more details, see https://huggingface.co/docs/huggingface_hub/how-to-cache#limitations.\n",
      "To support symlinks on Windows, you either need to activate Developer Mode or to run Python as an administrator. In order to activate developer mode, see this article: https://docs.microsoft.com/en-us/windows/apps/get-started/enable-your-device-for-development\n",
      "  warnings.warn(message)\n",
      "Xet Storage is enabled for this repo, but the 'hf_xet' package is not installed. Falling back to regular HTTP download. For better performance, install the package with: `pip install huggingface_hub[hf_xet]` or `pip install hf_xet`\n"
     ]
    }
   ],
   "source": [
    "from langchain_huggingface import HuggingFaceEmbeddings\n",
    "# This code works for both first run and subsequent runs -> it first caches code and then in the future it checks and loads the model\n",
    "embeddings = HuggingFaceEmbeddings(\n",
    "  model_name=\"all-MiniLM-L6-v2\",\n",
    "  cache_folder=\"../../../hugging_face_embedding\",\n",
    "  model_kwargs={'device': 'cpu'}  # or 'cuda' if you have GPU\n",
    ")"
   ]
  },
  {
   "cell_type": "code",
   "execution_count": 4,
   "id": "b45fd9fc",
   "metadata": {},
   "outputs": [
    {
     "data": {
      "text/plain": [
       "[-0.033388201147317886,\n",
       " 0.034539803862571716,\n",
       " 0.059474579989910126,\n",
       " 0.05928615480661392,\n",
       " -0.06353538483381271,\n",
       " -0.06819586455821991,\n",
       " 0.08823323249816895,\n",
       " 0.0344407856464386,\n",
       " -0.03278515860438347,\n",
       " -0.015814995393157005,\n",
       " 0.020981667563319206,\n",
       " -0.018340280279517174,\n",
       " -0.03983214125037193,\n",
       " -0.08047076314687729,\n",
       " -0.014469259418547153,\n",
       " 0.03326486423611641,\n",
       " 0.01425926387310028,\n",
       " -0.03404999524354935,\n",
       " -0.142915740609169,\n",
       " -0.023083265870809555,\n",
       " -0.02138010412454605,\n",
       " 0.0026335634756833315,\n",
       " -0.04729275032877922,\n",
       " -0.010752726346254349,\n",
       " -0.06866799294948578,\n",
       " 0.03112499974668026,\n",
       " 0.07594592869281769,\n",
       " 0.0011283049825578928,\n",
       " 0.011631982401013374,\n",
       " -0.036039214581251144,\n",
       " 0.04483765363693237,\n",
       " 0.01839079149067402,\n",
       " 0.12672799825668335,\n",
       " -0.001359735382720828,\n",
       " 0.008206715807318687,\n",
       " 0.06909963488578796,\n",
       " -0.0807635709643364,\n",
       " -0.05841311439871788,\n",
       " 0.05375451594591141,\n",
       " 0.026227623224258423,\n",
       " -0.00682859867811203,\n",
       " -0.05635840445756912,\n",
       " 0.0032929950393736362,\n",
       " -0.07250180840492249,\n",
       " 0.06960921734571457,\n",
       " 0.031674399971961975,\n",
       " -0.012384780682623386,\n",
       " 0.023199237883090973,\n",
       " 0.08131053298711777,\n",
       " 0.00027830112958326936,\n",
       " -0.12659239768981934,\n",
       " -0.04998629540205002,\n",
       " -0.03565254062414169,\n",
       " 0.04856065660715103,\n",
       " 0.09733067452907562,\n",
       " 0.06224418804049492,\n",
       " -0.037504829466342926,\n",
       " 0.008118381723761559,\n",
       " 0.027651414275169373,\n",
       " -0.043216656893491745,\n",
       " 0.01624850183725357,\n",
       " 0.0022868122905492783,\n",
       " 0.003097043139860034,\n",
       " -0.015322081744670868,\n",
       " 0.03742990642786026,\n",
       " -0.010506647638976574,\n",
       " -0.05321492254734039,\n",
       " -0.039694707840681076,\n",
       " -0.052877578884363174,\n",
       " -0.030448229983448982,\n",
       " -0.011697022244334221,\n",
       " 0.07245180755853653,\n",
       " -0.07213432341814041,\n",
       " 0.039102256298065186,\n",
       " -0.03716370463371277,\n",
       " 0.026422275230288506,\n",
       " 0.026734258979558945,\n",
       " -0.031146880239248276,\n",
       " 0.06340930610895157,\n",
       " -0.01694674789905548,\n",
       " 0.0063436501659452915,\n",
       " -0.02548304758965969,\n",
       " -0.015998929738998413,\n",
       " 0.01468464732170105,\n",
       " -0.04103194549679756,\n",
       " 0.056689441204071045,\n",
       " 0.051890779286623,\n",
       " 0.012766428291797638,\n",
       " 0.010396684519946575,\n",
       " 0.036034632474184036,\n",
       " -0.07487251609563828,\n",
       " 0.022285528481006622,\n",
       " 0.05366942659020424,\n",
       " 0.021017184481024742,\n",
       " 0.01070323120802641,\n",
       " 0.011209463700652122,\n",
       " 0.022165242582559586,\n",
       " -0.03350186347961426,\n",
       " -0.13790257275104523,\n",
       " 0.17661654949188232,\n",
       " 0.03291358798742294,\n",
       " 0.07648545503616333,\n",
       " -0.056457702070474625,\n",
       " 0.03820186108350754,\n",
       " -0.05886796861886978,\n",
       " 0.016183679923415184,\n",
       " -0.0029855016618967056,\n",
       " 0.008209964260458946,\n",
       " 0.026603659614920616,\n",
       " 0.034101277589797974,\n",
       " -0.003371298545971513,\n",
       " -0.04683653265237808,\n",
       " 0.029342366382479668,\n",
       " -0.018165402114391327,\n",
       " 0.09393948316574097,\n",
       " 0.0166737362742424,\n",
       " -0.016232209280133247,\n",
       " 0.07100321352481842,\n",
       " 0.04189832881093025,\n",
       " -0.012874997220933437,\n",
       " 0.02733328379690647,\n",
       " -0.037691812962293625,\n",
       " -0.010565720498561859,\n",
       " 0.08810009807348251,\n",
       " 0.03338446468114853,\n",
       " -0.0023000610526651144,\n",
       " -0.020081721246242523,\n",
       " -3.438964926654251e-33,\n",
       " 0.003885385813191533,\n",
       " -0.045698028057813644,\n",
       " 0.03672376647591591,\n",
       " 0.10973254591226578,\n",
       " 0.005294251721352339,\n",
       " -0.03384030610322952,\n",
       " -0.057188041508197784,\n",
       " -0.03098653070628643,\n",
       " 0.0282085370272398,\n",
       " 0.014682859182357788,\n",
       " -0.0056138248182833195,\n",
       " 0.02814444899559021,\n",
       " -0.06591308861970901,\n",
       " 0.01608217880129814,\n",
       " 0.04844910651445389,\n",
       " 0.07509640604257584,\n",
       " -0.004293231759220362,\n",
       " 0.0263045746833086,\n",
       " -0.02851446531713009,\n",
       " 0.022873952984809875,\n",
       " -0.05280346795916557,\n",
       " -0.060665033757686615,\n",
       " 0.019528521224856377,\n",
       " 0.054101862013339996,\n",
       " 0.02175346203148365,\n",
       " -0.025309914723038673,\n",
       " 0.03161471337080002,\n",
       " -0.12111620604991913,\n",
       " 0.04928331449627876,\n",
       " 0.0027341076638549566,\n",
       " -0.038959283381700516,\n",
       " -0.02350742183625698,\n",
       " 0.010390612296760082,\n",
       " 0.02667587250471115,\n",
       " -0.02038608305156231,\n",
       " 0.013104474171996117,\n",
       " 0.012831296771764755,\n",
       " -0.027721179649233818,\n",
       " -0.07600441575050354,\n",
       " 0.03969912976026535,\n",
       " -0.06335607916116714,\n",
       " 0.06014363095164299,\n",
       " 0.05248519778251648,\n",
       " 0.008374607190489769,\n",
       " 0.015201497822999954,\n",
       " -0.01872258633375168,\n",
       " 0.01212179847061634,\n",
       " -0.014375110156834126,\n",
       " 0.033597685396671295,\n",
       " -0.01308043859899044,\n",
       " -0.06113573908805847,\n",
       " 0.029406405985355377,\n",
       " -0.09374042600393295,\n",
       " -0.002057623350992799,\n",
       " 0.024026259779930115,\n",
       " -0.04306028410792351,\n",
       " -0.03385312110185623,\n",
       " -0.0036304700188338757,\n",
       " 0.005760235246270895,\n",
       " 0.01923433318734169,\n",
       " 0.024349471554160118,\n",
       " 0.0710911750793457,\n",
       " -0.044834986329078674,\n",
       " 0.07316724956035614,\n",
       " -0.08264461904764175,\n",
       " 0.0054279230535030365,\n",
       " 0.023218734189867973,\n",
       " 0.060967519879341125,\n",
       " 0.09460730105638504,\n",
       " -0.014135172590613365,\n",
       " -0.041771095246076584,\n",
       " -0.027401898056268692,\n",
       " 0.03853408619761467,\n",
       " -0.007350042928010225,\n",
       " -0.007266181521117687,\n",
       " 0.048032596707344055,\n",
       " -0.011426649056375027,\n",
       " -0.06901123374700546,\n",
       " 0.037151314318180084,\n",
       " -0.06476700305938721,\n",
       " -0.06643083691596985,\n",
       " -0.001176641322672367,\n",
       " -0.02179589308798313,\n",
       " -0.007523735519498587,\n",
       " 0.06725426018238068,\n",
       " 0.008094736374914646,\n",
       " -0.038112886250019073,\n",
       " -0.08759458363056183,\n",
       " 0.03036235086619854,\n",
       " -0.042037904262542725,\n",
       " -0.06107688695192337,\n",
       " 0.012958253733813763,\n",
       " 0.005050809122622013,\n",
       " 0.018419791013002396,\n",
       " -0.12826380133628845,\n",
       " 2.62487429361136e-33,\n",
       " 0.0888892412185669,\n",
       " 0.03213626891374588,\n",
       " -0.10708096623420715,\n",
       " -0.016275160014629364,\n",
       " -0.0415031798183918,\n",
       " 0.0020868987776339054,\n",
       " -0.06067206710577011,\n",
       " 0.1204824447631836,\n",
       " -0.08354715257883072,\n",
       " 0.05011679232120514,\n",
       " 0.0011805907124653459,\n",
       " -0.05077018216252327,\n",
       " 0.059968817979097366,\n",
       " 0.054858896881341934,\n",
       " 0.06972207129001617,\n",
       " 0.004157168325036764,\n",
       " 0.12240331619977951,\n",
       " 0.03817792609333992,\n",
       " -0.01899203658103943,\n",
       " 0.012684145011007786,\n",
       " -0.03257124498486519,\n",
       " 0.02660112828016281,\n",
       " -0.059803131967782974,\n",
       " -0.024400964379310608,\n",
       " -0.016547169536352158,\n",
       " 0.02027438022196293,\n",
       " -0.023540074005723,\n",
       " 0.08794984966516495,\n",
       " -0.09462472051382065,\n",
       " -0.056649498641490936,\n",
       " 0.07793808728456497,\n",
       " -0.0145401731133461,\n",
       " -0.04598597437143326,\n",
       " 0.03597734868526459,\n",
       " 0.01722737029194832,\n",
       " 0.1085493341088295,\n",
       " 0.023995401337742805,\n",
       " -0.09443827718496323,\n",
       " 0.021734846755862236,\n",
       " -0.035141877830028534,\n",
       " -0.015563040971755981,\n",
       " -0.00905606523156166,\n",
       " -0.026420576497912407,\n",
       " 0.09819944202899933,\n",
       " -0.051732853055000305,\n",
       " -0.05118061974644661,\n",
       " -0.04413073882460594,\n",
       " 0.060778889805078506,\n",
       " -0.01092186663299799,\n",
       " -0.0016202396946027875,\n",
       " -0.12291138619184494,\n",
       " -0.08137030154466629,\n",
       " -0.023045791313052177,\n",
       " -0.050796691328287125,\n",
       " -0.1166769489645958,\n",
       " 0.025221604853868484,\n",
       " -0.019859882071614265,\n",
       " 0.04968450590968132,\n",
       " -0.013690246269106865,\n",
       " 0.004341193940490484,\n",
       " -0.014368368312716484,\n",
       " 0.04770711064338684,\n",
       " 0.03718505799770355,\n",
       " 0.02282983809709549,\n",
       " -0.04654855653643608,\n",
       " 0.06936842948198318,\n",
       " -0.02132510021328926,\n",
       " 0.02957007847726345,\n",
       " 0.0009862963343039155,\n",
       " -0.0332183837890625,\n",
       " 0.04180171340703964,\n",
       " -0.005182821769267321,\n",
       " -0.020640278235077858,\n",
       " 0.04860807582736015,\n",
       " -0.04133269563317299,\n",
       " -0.005364660173654556,\n",
       " -0.02189500257372856,\n",
       " 0.02127024158835411,\n",
       " 0.018460959196090698,\n",
       " -0.03659111261367798,\n",
       " -0.057284701615571976,\n",
       " -0.003445934969931841,\n",
       " -0.04625878483057022,\n",
       " 0.05134572461247444,\n",
       " 0.025934023782610893,\n",
       " 0.03859254717826843,\n",
       " 0.06607189774513245,\n",
       " -0.01730244792997837,\n",
       " -0.01059806253761053,\n",
       " 0.022652043029665947,\n",
       " 0.03672377020120621,\n",
       " 0.03584650531411171,\n",
       " 0.012036584317684174,\n",
       " 0.03178591653704643,\n",
       " -0.12105198204517365,\n",
       " -1.513083525139791e-08,\n",
       " 0.006866068113595247,\n",
       " -0.027710258960723877,\n",
       " 0.08934702724218369,\n",
       " 0.07790025323629379,\n",
       " 0.06404796987771988,\n",
       " 0.03166110813617706,\n",
       " -0.07114409655332565,\n",
       " -0.04326840490102768,\n",
       " -0.03240786865353584,\n",
       " -0.021455753594636917,\n",
       " -0.00830535963177681,\n",
       " 0.0380602590739727,\n",
       " -0.00011358146730344743,\n",
       " 0.012233693152666092,\n",
       " 0.12013918161392212,\n",
       " 0.03023669682443142,\n",
       " -0.05191420763731003,\n",
       " -0.011444023810327053,\n",
       " -0.04784311726689339,\n",
       " -0.07834547758102417,\n",
       " 0.032210297882556915,\n",
       " -0.02586168609559536,\n",
       " -0.0020645565818995237,\n",
       " -0.02923075295984745,\n",
       " -0.019974663853645325,\n",
       " -0.03496573120355606,\n",
       " -0.014112554490566254,\n",
       " 0.03993986174464226,\n",
       " -0.06896212697029114,\n",
       " 0.05589039996266365,\n",
       " -0.012570522725582123,\n",
       " 0.18196909129619598,\n",
       " -0.012776450254023075,\n",
       " -0.0011512666242197156,\n",
       " 0.028124788776040077,\n",
       " 0.011322940699756145,\n",
       " 0.04628046602010727,\n",
       " 0.016169795766472816,\n",
       " 0.026298951357603073,\n",
       " -0.054048750549554825,\n",
       " -0.026807144284248352,\n",
       " 0.06764830648899078,\n",
       " 0.010659350082278252,\n",
       " -0.1292617917060852,\n",
       " 0.06938320398330688,\n",
       " 0.030720476061105728,\n",
       " 0.03887750953435898,\n",
       " -0.14078205823898315,\n",
       " 0.051911916583776474,\n",
       " -0.0679067075252533,\n",
       " -0.02985662966966629,\n",
       " 0.01736200973391533,\n",
       " 0.08236216753721237,\n",
       " 0.11180814355611801,\n",
       " 0.09893389791250229,\n",
       " 0.057195425033569336,\n",
       " 0.0159031692892313,\n",
       " -0.04091336578130722,\n",
       " -0.012436417862772942,\n",
       " 0.020249152556061745,\n",
       " 0.06743750721216202,\n",
       " 0.03933357074856758,\n",
       " 0.052080992609262466,\n",
       " -0.019405055791139603]"
      ]
     },
     "execution_count": 4,
     "metadata": {},
     "output_type": "execute_result"
    }
   ],
   "source": [
    "embeddings.embed_query(\"hello AI\")"
   ]
  },
  {
   "cell_type": "code",
   "execution_count": 6,
   "id": "817e0328",
   "metadata": {},
   "outputs": [
    {
     "data": {
      "text/plain": [
       "384"
      ]
     },
     "execution_count": 6,
     "metadata": {},
     "output_type": "execute_result"
    }
   ],
   "source": [
    "len(embeddings.embed_query(\"hello AI\"))"
   ]
  },
  {
   "cell_type": "markdown",
   "id": "2d200d81",
   "metadata": {},
   "source": [
    "reload your jupyter"
   ]
  },
  {
   "cell_type": "code",
   "execution_count": null,
   "id": "51c9c423",
   "metadata": {},
   "outputs": [
    {
     "data": {
      "text/plain": [
       "True"
      ]
     },
     "execution_count": 15,
     "metadata": {},
     "output_type": "execute_result"
    }
   ],
   "source": [
    "# %load_ext autoreload # do it once then comment out\n",
    "%autoreload 2\n",
    "load_dotenv()"
   ]
  },
  {
   "cell_type": "code",
   "execution_count": 11,
   "id": "5d0af58f",
   "metadata": {},
   "outputs": [],
   "source": [
    "from langchain_google_genai import GoogleGenerativeAIEmbeddings\n",
    "embeddings = GoogleGenerativeAIEmbeddings(model=\"models/embedding-001\") # it takes env key directly from environment variables"
   ]
  },
  {
   "cell_type": "code",
   "execution_count": 12,
   "id": "598953c0",
   "metadata": {},
   "outputs": [
    {
     "data": {
      "text/plain": [
       "768"
      ]
     },
     "execution_count": 12,
     "metadata": {},
     "output_type": "execute_result"
    }
   ],
   "source": [
    "len(embeddings.embed_query(\"Hello AI\"))"
   ]
  },
  {
   "cell_type": "code",
   "execution_count": 13,
   "id": "e2bcb5f1",
   "metadata": {},
   "outputs": [],
   "source": [
    "from pinecone import Pinecone"
   ]
  },
  {
   "cell_type": "code",
   "execution_count": 16,
   "id": "18ec1b25",
   "metadata": {},
   "outputs": [],
   "source": [
    "import os\n",
    "pinecone_api_key=os.getenv(\"PINECONE_API_KEY\")"
   ]
  },
  {
   "cell_type": "code",
   "execution_count": 17,
   "id": "92dd4064",
   "metadata": {},
   "outputs": [],
   "source": [
    "pc=Pinecone(api_key=pinecone_api_key)"
   ]
  },
  {
   "cell_type": "code",
   "execution_count": 18,
   "id": "ef5b5de5",
   "metadata": {},
   "outputs": [],
   "source": [
    "from pinecone import ServerlessSpec\n",
    "#Serverless: Server will be Managed by the cloud provider"
   ]
  },
  {
   "cell_type": "code",
   "execution_count": 19,
   "id": "319eb29f",
   "metadata": {},
   "outputs": [],
   "source": [
    "index_name=\"agenticbatch2\""
   ]
  },
  {
   "cell_type": "code",
   "execution_count": null,
   "id": "a4c1657d",
   "metadata": {},
   "outputs": [
    {
     "data": {
      "text/plain": [
       "False"
      ]
     },
     "execution_count": 20,
     "metadata": {},
     "output_type": "execute_result"
    }
   ],
   "source": [
    "pc.has_index(index_name) # no index inside"
   ]
  },
  {
   "cell_type": "code",
   "execution_count": 22,
   "id": "3314b80c",
   "metadata": {},
   "outputs": [],
   "source": [
    "#creating an index\n",
    "if not pc.has_index(index_name):\n",
    "    pc.create_index( # right now we use flat index\n",
    "    name=index_name,\n",
    "    dimension=768, # we use google gemini model, so we use 768 as dimension\n",
    "    metric=\"cosine\",\n",
    "    spec=ServerlessSpec(cloud=\"aws\",region=\"us-east-1\")    \n",
    ")"
   ]
  },
  {
   "cell_type": "code",
   "execution_count": 23,
   "id": "1be5fd67",
   "metadata": {},
   "outputs": [
    {
     "data": {
      "text/plain": [
       "True"
      ]
     },
     "execution_count": 23,
     "metadata": {},
     "output_type": "execute_result"
    }
   ],
   "source": [
    "pc.has_index(index_name) # index is added now\n",
    "# index is added: https://app.pinecone.io/organizations/-ORjEfC6X56LCBuIAroE/projects/060ef57d-4171-4b0e-9656-19818cbf0419/indexes"
   ]
  },
  {
   "cell_type": "code",
   "execution_count": 24,
   "id": "ff8ee18d",
   "metadata": {},
   "outputs": [],
   "source": [
    "#loading the index\n",
    "index=pc.Index(index_name)"
   ]
  },
  {
   "cell_type": "code",
   "execution_count": 25,
   "id": "2d06f1e2",
   "metadata": {},
   "outputs": [],
   "source": [
    "from langchain_pinecone import PineconeVectorStore # now we can store the data under the index"
   ]
  },
  {
   "cell_type": "code",
   "execution_count": 26,
   "id": "68d6771a",
   "metadata": {},
   "outputs": [],
   "source": [
    "vector_store=PineconeVectorStore(index=index,embedding=embeddings) # we define a vector store under this specific index and using defined embedding. It's important to use\n",
    "# correct embedding -> the one which was assumed during index creation. Otherwise, dimensions won't match."
   ]
  },
  {
   "cell_type": "code",
   "execution_count": 27,
   "id": "3da27854",
   "metadata": {},
   "outputs": [],
   "source": [
    "results = vector_store.similarity_search(\"what is a langchain?\") # currently vectore store is empty"
   ]
  },
  {
   "cell_type": "code",
   "execution_count": 28,
   "id": "2d565b08",
   "metadata": {},
   "outputs": [
    {
     "data": {
      "text/plain": [
       "[]"
      ]
     },
     "execution_count": 28,
     "metadata": {},
     "output_type": "execute_result"
    }
   ],
   "source": [
    "results"
   ]
  },
  {
   "cell_type": "code",
   "execution_count": 29,
   "id": "dd0f3a3a",
   "metadata": {},
   "outputs": [],
   "source": [
    "from uuid import uuid4\n",
    "from langchain_core.documents import Document\n",
    "\n",
    "document_1 = Document(\n",
    "    page_content=\"I had chocolate chip pancakes and scrambled eggs for breakfast this morning.\",\n",
    "    metadata={\"source\": \"tweet\"},#additional info\n",
    ")\n",
    "\n",
    "document_2 = Document(\n",
    "    page_content=\"The weather forecast for tomorrow is cloudy and overcast, with a high of 62 degrees.\",\n",
    "    metadata={\"source\": \"news\"},\n",
    ")\n",
    "\n",
    "document_3 = Document(\n",
    "    page_content=\"Building an exciting new project with LangChain - come check it out!\",\n",
    "    metadata={\"source\": \"tweet\"},\n",
    ")\n",
    "\n",
    "document_4 = Document(\n",
    "    page_content=\"Robbers broke into the city bank and stole $1 million in cash.\",\n",
    "    metadata={\"source\": \"news\"},\n",
    ")\n",
    "\n",
    "document_5 = Document(\n",
    "    page_content=\"Wow! That was an amazing movie. I can't wait to see it again.\",\n",
    "    metadata={\"source\": \"tweet\"},\n",
    ")\n",
    "\n",
    "document_6 = Document(\n",
    "    page_content=\"Is the new iPhone worth the price? Read this review to find out.\",\n",
    "    metadata={\"source\": \"website\"},\n",
    ")\n",
    "\n",
    "document_7 = Document(\n",
    "    page_content=\"The top 10 soccer players in the world right now.\",\n",
    "    metadata={\"source\": \"website\"},\n",
    ")\n",
    "\n",
    "document_8 = Document(\n",
    "    page_content=\"LangGraph is the best framework for building stateful, agentic applications!\",\n",
    "    metadata={\"source\": \"tweet\"},\n",
    ")\n",
    "\n",
    "document_9 = Document(\n",
    "    page_content=\"The stock market is down 500 points today due to fears of a recession.\",\n",
    "    metadata={\"source\": \"news\"},\n",
    ")\n",
    "\n",
    "document_10 = Document(\n",
    "    page_content=\"I have a bad feeling I am going to get deleted :(\",\n",
    "    metadata={\"source\": \"tweet\"},\n",
    ")\n"
   ]
  },
  {
   "cell_type": "code",
   "execution_count": 30,
   "id": "a76d5160",
   "metadata": {},
   "outputs": [],
   "source": [
    "documents = [\n",
    "    document_1,\n",
    "    document_2,\n",
    "    document_3,\n",
    "    document_4,\n",
    "    document_5,\n",
    "    document_6,\n",
    "    document_7,\n",
    "    document_8,\n",
    "    document_9,\n",
    "    document_10,\n",
    "]"
   ]
  },
  {
   "cell_type": "code",
   "execution_count": 31,
   "id": "c605eca2",
   "metadata": {},
   "outputs": [
    {
     "data": {
      "text/plain": [
       "[Document(metadata={'source': 'tweet'}, page_content='I had chocolate chip pancakes and scrambled eggs for breakfast this morning.'),\n",
       " Document(metadata={'source': 'news'}, page_content='The weather forecast for tomorrow is cloudy and overcast, with a high of 62 degrees.'),\n",
       " Document(metadata={'source': 'tweet'}, page_content='Building an exciting new project with LangChain - come check it out!'),\n",
       " Document(metadata={'source': 'news'}, page_content='Robbers broke into the city bank and stole $1 million in cash.'),\n",
       " Document(metadata={'source': 'tweet'}, page_content=\"Wow! That was an amazing movie. I can't wait to see it again.\"),\n",
       " Document(metadata={'source': 'website'}, page_content='Is the new iPhone worth the price? Read this review to find out.'),\n",
       " Document(metadata={'source': 'website'}, page_content='The top 10 soccer players in the world right now.'),\n",
       " Document(metadata={'source': 'tweet'}, page_content='LangGraph is the best framework for building stateful, agentic applications!'),\n",
       " Document(metadata={'source': 'news'}, page_content='The stock market is down 500 points today due to fears of a recession.'),\n",
       " Document(metadata={'source': 'tweet'}, page_content='I have a bad feeling I am going to get deleted :(')]"
      ]
     },
     "execution_count": 31,
     "metadata": {},
     "output_type": "execute_result"
    }
   ],
   "source": [
    "documents"
   ]
  },
  {
   "cell_type": "code",
   "execution_count": 32,
   "id": "35967003",
   "metadata": {},
   "outputs": [
    {
     "data": {
      "text/plain": [
       "10"
      ]
     },
     "execution_count": 32,
     "metadata": {},
     "output_type": "execute_result"
    }
   ],
   "source": [
    "len(documents)"
   ]
  },
  {
   "cell_type": "code",
   "execution_count": 33,
   "id": "4257d8bb",
   "metadata": {},
   "outputs": [
    {
     "data": {
      "text/plain": [
       "range(0, 10)"
      ]
     },
     "execution_count": 33,
     "metadata": {},
     "output_type": "execute_result"
    }
   ],
   "source": [
    "range(len(documents))"
   ]
  },
  {
   "cell_type": "code",
   "execution_count": 34,
   "id": "e6a0b70c",
   "metadata": {},
   "outputs": [
    {
     "name": "stdout",
     "output_type": "stream",
     "text": [
      "0\n",
      "fb38bde8-baac-4129-8d23-41eed85c8bd6\n",
      "1\n",
      "20c20d88-3f1d-4b76-90a0-e07bdaacbe84\n",
      "2\n",
      "d5cfa931-78a1-463b-bd23-b41336dada7f\n",
      "3\n",
      "6e1b62f7-7410-41f5-9a88-4f60607c36da\n",
      "4\n",
      "ae185029-702a-4056-931e-bd877933bcb4\n",
      "5\n",
      "adae158f-7c74-41ff-8f6c-d4a023852ad2\n",
      "6\n",
      "d7f80285-4ef2-4df1-9f35-26b6fd40864b\n",
      "7\n",
      "548dbfa7-f21d-470f-8fcd-1f5f7ed4830a\n",
      "8\n",
      "b6cc0619-9cfd-4a7d-b626-591b53de4617\n",
      "9\n",
      "0feb7a96-de86-4e99-a79c-5a2625f9c39e\n"
     ]
    }
   ],
   "source": [
    "for _ in range(len(documents)):\n",
    "    print(_)\n",
    "    print(str(uuid4()))\n",
    "    "
   ]
  },
  {
   "cell_type": "code",
   "execution_count": 35,
   "id": "6ae9fa7e",
   "metadata": {},
   "outputs": [],
   "source": [
    "#universal indentification number\n",
    "uuids = [str(uuid4()) for _ in range(len(documents))] # -> it's automatically generated with FAISS"
   ]
  },
  {
   "cell_type": "code",
   "execution_count": 36,
   "id": "d9675772",
   "metadata": {},
   "outputs": [
    {
     "data": {
      "text/plain": [
       "['ea3353a8-df38-4043-8eb5-271a37e88bad',\n",
       " 'c072a87d-74cf-49b1-85dd-a4fd3092084c',\n",
       " '8c80af33-db61-493b-968e-9d9520cdb82b',\n",
       " '7ed2644a-7180-4cb8-87e2-a46e9148df1c',\n",
       " '28810865-4b0d-432b-a0fb-8b76ea9255b5',\n",
       " '921eddd8-252d-4439-bb49-8305fd83ef98',\n",
       " '4a13f02d-ac41-42cb-8003-7e4ad95fac8a',\n",
       " '5c092720-9853-47e7-a7ed-6f8548ce9b1a',\n",
       " 'e1c0ee54-8b99-47ec-92cd-9c25e0c7a36c',\n",
       " 'daffc073-692e-4521-a2fa-5e24268b9a72']"
      ]
     },
     "execution_count": 36,
     "metadata": {},
     "output_type": "execute_result"
    }
   ],
   "source": [
    "uuids"
   ]
  },
  {
   "cell_type": "code",
   "execution_count": 37,
   "id": "ce63eb1b",
   "metadata": {},
   "outputs": [
    {
     "data": {
      "text/plain": [
       "['ea3353a8-df38-4043-8eb5-271a37e88bad',\n",
       " 'c072a87d-74cf-49b1-85dd-a4fd3092084c',\n",
       " '8c80af33-db61-493b-968e-9d9520cdb82b',\n",
       " '7ed2644a-7180-4cb8-87e2-a46e9148df1c',\n",
       " '28810865-4b0d-432b-a0fb-8b76ea9255b5',\n",
       " '921eddd8-252d-4439-bb49-8305fd83ef98',\n",
       " '4a13f02d-ac41-42cb-8003-7e4ad95fac8a',\n",
       " '5c092720-9853-47e7-a7ed-6f8548ce9b1a',\n",
       " 'e1c0ee54-8b99-47ec-92cd-9c25e0c7a36c',\n",
       " 'daffc073-692e-4521-a2fa-5e24268b9a72']"
      ]
     },
     "execution_count": 37,
     "metadata": {},
     "output_type": "execute_result"
    }
   ],
   "source": [
    "vector_store.add_documents(documents=documents, ids=uuids) # we add documents to vector_store with defined universal indentifaction number"
   ]
  },
  {
   "cell_type": "code",
   "execution_count": 38,
   "id": "69962411",
   "metadata": {},
   "outputs": [],
   "source": [
    "results = vector_store.similarity_search(\"what langchain provides to us?\",k=1)"
   ]
  },
  {
   "cell_type": "code",
   "execution_count": 39,
   "id": "bd992031",
   "metadata": {},
   "outputs": [
    {
     "data": {
      "text/plain": [
       "[Document(id='8c80af33-db61-493b-968e-9d9520cdb82b', metadata={'source': 'tweet'}, page_content='Building an exciting new project with LangChain - come check it out!')]"
      ]
     },
     "execution_count": 39,
     "metadata": {},
     "output_type": "execute_result"
    }
   ],
   "source": [
    "results"
   ]
  },
  {
   "cell_type": "code",
   "execution_count": 42,
   "id": "f97b34c4",
   "metadata": {},
   "outputs": [],
   "source": [
    "results = vector_store.similarity_search(\"what langchain provides to us?\",k=2,filter={\"source\": \"tweet\"})"
   ]
  },
  {
   "cell_type": "code",
   "execution_count": 43,
   "id": "a5ef1293",
   "metadata": {},
   "outputs": [
    {
     "data": {
      "text/plain": [
       "[Document(id='8c80af33-db61-493b-968e-9d9520cdb82b', metadata={'source': 'tweet'}, page_content='Building an exciting new project with LangChain - come check it out!'),\n",
       " Document(id='5c092720-9853-47e7-a7ed-6f8548ce9b1a', metadata={'source': 'tweet'}, page_content='LangGraph is the best framework for building stateful, agentic applications!')]"
      ]
     },
     "execution_count": 43,
     "metadata": {},
     "output_type": "execute_result"
    }
   ],
   "source": [
    "results"
   ]
  },
  {
   "cell_type": "code",
   "execution_count": 47,
   "id": "06c03bf0",
   "metadata": {},
   "outputs": [],
   "source": [
    "retriever=vector_store.as_retriever(\n",
    "    search_type=\"similarity_score_threshold\",\n",
    "    search_kwargs={\"k\":3,\"score_threshold\": 0.7} #hyperparameter -> similarity level based on cos similarity + k closest matches\n",
    ")"
   ]
  },
  {
   "cell_type": "code",
   "execution_count": 48,
   "id": "953de741",
   "metadata": {},
   "outputs": [
    {
     "data": {
      "text/plain": [
       "[Document(id='8c80af33-db61-493b-968e-9d9520cdb82b', metadata={'source': 'tweet'}, page_content='Building an exciting new project with LangChain - come check it out!'),\n",
       " Document(id='5c092720-9853-47e7-a7ed-6f8548ce9b1a', metadata={'source': 'tweet'}, page_content='LangGraph is the best framework for building stateful, agentic applications!'),\n",
       " Document(id='daffc073-692e-4521-a2fa-5e24268b9a72', metadata={'source': 'tweet'}, page_content='I have a bad feeling I am going to get deleted :(')]"
      ]
     },
     "execution_count": 48,
     "metadata": {},
     "output_type": "execute_result"
    }
   ],
   "source": [
    "retriever.invoke(\"langchain\")"
   ]
  },
  {
   "cell_type": "code",
   "execution_count": 49,
   "id": "8ba892cf",
   "metadata": {},
   "outputs": [
    {
     "data": {
      "text/plain": [
       "[Document(id='8c80af33-db61-493b-968e-9d9520cdb82b', metadata={'source': 'tweet'}, page_content='Building an exciting new project with LangChain - come check it out!'),\n",
       " Document(id='daffc073-692e-4521-a2fa-5e24268b9a72', metadata={'source': 'tweet'}, page_content='I have a bad feeling I am going to get deleted :('),\n",
       " Document(id='5c092720-9853-47e7-a7ed-6f8548ce9b1a', metadata={'source': 'tweet'}, page_content='LangGraph is the best framework for building stateful, agentic applications!')]"
      ]
     },
     "execution_count": 49,
     "metadata": {},
     "output_type": "execute_result"
    }
   ],
   "source": [
    "retriever.invoke(\"google\")"
   ]
  },
  {
   "cell_type": "code",
   "execution_count": 50,
   "id": "45cb073c",
   "metadata": {},
   "outputs": [],
   "source": [
    "from langchain_google_genai import ChatGoogleGenerativeAI\n",
    "model=ChatGoogleGenerativeAI(model='gemini-1.5-flash')"
   ]
  },
  {
   "cell_type": "code",
   "execution_count": null,
   "id": "6022e463",
   "metadata": {},
   "outputs": [],
   "source": [
    "from langchain import hub\n",
    "prompt = hub.pull(\"rlm/rag-prompt\") # we use rag-prompt"
   ]
  },
  {
   "cell_type": "code",
   "execution_count": 52,
   "id": "69e1fa93",
   "metadata": {},
   "outputs": [
    {
     "name": "stdout",
     "output_type": "stream",
     "text": [
      "[HumanMessagePromptTemplate(prompt=PromptTemplate(input_variables=['context', 'question'], input_types={}, partial_variables={}, template=\"You are an assistant for question-answering tasks. Use the following pieces of retrieved context to answer the question. If you don't know the answer, just say that you don't know. Use three sentences maximum and keep the answer concise.\\nQuestion: {question} \\nContext: {context} \\nAnswer:\"), additional_kwargs={})]\n"
     ]
    }
   ],
   "source": [
    "import pprint\n",
    "pprint.pprint(prompt.messages)"
   ]
  },
  {
   "cell_type": "markdown",
   "id": "a02dc2a9",
   "metadata": {},
   "source": [
    "[HumanMessagePromptTemplate(prompt=PromptTemplate(input_variables=['context', 'question'], input_types={}, partial_variables={}, template=\"You are an assistant for question-answering tasks. Use the following pieces of retrieved context to answer the question. If you don't know the answer, just say that you don't know. Use three sentences maximum and keep the answer concise.\\nQuestion: {question} \\nContext: {context} \\nAnswer:\"), additional_kwargs={})]"
   ]
  },
  {
   "cell_type": "code",
   "execution_count": 53,
   "id": "eb0c1016",
   "metadata": {},
   "outputs": [],
   "source": [
    "from langchain_core.prompts import PromptTemplate"
   ]
  },
  {
   "cell_type": "code",
   "execution_count": 54,
   "id": "ee76fd02",
   "metadata": {},
   "outputs": [],
   "source": [
    "prompt=PromptTemplate(\n",
    "    template=\"\"\"You are an assistant for question-answering tasks. Use the following pieces of retrieved context to answer the question. If you don't know the answer, just say that you don't know. Use three sentences maximum and keep the answer concise.\\nQuestion: {question} \\nContext: {context} \\nAnswer:\"\"\",\n",
    "    input_variables=['context', 'question']\n",
    ")"
   ]
  },
  {
   "cell_type": "code",
   "execution_count": 55,
   "id": "e3f7e9ae",
   "metadata": {},
   "outputs": [
    {
     "data": {
      "text/plain": [
       "PromptTemplate(input_variables=['context', 'question'], input_types={}, partial_variables={}, template=\"You are an assistant for question-answering tasks. Use the following pieces of retrieved context to answer the question. If you don't know the answer, just say that you don't know. Use three sentences maximum and keep the answer concise.\\nQuestion: {question} \\nContext: {context} \\nAnswer:\")"
      ]
     },
     "execution_count": 55,
     "metadata": {},
     "output_type": "execute_result"
    }
   ],
   "source": [
    "prompt"
   ]
  },
  {
   "cell_type": "code",
   "execution_count": 56,
   "id": "b7473c20",
   "metadata": {},
   "outputs": [
    {
     "data": {
      "text/plain": [
       "StringPromptValue(text=\"You are an assistant for question-answering tasks. Use the following pieces of retrieved context to answer the question. If you don't know the answer, just say that you don't know. Use three sentences maximum and keep the answer concise.\\nQuestion: what is a langchain? \\nContext: langchain is very super framework for LLM. \\nAnswer:\")"
      ]
     },
     "execution_count": 56,
     "metadata": {},
     "output_type": "execute_result"
    }
   ],
   "source": [
    "prompt.invoke({\"question\":\"what is a langchain?\",\"context\":\"langchain is very super framework for LLM.\"}) # question and context are needed parameters as langchain picks and submits them into Prompt"
   ]
  },
  {
   "cell_type": "markdown",
   "id": "0ef6f914",
   "metadata": {},
   "source": [
    "StringPromptValue(text=\"You are an assistant for question-answering tasks. Use the following pieces of retrieved context to answer the question. If you don't know the answer, just say that you don't know. Use three sentences maximum and keep the answer concise.\\nQuestion: what is a langchain? \\nContext: langchain is very super framework for LLM. \\nAnswer:\")"
   ]
  },
  {
   "cell_type": "code",
   "execution_count": 57,
   "id": "f69c4577",
   "metadata": {},
   "outputs": [],
   "source": [
    "from langchain_core.output_parsers import StrOutputParser\n",
    "from langchain_core.runnables import RunnablePassthrough"
   ]
  },
  {
   "cell_type": "code",
   "execution_count": 58,
   "id": "61417850",
   "metadata": {},
   "outputs": [],
   "source": [
    "def format_docs(docs):\n",
    "    return \"\\n\\n\".join(doc.page_content for doc in docs)"
   ]
  },
  {
   "cell_type": "code",
   "execution_count": 59,
   "id": "55165cd1",
   "metadata": {},
   "outputs": [],
   "source": [
    "rag_chain = (\n",
    "    {\"context\": retriever | format_docs, \"question\": RunnablePassthrough()}\n",
    "    | prompt\n",
    "    | model\n",
    "    | StrOutputParser()\n",
    ")"
   ]
  },
  {
   "cell_type": "code",
   "execution_count": 60,
   "id": "3f0f4b76",
   "metadata": {},
   "outputs": [
    {
     "data": {
      "text/plain": [
       "\"I don't know.  The provided text does not contain information about Llama models.\""
      ]
     },
     "execution_count": 60,
     "metadata": {},
     "output_type": "execute_result"
    }
   ],
   "source": [
    "rag_chain.invoke(\"what is llama model?\")"
   ]
  },
  {
   "cell_type": "markdown",
   "id": "22974d64",
   "metadata": {},
   "source": [
    "# second assisgnment is: take a multiple pdf with text,image,table\n",
    "1. fetch the data from pdf\n",
    "2. at lesat there should be 200 pages\n",
    "3. if chunking(use the sementic chunking technique) required do chunking and then embedding\n",
    "4. store it inside the vector database(use any of them 1. mongodb 2. astradb 3. opensearch 4.milvus) ## i have not discuss then you need to explore\n",
    "5. create a index with all three index machnism(Flat, HNSW, IVF) ## i have not discuss then you need to explore\n",
    "6. create a retriever pipeline\n",
    "7. check the retriever time(which one is fastet)\n",
    "8. print the accuray score of every similarity search\n",
    "9. perform the reranking either using BM25 or MMR ## i have not discuss then you need to explore\n",
    "10. then write a prompt template\n",
    "11. generte a oputput through llm\n",
    "12. render that output over the DOCx ## i have not discuss then you need to explore\n",
    "as a additional tip: you can follow rag playlist from my youtube\n",
    "\n",
    "after completing it keep it on your github and share that link on my  mail id:\n",
    "snshrivas3365@gmail.com\n",
    "\n",
    "and share the assignment in your community chat as well by tagging krish and sunny\n",
    "\n",
    "deadline is: till firday 9PM\n",
    "   "
   ]
  }
 ],
 "metadata": {
  "kernelspec": {
   "display_name": ".venv",
   "language": "python",
   "name": "python3"
  },
  "language_info": {
   "codemirror_mode": {
    "name": "ipython",
    "version": 3
   },
   "file_extension": ".py",
   "mimetype": "text/x-python",
   "name": "python",
   "nbconvert_exporter": "python",
   "pygments_lexer": "ipython3",
   "version": "3.13.2"
  }
 },
 "nbformat": 4,
 "nbformat_minor": 5
}
