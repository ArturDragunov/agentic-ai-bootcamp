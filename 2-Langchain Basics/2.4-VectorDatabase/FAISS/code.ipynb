{
 "cells": [
  {
   "cell_type": "code",
   "execution_count": 1,
   "id": "1661b601",
   "metadata": {},
   "outputs": [],
   "source": [
    "from dotenv import load_dotenv"
   ]
  },
  {
   "cell_type": "code",
   "execution_count": 2,
   "id": "52932171",
   "metadata": {},
   "outputs": [
    {
     "data": {
      "text/plain": [
       "True"
      ]
     },
     "execution_count": 2,
     "metadata": {},
     "output_type": "execute_result"
    }
   ],
   "source": [
    "load_dotenv()"
   ]
  },
  {
   "cell_type": "code",
   "execution_count": 3,
   "id": "a50f1721",
   "metadata": {},
   "outputs": [],
   "source": [
    "import os\n",
    "os.environ['HF_TOKEN']=os.getenv(\"HUGGINGFACEHUB_API_TOKEN\")"
   ]
  },
  {
   "cell_type": "code",
   "execution_count": 4,
   "id": "4b346173",
   "metadata": {},
   "outputs": [
    {
     "name": "stderr",
     "output_type": "stream",
     "text": [
      "c:\\Users\\Artur Dragunov\\Documents\\GIT\\agentic-ai-bootcamp\\.venv\\Lib\\site-packages\\tqdm\\auto.py:21: TqdmWarning: IProgress not found. Please update jupyter and ipywidgets. See https://ipywidgets.readthedocs.io/en/stable/user_install.html\n",
      "  from .autonotebook import tqdm as notebook_tqdm\n"
     ]
    }
   ],
   "source": [
    "from langchain_huggingface import HuggingFaceEmbeddings\n",
    "embeddings=HuggingFaceEmbeddings(model_name=\"all-MiniLM-L6-v2\")"
   ]
  },
  {
   "cell_type": "code",
   "execution_count": 5,
   "id": "bc60b488",
   "metadata": {},
   "outputs": [
    {
     "data": {
      "text/plain": [
       "[-0.033388201147317886,\n",
       " 0.034539803862571716,\n",
       " 0.059474579989910126,\n",
       " 0.05928615480661392,\n",
       " -0.06353538483381271,\n",
       " -0.06819586455821991,\n",
       " 0.08823323249816895,\n",
       " 0.0344407856464386,\n",
       " -0.03278515860438347,\n",
       " -0.015814995393157005,\n",
       " 0.020981667563319206,\n",
       " -0.018340280279517174,\n",
       " -0.03983214125037193,\n",
       " -0.08047076314687729,\n",
       " -0.014469259418547153,\n",
       " 0.03326486423611641,\n",
       " 0.01425926387310028,\n",
       " -0.03404999524354935,\n",
       " -0.142915740609169,\n",
       " -0.023083265870809555,\n",
       " -0.02138010412454605,\n",
       " 0.0026335634756833315,\n",
       " -0.04729275032877922,\n",
       " -0.010752726346254349,\n",
       " -0.06866799294948578,\n",
       " 0.03112499974668026,\n",
       " 0.07594592869281769,\n",
       " 0.0011283049825578928,\n",
       " 0.011631982401013374,\n",
       " -0.036039214581251144,\n",
       " 0.04483765363693237,\n",
       " 0.01839079149067402,\n",
       " 0.12672799825668335,\n",
       " -0.001359735382720828,\n",
       " 0.008206715807318687,\n",
       " 0.06909963488578796,\n",
       " -0.0807635709643364,\n",
       " -0.05841311439871788,\n",
       " 0.05375451594591141,\n",
       " 0.026227623224258423,\n",
       " -0.00682859867811203,\n",
       " -0.05635840445756912,\n",
       " 0.0032929950393736362,\n",
       " -0.07250180840492249,\n",
       " 0.06960921734571457,\n",
       " 0.031674399971961975,\n",
       " -0.012384780682623386,\n",
       " 0.023199237883090973,\n",
       " 0.08131053298711777,\n",
       " 0.00027830112958326936,\n",
       " -0.12659239768981934,\n",
       " -0.04998629540205002,\n",
       " -0.03565254062414169,\n",
       " 0.04856065660715103,\n",
       " 0.09733067452907562,\n",
       " 0.06224418804049492,\n",
       " -0.037504829466342926,\n",
       " 0.008118381723761559,\n",
       " 0.027651414275169373,\n",
       " -0.043216656893491745,\n",
       " 0.01624850183725357,\n",
       " 0.0022868122905492783,\n",
       " 0.003097043139860034,\n",
       " -0.015322081744670868,\n",
       " 0.03742990642786026,\n",
       " -0.010506647638976574,\n",
       " -0.05321492254734039,\n",
       " -0.039694707840681076,\n",
       " -0.052877578884363174,\n",
       " -0.030448229983448982,\n",
       " -0.011697022244334221,\n",
       " 0.07245180755853653,\n",
       " -0.07213432341814041,\n",
       " 0.039102256298065186,\n",
       " -0.03716370463371277,\n",
       " 0.026422275230288506,\n",
       " 0.026734258979558945,\n",
       " -0.031146880239248276,\n",
       " 0.06340930610895157,\n",
       " -0.01694674789905548,\n",
       " 0.0063436501659452915,\n",
       " -0.02548304758965969,\n",
       " -0.015998929738998413,\n",
       " 0.01468464732170105,\n",
       " -0.04103194549679756,\n",
       " 0.056689441204071045,\n",
       " 0.051890779286623,\n",
       " 0.012766428291797638,\n",
       " 0.010396684519946575,\n",
       " 0.036034632474184036,\n",
       " -0.07487251609563828,\n",
       " 0.022285528481006622,\n",
       " 0.05366942659020424,\n",
       " 0.021017184481024742,\n",
       " 0.01070323120802641,\n",
       " 0.011209463700652122,\n",
       " 0.022165242582559586,\n",
       " -0.03350186347961426,\n",
       " -0.13790257275104523,\n",
       " 0.17661654949188232,\n",
       " 0.03291358798742294,\n",
       " 0.07648545503616333,\n",
       " -0.056457702070474625,\n",
       " 0.03820186108350754,\n",
       " -0.05886796861886978,\n",
       " 0.016183679923415184,\n",
       " -0.0029855016618967056,\n",
       " 0.008209964260458946,\n",
       " 0.026603659614920616,\n",
       " 0.034101277589797974,\n",
       " -0.003371298545971513,\n",
       " -0.04683653265237808,\n",
       " 0.029342366382479668,\n",
       " -0.018165402114391327,\n",
       " 0.09393948316574097,\n",
       " 0.0166737362742424,\n",
       " -0.016232209280133247,\n",
       " 0.07100321352481842,\n",
       " 0.04189832881093025,\n",
       " -0.012874997220933437,\n",
       " 0.02733328379690647,\n",
       " -0.037691812962293625,\n",
       " -0.010565720498561859,\n",
       " 0.08810009807348251,\n",
       " 0.03338446468114853,\n",
       " -0.0023000610526651144,\n",
       " -0.020081721246242523,\n",
       " -3.438964926654251e-33,\n",
       " 0.003885385813191533,\n",
       " -0.045698028057813644,\n",
       " 0.03672376647591591,\n",
       " 0.10973254591226578,\n",
       " 0.005294251721352339,\n",
       " -0.03384030610322952,\n",
       " -0.057188041508197784,\n",
       " -0.03098653070628643,\n",
       " 0.0282085370272398,\n",
       " 0.014682859182357788,\n",
       " -0.0056138248182833195,\n",
       " 0.02814444899559021,\n",
       " -0.06591308861970901,\n",
       " 0.01608217880129814,\n",
       " 0.04844910651445389,\n",
       " 0.07509640604257584,\n",
       " -0.004293231759220362,\n",
       " 0.0263045746833086,\n",
       " -0.02851446531713009,\n",
       " 0.022873952984809875,\n",
       " -0.05280346795916557,\n",
       " -0.060665033757686615,\n",
       " 0.019528521224856377,\n",
       " 0.054101862013339996,\n",
       " 0.02175346203148365,\n",
       " -0.025309914723038673,\n",
       " 0.03161471337080002,\n",
       " -0.12111620604991913,\n",
       " 0.04928331449627876,\n",
       " 0.0027341076638549566,\n",
       " -0.038959283381700516,\n",
       " -0.02350742183625698,\n",
       " 0.010390612296760082,\n",
       " 0.02667587250471115,\n",
       " -0.02038608305156231,\n",
       " 0.013104474171996117,\n",
       " 0.012831296771764755,\n",
       " -0.027721179649233818,\n",
       " -0.07600441575050354,\n",
       " 0.03969912976026535,\n",
       " -0.06335607916116714,\n",
       " 0.06014363095164299,\n",
       " 0.05248519778251648,\n",
       " 0.008374607190489769,\n",
       " 0.015201497822999954,\n",
       " -0.01872258633375168,\n",
       " 0.01212179847061634,\n",
       " -0.014375110156834126,\n",
       " 0.033597685396671295,\n",
       " -0.01308043859899044,\n",
       " -0.06113573908805847,\n",
       " 0.029406405985355377,\n",
       " -0.09374042600393295,\n",
       " -0.002057623350992799,\n",
       " 0.024026259779930115,\n",
       " -0.04306028410792351,\n",
       " -0.03385312110185623,\n",
       " -0.0036304700188338757,\n",
       " 0.005760235246270895,\n",
       " 0.01923433318734169,\n",
       " 0.024349471554160118,\n",
       " 0.0710911750793457,\n",
       " -0.044834986329078674,\n",
       " 0.07316724956035614,\n",
       " -0.08264461904764175,\n",
       " 0.0054279230535030365,\n",
       " 0.023218734189867973,\n",
       " 0.060967519879341125,\n",
       " 0.09460730105638504,\n",
       " -0.014135172590613365,\n",
       " -0.041771095246076584,\n",
       " -0.027401898056268692,\n",
       " 0.03853408619761467,\n",
       " -0.007350042928010225,\n",
       " -0.007266181521117687,\n",
       " 0.048032596707344055,\n",
       " -0.011426649056375027,\n",
       " -0.06901123374700546,\n",
       " 0.037151314318180084,\n",
       " -0.06476700305938721,\n",
       " -0.06643083691596985,\n",
       " -0.001176641322672367,\n",
       " -0.02179589308798313,\n",
       " -0.007523735519498587,\n",
       " 0.06725426018238068,\n",
       " 0.008094736374914646,\n",
       " -0.038112886250019073,\n",
       " -0.08759458363056183,\n",
       " 0.03036235086619854,\n",
       " -0.042037904262542725,\n",
       " -0.06107688695192337,\n",
       " 0.012958253733813763,\n",
       " 0.005050809122622013,\n",
       " 0.018419791013002396,\n",
       " -0.12826380133628845,\n",
       " 2.62487429361136e-33,\n",
       " 0.0888892412185669,\n",
       " 0.03213626891374588,\n",
       " -0.10708096623420715,\n",
       " -0.016275160014629364,\n",
       " -0.0415031798183918,\n",
       " 0.0020868987776339054,\n",
       " -0.06067206710577011,\n",
       " 0.1204824447631836,\n",
       " -0.08354715257883072,\n",
       " 0.05011679232120514,\n",
       " 0.0011805907124653459,\n",
       " -0.05077018216252327,\n",
       " 0.059968817979097366,\n",
       " 0.054858896881341934,\n",
       " 0.06972207129001617,\n",
       " 0.004157168325036764,\n",
       " 0.12240331619977951,\n",
       " 0.03817792609333992,\n",
       " -0.01899203658103943,\n",
       " 0.012684145011007786,\n",
       " -0.03257124498486519,\n",
       " 0.02660112828016281,\n",
       " -0.059803131967782974,\n",
       " -0.024400964379310608,\n",
       " -0.016547169536352158,\n",
       " 0.02027438022196293,\n",
       " -0.023540074005723,\n",
       " 0.08794984966516495,\n",
       " -0.09462472051382065,\n",
       " -0.056649498641490936,\n",
       " 0.07793808728456497,\n",
       " -0.0145401731133461,\n",
       " -0.04598597437143326,\n",
       " 0.03597734868526459,\n",
       " 0.01722737029194832,\n",
       " 0.1085493341088295,\n",
       " 0.023995401337742805,\n",
       " -0.09443827718496323,\n",
       " 0.021734846755862236,\n",
       " -0.035141877830028534,\n",
       " -0.015563040971755981,\n",
       " -0.00905606523156166,\n",
       " -0.026420576497912407,\n",
       " 0.09819944202899933,\n",
       " -0.051732853055000305,\n",
       " -0.05118061974644661,\n",
       " -0.04413073882460594,\n",
       " 0.060778889805078506,\n",
       " -0.01092186663299799,\n",
       " -0.0016202396946027875,\n",
       " -0.12291138619184494,\n",
       " -0.08137030154466629,\n",
       " -0.023045791313052177,\n",
       " -0.050796691328287125,\n",
       " -0.1166769489645958,\n",
       " 0.025221604853868484,\n",
       " -0.019859882071614265,\n",
       " 0.04968450590968132,\n",
       " -0.013690246269106865,\n",
       " 0.004341193940490484,\n",
       " -0.014368368312716484,\n",
       " 0.04770711064338684,\n",
       " 0.03718505799770355,\n",
       " 0.02282983809709549,\n",
       " -0.04654855653643608,\n",
       " 0.06936842948198318,\n",
       " -0.02132510021328926,\n",
       " 0.02957007847726345,\n",
       " 0.0009862963343039155,\n",
       " -0.0332183837890625,\n",
       " 0.04180171340703964,\n",
       " -0.005182821769267321,\n",
       " -0.020640278235077858,\n",
       " 0.04860807582736015,\n",
       " -0.04133269563317299,\n",
       " -0.005364660173654556,\n",
       " -0.02189500257372856,\n",
       " 0.02127024158835411,\n",
       " 0.018460959196090698,\n",
       " -0.03659111261367798,\n",
       " -0.057284701615571976,\n",
       " -0.003445934969931841,\n",
       " -0.04625878483057022,\n",
       " 0.05134572461247444,\n",
       " 0.025934023782610893,\n",
       " 0.03859254717826843,\n",
       " 0.06607189774513245,\n",
       " -0.01730244792997837,\n",
       " -0.01059806253761053,\n",
       " 0.022652043029665947,\n",
       " 0.03672377020120621,\n",
       " 0.03584650531411171,\n",
       " 0.012036584317684174,\n",
       " 0.03178591653704643,\n",
       " -0.12105198204517365,\n",
       " -1.513083525139791e-08,\n",
       " 0.006866068113595247,\n",
       " -0.027710258960723877,\n",
       " 0.08934702724218369,\n",
       " 0.07790025323629379,\n",
       " 0.06404796987771988,\n",
       " 0.03166110813617706,\n",
       " -0.07114409655332565,\n",
       " -0.04326840490102768,\n",
       " -0.03240786865353584,\n",
       " -0.021455753594636917,\n",
       " -0.00830535963177681,\n",
       " 0.0380602590739727,\n",
       " -0.00011358146730344743,\n",
       " 0.012233693152666092,\n",
       " 0.12013918161392212,\n",
       " 0.03023669682443142,\n",
       " -0.05191420763731003,\n",
       " -0.011444023810327053,\n",
       " -0.04784311726689339,\n",
       " -0.07834547758102417,\n",
       " 0.032210297882556915,\n",
       " -0.02586168609559536,\n",
       " -0.0020645565818995237,\n",
       " -0.02923075295984745,\n",
       " -0.019974663853645325,\n",
       " -0.03496573120355606,\n",
       " -0.014112554490566254,\n",
       " 0.03993986174464226,\n",
       " -0.06896212697029114,\n",
       " 0.05589039996266365,\n",
       " -0.012570522725582123,\n",
       " 0.18196909129619598,\n",
       " -0.012776450254023075,\n",
       " -0.0011512666242197156,\n",
       " 0.028124788776040077,\n",
       " 0.011322940699756145,\n",
       " 0.04628046602010727,\n",
       " 0.016169795766472816,\n",
       " 0.026298951357603073,\n",
       " -0.054048750549554825,\n",
       " -0.026807144284248352,\n",
       " 0.06764830648899078,\n",
       " 0.010659350082278252,\n",
       " -0.1292617917060852,\n",
       " 0.06938320398330688,\n",
       " 0.030720476061105728,\n",
       " 0.03887750953435898,\n",
       " -0.14078205823898315,\n",
       " 0.051911916583776474,\n",
       " -0.0679067075252533,\n",
       " -0.02985662966966629,\n",
       " 0.01736200973391533,\n",
       " 0.08236216753721237,\n",
       " 0.11180814355611801,\n",
       " 0.09893389791250229,\n",
       " 0.057195425033569336,\n",
       " 0.0159031692892313,\n",
       " -0.04091336578130722,\n",
       " -0.012436417862772942,\n",
       " 0.020249152556061745,\n",
       " 0.06743750721216202,\n",
       " 0.03933357074856758,\n",
       " 0.052080992609262466,\n",
       " -0.019405055791139603]"
      ]
     },
     "execution_count": 5,
     "metadata": {},
     "output_type": "execute_result"
    }
   ],
   "source": [
    "embeddings.embed_query(\"hello AI\")"
   ]
  },
  {
   "cell_type": "code",
   "execution_count": 7,
   "id": "da366a6a",
   "metadata": {},
   "outputs": [],
   "source": [
    "from sklearn.metrics.pairwise import cosine_similarity"
   ]
  },
  {
   "cell_type": "code",
   "execution_count": 8,
   "id": "30b09b35",
   "metadata": {},
   "outputs": [],
   "source": [
    "documents=[\"what is a capital of USA?\",\n",
    "           \"Who is a president of USA?\",\n",
    "           \"Who is a prime minister of India?\"]"
   ]
  },
  {
   "cell_type": "code",
   "execution_count": 9,
   "id": "77b4d8e8",
   "metadata": {},
   "outputs": [],
   "source": [
    "my_query=\"Narendra modi is prime minister of india?\""
   ]
  },
  {
   "cell_type": "code",
   "execution_count": 10,
   "id": "9ee7cad4",
   "metadata": {},
   "outputs": [],
   "source": [
    "document_embedding=embeddings.embed_documents(documents)"
   ]
  },
  {
   "cell_type": "code",
   "execution_count": 12,
   "id": "afd4456c",
   "metadata": {},
   "outputs": [
    {
     "data": {
      "text/plain": [
       "3"
      ]
     },
     "execution_count": 12,
     "metadata": {},
     "output_type": "execute_result"
    }
   ],
   "source": [
    "len(document_embedding) # each string got its own vector representation"
   ]
  },
  {
   "cell_type": "code",
   "execution_count": 13,
   "id": "469b930d",
   "metadata": {},
   "outputs": [],
   "source": [
    "query_embedding=embeddings.embed_query(my_query) # almost the same as embed_documents but here input must be string, not list"
   ]
  },
  {
   "cell_type": "code",
   "execution_count": 14,
   "id": "6b488961",
   "metadata": {},
   "outputs": [
    {
     "data": {
      "text/plain": [
       "384"
      ]
     },
     "execution_count": 14,
     "metadata": {},
     "output_type": "execute_result"
    }
   ],
   "source": [
    "len(query_embedding)"
   ]
  },
  {
   "cell_type": "code",
   "execution_count": 15,
   "id": "eeb8b4ec",
   "metadata": {},
   "outputs": [
    {
     "data": {
      "text/plain": [
       "array([[0.11756665, 0.3432456 , 0.8141324 ]])"
      ]
     },
     "execution_count": 15,
     "metadata": {},
     "output_type": "execute_result"
    }
   ],
   "source": [
    "cosine_similarity([query_embedding],document_embedding) # you are comparing the cosine similarity between your query and other 3 strings. Higher means the angle between two vectors is smaller"
   ]
  },
  {
   "cell_type": "code",
   "execution_count": 16,
   "id": "30c83915",
   "metadata": {},
   "outputs": [],
   "source": [
    "from sklearn.metrics.pairwise import euclidean_distances"
   ]
  },
  {
   "cell_type": "code",
   "execution_count": 17,
   "id": "63ace3af",
   "metadata": {},
   "outputs": [
    {
     "data": {
      "text/plain": [
       "array([[1.32848288, 1.14608416, 0.60970094]])"
      ]
     },
     "execution_count": 17,
     "metadata": {},
     "output_type": "execute_result"
    }
   ],
   "source": [
    "euclidean_distances([query_embedding], document_embedding) # it represents distances between two vectors. Here, sentence three is closer to the query (smaller euclidean distance)"
   ]
  },
  {
   "cell_type": "markdown",
   "id": "a4d93966",
   "metadata": {},
   "source": [
    "# Similarity Metrics Comparison\n",
    "\n",
    "| Metric | Formula | Range | Behavior | When to Use | Limitations | Notes |\n",
    "|--------|---------|--------|----------|-------------|-------------|-------|\n",
    "| **Cosine Similarity** | `cos(θ) = (x·y)/(‖x‖ ‖y‖)` | [-1, 1] | Focuses on angle only | High-dim sparse data, text analysis, when magnitude irrelevant | Ignores magnitude completely, undefined for zero vectors | Convert to distance: `1 - cosine_sim` |\n",
    "| **L2 Distance (Euclidean)** | `√(∑(xᵢ - yᵢ)²)` | [0, ∞) | Focuses on **magnitude + direction** | Low-dim dense data, spatial problems, similar-scale features | Scale sensitive, curse of dimensionality, requires normalization | Convert to similarity: `1/(1 + distance)` |\n",
    "| **Manhattan Distance (L1)** | `∑\\|xᵢ - yᵢ\\|` | [0, ∞) | Less sensitive to outliers | Robust to outliers, grid-like spaces, mixed data types | Still scale sensitive, less intuitive geometrically | More robust than L2 |\n",
    "| **Jaccard Similarity** | `\\|A ∩ B\\| / \\|A ∪ B\\|` | [0, 1] | Set overlap proportion | Binary/categorical data, recommendation systems | Only for binary/set data, ignores frequency | Distance: `1 - jaccard` |\n",
    "| **Hamming Distance** | `∑(xᵢ ≠ yᵢ)` | [0, n] | Count of differing positions | Binary strings, categorical data, error detection | Fixed-length vectors only, treats all differences equally | Normalized version: divide by n |\n",
    "| **Pearson Correlation** | `cov(x,y)/(σₓσᵧ)` | [-1, 1] | Linear relationship strength | Time series, when linear correlation matters | Only captures linear relationships, sensitive to outliers | Distance: `1 - \\|correlation\\|` |\n",
    "\n",
    "## Key Decision Framework\n",
    "\n",
    "### By Data Type:\n",
    "- **Continuous, similar scales** → Euclidean Distance\n",
    "- **Continuous, different scales** → Cosine Similarity (after normalization)\n",
    "- **High-dimensional sparse** → Cosine Similarity\n",
    "- **Binary/categorical** → Jaccard or Hamming\n",
    "- **Time series** → Pearson Correlation\n",
    "\n",
    "### By Problem Context:\n",
    "- **Magnitude matters** → Euclidean/Manhattan\n",
    "- **Direction/pattern matters** → Cosine\n",
    "- **Outlier robustness needed** → Manhattan\n",
    "- **Set similarity** → Jaccard\n",
    "\n",
    "### Preprocessing Requirements:\n",
    "- **L1, L2**: Standardize features with different scales\n",
    "- **Cosine**: Already scale-invariant\n",
    "- **Jaccard, Hamming**: No preprocessing needed"
   ]
  },
  {
   "cell_type": "markdown",
   "id": "f9095be6",
   "metadata": {},
   "source": [
    "FAISS is Facebook AI Similarity Search"
   ]
  },
  {
   "cell_type": "code",
   "execution_count": 18,
   "id": "81e077ca",
   "metadata": {},
   "outputs": [],
   "source": [
    "import faiss\n",
    "from langchain_community.vectorstores import FAISS\n",
    "from langchain_community.docstore.in_memory import InMemoryDocstore"
   ]
  },
  {
   "cell_type": "code",
   "execution_count": 19,
   "id": "67275a65",
   "metadata": {},
   "outputs": [],
   "source": [
    "index=faiss.IndexFlatL2(384) # inside index we will store our data. 384 is the embedding size (nr of feature representations)\n",
    "# we always have to create index! We use euclidean distance index.\n",
    "# What index does:\n",
    "# Stores vectors: Your embeddings live inside the index\n",
    "# Enables search: Provides fast nearest neighbor lookup\n",
    "# Optimizes retrieval: Uses algorithms better than brute-force comparison\n",
    "\n",
    "# L2 index \n",
    "# Flat: Brute-force exact search (no approximation)\n",
    "# L2: Uses Euclidean distance\n",
    "# 384: Must match your embedding size exactly\n",
    "\n",
    "\n",
    "# Other index types:\n",
    "\n",
    "# IndexFlatIP: Inner product (cosine similarity)\n",
    "# IndexIVFFlat: Faster approximate search\n",
    "# IndexHNSW: Graph-based fast search\n",
    "\n",
    "# The index type determines both accuracy and speed of your similarity search.\n"
   ]
  },
  {
   "cell_type": "code",
   "execution_count": 20,
   "id": "69952612",
   "metadata": {},
   "outputs": [
    {
     "data": {
      "text/plain": [
       "<faiss.swigfaiss_avx2.IndexFlatL2; proxy of <Swig Object of type 'faiss::IndexFlatL2 *' at 0x000001F241649B00> >"
      ]
     },
     "execution_count": 20,
     "metadata": {},
     "output_type": "execute_result"
    }
   ],
   "source": [
    "index"
   ]
  },
  {
   "cell_type": "code",
   "execution_count": 21,
   "id": "392701d3",
   "metadata": {},
   "outputs": [],
   "source": [
    "# creating a vector store!\n",
    "vector_store=FAISS(\n",
    "    embedding_function=embeddings, # here, hugging face\n",
    "    index=index,\n",
    "    docstore=InMemoryDocstore(),\n",
    "    index_to_docstore_id={},\n",
    ")\n"
   ]
  },
  {
   "cell_type": "code",
   "execution_count": 22,
   "id": "ffefa439",
   "metadata": {},
   "outputs": [
    {
     "data": {
      "text/plain": [
       "['d2df5d9f-062f-4473-969b-ca4d7c20947c',\n",
       " '52f88ace-7148-4b7d-8f40-703ae2c2bebc',\n",
       " '2596047a-396c-44e2-bf62-8f26ba85e26b']"
      ]
     },
     "execution_count": 22,
     "metadata": {},
     "output_type": "execute_result"
    }
   ],
   "source": [
    "vector_store.add_texts([\"AI is future\",\"AI is powerful\",\"Dogs are cute\"]) # they are automatically vectorized and added to the table"
   ]
  },
  {
   "cell_type": "code",
   "execution_count": 23,
   "id": "db6f02a5",
   "metadata": {},
   "outputs": [
    {
     "data": {
      "text/plain": [
       "{0: 'd2df5d9f-062f-4473-969b-ca4d7c20947c',\n",
       " 1: '52f88ace-7148-4b7d-8f40-703ae2c2bebc',\n",
       " 2: '2596047a-396c-44e2-bf62-8f26ba85e26b'}"
      ]
     },
     "execution_count": 23,
     "metadata": {},
     "output_type": "execute_result"
    }
   ],
   "source": [
    "vector_store.index_to_docstore_id"
   ]
  },
  {
   "cell_type": "code",
   "execution_count": 28,
   "id": "5cef8ac2",
   "metadata": {},
   "outputs": [],
   "source": [
    "results = vector_store.similarity_search(\"Tell me about AI\", k=2) # it gives you 3 closest based on L2 distance texts."
   ]
  },
  {
   "cell_type": "code",
   "execution_count": 29,
   "id": "5f24edef",
   "metadata": {},
   "outputs": [
    {
     "data": {
      "text/plain": [
       "[Document(id='52f88ace-7148-4b7d-8f40-703ae2c2bebc', metadata={}, page_content='AI is powerful'),\n",
       " Document(id='d2df5d9f-062f-4473-969b-ca4d7c20947c', metadata={}, page_content='AI is future')]"
      ]
     },
     "execution_count": 29,
     "metadata": {},
     "output_type": "execute_result"
    }
   ],
   "source": [
    "results\n"
   ]
  },
  {
   "cell_type": "markdown",
   "id": "fecf445c",
   "metadata": {},
   "source": [
    "| Feature               | `Flat`                | `IVF` (Inverted File Index)        | `HNSW` (Graph-based Index)          |\n",
    "| --------------------- | --------------------- | ---------------------------------- | ----------------------------------- |\n",
    "| Type of Search     | Exact                 | Approximate (cluster-based)        | Approximate (graph-based traversal) |\n",
    "| Speed               | Slow (linear scan)    | Fast (search only in top clusters) | Very Fast (graph walk)              |\n"
   ]
  },
  {
   "cell_type": "markdown",
   "id": "375b2f1c",
   "metadata": {},
   "source": [
    "| Dataset Size              | Recommended Index                 |\n",
    "| ------------------------- | --------------------------------- |\n",
    "| UPTO 1L                     | `IndexFlatL2` or `IndexFlatIP`    |\n",
    "| UPTO 1M                  | `IndexIVFFlat` or `IndexHNSWFlat` |\n",
    "| > 1M                      | `IndexIVFPQ` or `IndexHNSWFlat`   |\n"
   ]
  },
  {
   "cell_type": "code",
   "execution_count": 30,
   "id": "fb691fb8",
   "metadata": {},
   "outputs": [],
   "source": [
    "# from uuid import uuid4\n",
    "from langchain_core.documents import Document\n",
    "\n",
    "document_1 = Document(\n",
    "    page_content=\"I had chocolate chip pancakes and scrambled eggs for breakfast this morning.\",\n",
    "    metadata={\"source\": \"tweet\"},\n",
    ")\n",
    "\n",
    "document_2 = Document(\n",
    "    page_content=\"The weather forecast for tomorrow is cloudy and overcast, with a high of 62 degrees.\",\n",
    "    metadata={\"source\": \"news\"},\n",
    ")\n",
    "\n",
    "document_3 = Document(\n",
    "    page_content=\"Building an exciting new project with LangChain - come check it out!\",\n",
    "    metadata={\"source\": \"tweet\"},\n",
    ")\n",
    "\n",
    "document_4 = Document(\n",
    "    page_content=\"Robbers broke into the city bank and stole $1 million in cash.\",\n",
    "    metadata={\"source\": \"news\"},\n",
    ")\n",
    "\n",
    "document_5 = Document(\n",
    "    page_content=\"Wow! That was an amazing movie. I can't wait to see it again.\",\n",
    "    metadata={\"source\": \"tweet\"},\n",
    ")\n",
    "\n",
    "document_6 = Document(\n",
    "    page_content=\"Is the new iPhone worth the price? Read this review to find out.\",\n",
    "    metadata={\"source\": \"website\"},\n",
    ")\n",
    "\n",
    "document_7 = Document(\n",
    "    page_content=\"The top 10 soccer players in the world right now.\",\n",
    "    metadata={\"source\": \"website\"},\n",
    ")\n",
    "\n",
    "document_8 = Document(\n",
    "    page_content=\"LangGraph is the best framework for building stateful, agentic applications!\",\n",
    "    metadata={\"source\": \"tweet\"},\n",
    ")\n",
    "\n",
    "document_9 = Document(\n",
    "    page_content=\"The stock market is down 500 points today due to fears of a recession.\",\n",
    "    metadata={\"source\": \"news\"},\n",
    ")\n",
    "\n",
    "document_10 = Document(\n",
    "    page_content=\"I have a bad feeling I am going to get deleted :(\",\n",
    "    metadata={\"source\": \"tweet\"},\n",
    ")\n",
    "\n",
    "documents = [\n",
    "    document_1,\n",
    "    document_2,\n",
    "    document_3,\n",
    "    document_4,\n",
    "    document_5,\n",
    "    document_6,\n",
    "    document_7,\n",
    "    document_8,\n",
    "    document_9,\n",
    "    document_10,\n",
    "]"
   ]
  },
  {
   "cell_type": "code",
   "execution_count": 35,
   "id": "fcf5c512",
   "metadata": {},
   "outputs": [],
   "source": [
    "index=faiss.IndexFlatIP(384) # cosine similarity\n",
    "vector_store=FAISS( # this object automatically does embedding and it adds the vector to the database\n",
    "    embedding_function=embeddings,\n",
    "    index=index,\n",
    "    docstore=InMemoryDocstore(),\n",
    "    index_to_docstore_id={},\n",
    ")"
   ]
  },
  {
   "cell_type": "code",
   "execution_count": 36,
   "id": "4a7430e3",
   "metadata": {},
   "outputs": [
    {
     "data": {
      "text/plain": [
       "['2594229c-fdd6-40b8-8bfc-d6d5d3d17282',\n",
       " '5d090ccc-f21f-4666-bf6a-eb1849ece93b',\n",
       " '4d444fcc-5fa8-4110-af27-8e4e6702890f',\n",
       " '6c6c624d-05a5-40df-bbc9-5ddbc39b6bad',\n",
       " '1d4f3fc6-2e65-4c63-9208-c4454fa0246d',\n",
       " '097e6ad3-85a6-46af-9e7e-0af577804560',\n",
       " '3b05a64e-0876-453b-af0f-4e2524179b6b',\n",
       " '48f57a32-490c-445d-99fa-7fa5b2b863a3',\n",
       " 'd7e504db-d52f-4c22-8077-84ffb60ed3c7',\n",
       " '7dbbf273-864c-4d64-b2dd-8931d37718c9']"
      ]
     },
     "execution_count": 36,
     "metadata": {},
     "output_type": "execute_result"
    }
   ],
   "source": [
    "vector_store.add_documents(documents=documents) # stored all 10 documents in database. if you run it twice, you will get same texts with two indexes (20 rows)"
   ]
  },
  {
   "cell_type": "code",
   "execution_count": 37,
   "id": "701ae4e5",
   "metadata": {},
   "outputs": [
    {
     "data": {
      "text/plain": [
       "[Document(id='4d444fcc-5fa8-4110-af27-8e4e6702890f', metadata={'source': 'tweet'}, page_content='Building an exciting new project with LangChain - come check it out!'),\n",
       " Document(id='48f57a32-490c-445d-99fa-7fa5b2b863a3', metadata={'source': 'tweet'}, page_content='LangGraph is the best framework for building stateful, agentic applications!')]"
      ]
     },
     "execution_count": 37,
     "metadata": {},
     "output_type": "execute_result"
    }
   ],
   "source": [
    "vector_store.similarity_search(\n",
    "    \"LangChain provides abstractions to make working with LLMs easy\",\n",
    "    k=2 #hyperparameter -> number of documents I want to retrieve\n",
    "    \n",
    ")"
   ]
  },
  {
   "cell_type": "code",
   "execution_count": 38,
   "id": "81f84ba4",
   "metadata": {},
   "outputs": [
    {
     "data": {
      "text/plain": [
       "[Document(id='4d444fcc-5fa8-4110-af27-8e4e6702890f', metadata={'source': 'tweet'}, page_content='Building an exciting new project with LangChain - come check it out!'),\n",
       " Document(id='48f57a32-490c-445d-99fa-7fa5b2b863a3', metadata={'source': 'tweet'}, page_content='LangGraph is the best framework for building stateful, agentic applications!'),\n",
       " Document(id='7dbbf273-864c-4d64-b2dd-8931d37718c9', metadata={'source': 'tweet'}, page_content='I have a bad feeling I am going to get deleted :('),\n",
       " Document(id='2594229c-fdd6-40b8-8bfc-d6d5d3d17282', metadata={'source': 'tweet'}, page_content='I had chocolate chip pancakes and scrambled eggs for breakfast this morning.')]"
      ]
     },
     "execution_count": 38,
     "metadata": {},
     "output_type": "execute_result"
    }
   ],
   "source": [
    "vector_store.similarity_search(\n",
    "    \"LangChain provides abstractions to make working with LLMs easy\",\n",
    "    #k=2 #hyperparameter,\n",
    "    filter={\"source\":{\"$eq\": \"tweet\"}} # we retrieve data only from tweet sourced information\n",
    "    \n",
    ")"
   ]
  },
  {
   "cell_type": "code",
   "execution_count": 39,
   "id": "30cc562b",
   "metadata": {},
   "outputs": [],
   "source": [
    "result=vector_store.similarity_search(\n",
    "    \"LangChain provides abstractions to make working with LLMs easy\",\n",
    "    #k=2 #hyperparameter,\n",
    "    filter={\"source\":\"news\"}\n",
    "    \n",
    ")"
   ]
  },
  {
   "cell_type": "code",
   "execution_count": 40,
   "id": "12126427",
   "metadata": {},
   "outputs": [
    {
     "data": {
      "text/plain": [
       "{'source': 'news'}"
      ]
     },
     "execution_count": 40,
     "metadata": {},
     "output_type": "execute_result"
    }
   ],
   "source": [
    "result[0].metadata"
   ]
  },
  {
   "cell_type": "code",
   "execution_count": 41,
   "id": "c82f3171",
   "metadata": {},
   "outputs": [
    {
     "data": {
      "text/plain": [
       "'Robbers broke into the city bank and stole $1 million in cash.'"
      ]
     },
     "execution_count": 41,
     "metadata": {},
     "output_type": "execute_result"
    }
   ],
   "source": [
    "result[0].page_content"
   ]
  },
  {
   "cell_type": "code",
   "execution_count": 42,
   "id": "2d671e12",
   "metadata": {},
   "outputs": [],
   "source": [
    "retriever=vector_store.as_retriever(search_kwargs={\"k\": 3}) # you can transform vector store as a retriever to use it inside RAG pipeline"
   ]
  },
  {
   "cell_type": "code",
   "execution_count": 43,
   "id": "5effe0a7",
   "metadata": {},
   "outputs": [
    {
     "data": {
      "text/plain": [
       "[Document(id='4d444fcc-5fa8-4110-af27-8e4e6702890f', metadata={'source': 'tweet'}, page_content='Building an exciting new project with LangChain - come check it out!'),\n",
       " Document(id='48f57a32-490c-445d-99fa-7fa5b2b863a3', metadata={'source': 'tweet'}, page_content='LangGraph is the best framework for building stateful, agentic applications!'),\n",
       " Document(id='7dbbf273-864c-4d64-b2dd-8931d37718c9', metadata={'source': 'tweet'}, page_content='I have a bad feeling I am going to get deleted :(')]"
      ]
     },
     "execution_count": 43,
     "metadata": {},
     "output_type": "execute_result"
    }
   ],
   "source": [
    "retriever.invoke(\"LangChain provides abstractions to make working with LLMs easy\")"
   ]
  },
  {
   "cell_type": "code",
   "execution_count": null,
   "id": "b9b4a982",
   "metadata": {},
   "outputs": [],
   "source": [
    "# inmemory(server)\n",
    "# ondisk(server)\n",
    "# cloud(yet to discuss)"
   ]
  },
  {
   "cell_type": "code",
   "execution_count": 44,
   "id": "ac515e08",
   "metadata": {},
   "outputs": [],
   "source": [
    "vector_store.save_local(\"today's class faiss index\")"
   ]
  },
  {
   "cell_type": "code",
   "execution_count": 45,
   "id": "1be9960c",
   "metadata": {},
   "outputs": [],
   "source": [
    "new_vector_store=FAISS.load_local(\n",
    "  \"today's class faiss index\",embeddings ,allow_dangerous_deserialization=True\n",
    ")"
   ]
  },
  {
   "cell_type": "code",
   "execution_count": 46,
   "id": "11a998d9",
   "metadata": {},
   "outputs": [
    {
     "data": {
      "text/plain": [
       "[Document(id='4d444fcc-5fa8-4110-af27-8e4e6702890f', metadata={'source': 'tweet'}, page_content='Building an exciting new project with LangChain - come check it out!'),\n",
       " Document(id='48f57a32-490c-445d-99fa-7fa5b2b863a3', metadata={'source': 'tweet'}, page_content='LangGraph is the best framework for building stateful, agentic applications!'),\n",
       " Document(id='1d4f3fc6-2e65-4c63-9208-c4454fa0246d', metadata={'source': 'tweet'}, page_content=\"Wow! That was an amazing movie. I can't wait to see it again.\"),\n",
       " Document(id='3b05a64e-0876-453b-af0f-4e2524179b6b', metadata={'source': 'website'}, page_content='The top 10 soccer players in the world right now.')]"
      ]
     },
     "execution_count": 46,
     "metadata": {},
     "output_type": "execute_result"
    }
   ],
   "source": [
    "new_vector_store.similarity_search(\"langchain\")"
   ]
  },
  {
   "cell_type": "code",
   "execution_count": 47,
   "id": "0c1b2efc",
   "metadata": {},
   "outputs": [],
   "source": [
    "from langchain_community.document_loaders import PyPDFLoader"
   ]
  },
  {
   "cell_type": "code",
   "execution_count": 48,
   "id": "ad023ba9",
   "metadata": {},
   "outputs": [],
   "source": [
    "FILE_PATH=r\"C:\\Users\\Artur Dragunov\\Documents\\GIT\\agentic-ai-bootcamp\\2-Langchain Basics\\llama2-bf0a30209b224e26e31087559688ce81.pdf\""
   ]
  },
  {
   "cell_type": "code",
   "execution_count": 49,
   "id": "0d4a26b3",
   "metadata": {},
   "outputs": [],
   "source": [
    "loader=PyPDFLoader(FILE_PATH)"
   ]
  },
  {
   "cell_type": "code",
   "execution_count": 50,
   "id": "dfb939f6",
   "metadata": {},
   "outputs": [
    {
     "data": {
      "text/plain": [
       "77"
      ]
     },
     "execution_count": 50,
     "metadata": {},
     "output_type": "execute_result"
    }
   ],
   "source": [
    "len(loader.load())"
   ]
  },
  {
   "cell_type": "code",
   "execution_count": 51,
   "id": "6d66a576",
   "metadata": {},
   "outputs": [],
   "source": [
    "pages=loader.load() # it loads all pages"
   ]
  },
  {
   "cell_type": "code",
   "execution_count": 52,
   "id": "6bfd9d3a",
   "metadata": {},
   "outputs": [],
   "source": [
    "pages = []\n",
    "async for page in loader.alazy_load(): # load pages in parallel using asyncio\n",
    "    pages.append(page)"
   ]
  },
  {
   "cell_type": "code",
   "execution_count": 53,
   "id": "5875b246",
   "metadata": {},
   "outputs": [],
   "source": [
    "from langchain_text_splitters import RecursiveCharacterTextSplitter"
   ]
  },
  {
   "cell_type": "code",
   "execution_count": 54,
   "id": "003d7d75",
   "metadata": {},
   "outputs": [],
   "source": [
    "splitter = RecursiveCharacterTextSplitter(\n",
    "    chunk_size=500,#hyperparameter\n",
    "    chunk_overlap=50 #hyperparemeter\n",
    ")"
   ]
  },
  {
   "cell_type": "code",
   "execution_count": 55,
   "id": "11efb7b8",
   "metadata": {},
   "outputs": [],
   "source": [
    "split_docs = splitter.split_documents(pages)"
   ]
  },
  {
   "cell_type": "code",
   "execution_count": 56,
   "id": "b4d8c703",
   "metadata": {},
   "outputs": [
    {
     "data": {
      "text/plain": [
       "615"
      ]
     },
     "execution_count": 56,
     "metadata": {},
     "output_type": "execute_result"
    }
   ],
   "source": [
    "len(split_docs)"
   ]
  },
  {
   "cell_type": "code",
   "execution_count": 57,
   "id": "d6b572aa",
   "metadata": {},
   "outputs": [],
   "source": [
    "index=faiss.IndexFlatIP(384)\n",
    "vector_store=FAISS(\n",
    "    embedding_function=embeddings,\n",
    "    index=index,\n",
    "    docstore=InMemoryDocstore(),\n",
    "    index_to_docstore_id={},\n",
    ")"
   ]
  },
  {
   "cell_type": "code",
   "execution_count": 58,
   "id": "ffd4525d",
   "metadata": {},
   "outputs": [
    {
     "data": {
      "text/plain": [
       "['405e9643-d257-4954-aeb2-678a444452eb',\n",
       " '1a45eccd-8a21-4c4e-b2ab-1596c2f76eb4',\n",
       " '07bfd6c2-1b59-4af0-8dd7-4cce71dc5558',\n",
       " '22bef17f-0007-4edc-8515-e304b1a7de39',\n",
       " 'aa750be9-f4f7-4321-bd70-0b876f3fd391',\n",
       " 'bc67d71b-1cf6-4804-ac43-22866682d8d7',\n",
       " '2b3d1980-2a47-4cf4-9525-78c375fc511d',\n",
       " '6d918377-b5f3-47f7-b2eb-4fb8c5203643',\n",
       " 'de9862dc-ec6d-42e8-b932-bc8311e9ddd7',\n",
       " '71f266f0-641a-424a-9865-936c9494188e',\n",
       " '9fce274e-ce17-4eaf-8788-d433d1675434',\n",
       " '00415341-fd9b-444b-83e5-1c564658e4fe',\n",
       " 'd589712e-5837-4f84-a215-53bb4e847646',\n",
       " '6d3c5f23-9d8d-473b-ae0c-0d6447b24646',\n",
       " '90684fd3-a2f9-4ce9-858b-6c21650ee510',\n",
       " '247e01af-748e-4005-8361-9e3672897343',\n",
       " 'e3b88972-78f8-4e37-bd34-a776a2836cc2',\n",
       " 'fab1b8ed-4a01-476a-aeaa-a36c6c81cb36',\n",
       " 'a88b8cf9-ed12-404c-b83b-e99d9f7f669f',\n",
       " '4f87430e-6836-47e6-82a7-64c3dd0ea9d4',\n",
       " '0999af95-e28a-4969-bc3a-0bdd4349670b',\n",
       " '3a5732e6-cd1d-48bc-9224-85624d777ed8',\n",
       " '58ca8dec-f035-4bbd-a256-2c86822a3ab8',\n",
       " '4efdd902-60b2-4d8b-a870-7a1733e6afee',\n",
       " '9a0b94ed-4a72-478d-8e8b-7a2547366363',\n",
       " '97c2fd56-c92a-4886-9999-3ca595f2084d',\n",
       " '478a7a69-9aa5-40fa-81e0-76bc61869fed',\n",
       " '49aad520-9310-445c-b94f-c67880dd30b4',\n",
       " 'bb7fec81-7b4c-40c5-86be-172bdac18de2',\n",
       " 'ca0daca2-c60c-4c16-a9f6-7f1fb330feb0',\n",
       " '7f7fd196-4dca-4a72-ba54-7609f4194aae',\n",
       " '604886b8-4efc-483b-9533-adfc7f1f7bd5',\n",
       " '769f294e-d7a9-463a-ba04-3b92a972e4ad',\n",
       " '339e17e5-a45e-4b42-bfed-da839a9eaa0b',\n",
       " '85035f59-5054-482f-b0d1-78e30c4a55f1',\n",
       " 'f078d857-d08d-4cdb-96ad-2a3607c996a3',\n",
       " 'cb400958-788b-45c5-a999-4cb951526c04',\n",
       " 'a9dc287c-66eb-4921-9165-39bbd1c72048',\n",
       " '553e6326-2381-4bd7-a563-98331b165b47',\n",
       " 'c2e53ed2-9783-4bae-bfe2-b5861964ce05',\n",
       " 'b1bca9c6-15b2-4880-9e90-7510777d6de1',\n",
       " '3a9397a8-ea3e-41d9-9367-c9d7e291f291',\n",
       " '943f99e9-5a61-4b2a-b12f-23a48c6c0ce2',\n",
       " '02a8c09b-efde-4cb5-b068-6c2ecfea391e',\n",
       " '139d0584-39c5-40f9-add3-cec6cf3a17a2',\n",
       " '87b096f7-7d60-4b9c-80c6-ff3bebffddc7',\n",
       " '2fa4f3f9-4572-4ce9-a6f8-311a200e8b2c',\n",
       " '4d782e50-65f8-4fd7-af8f-a7092ae59dd5',\n",
       " 'e9ab9183-a7bc-42fb-856e-ff0a3ddd8c83',\n",
       " 'd25406e1-f660-46a5-bfe5-995b782cb9b3',\n",
       " 'df3219d5-0a37-4c1a-a797-5be28db3e7e2',\n",
       " '4504a1dc-e63a-4d73-85af-d942ae49524f',\n",
       " 'd0cba163-db9c-4028-a05d-921ba2264c80',\n",
       " 'eb5f6f84-9ecd-45df-af45-1a65bbd109b3',\n",
       " 'c6cec7fc-1d6b-4c0b-bc63-44db14d733d9',\n",
       " 'e416d3f8-57b4-42d5-87b5-f3c85eddb60b',\n",
       " '7d841307-bc9b-44ed-b06c-6d277cdadfd2',\n",
       " '91bfbca2-df28-4865-a2f9-fff547b80387',\n",
       " '501d9036-9897-4d53-a16b-6f8a4a2181fb',\n",
       " 'c84ec5e2-9fc9-48f4-aa51-6d56de0869b3',\n",
       " '40b7c69b-2cac-46c4-bb72-267542191fb4',\n",
       " '46b85021-c676-4640-83dd-8b00eb73aa2f',\n",
       " '1303933f-1ea2-4da0-94fe-1567f285598e',\n",
       " 'ae08ca4c-e0ba-4102-88d9-25f2c9601eb0',\n",
       " 'f31a8eaa-d564-47eb-817b-905d5b9927cc',\n",
       " '003be2c0-ce89-4b81-9ea7-3aa68f243a21',\n",
       " '2747b7b5-cd44-446b-ad0d-7548f2776dff',\n",
       " 'bbbc4e3a-17c1-460e-b9d3-a5ba311c419f',\n",
       " 'baf4ea05-0b6e-4520-8b97-73d51ae5614a',\n",
       " '83e77ddf-b159-422c-ae9c-d64f372f06dd',\n",
       " '61b6de5b-1664-447e-abc6-e57cb19a4f25',\n",
       " '650112a8-66ac-485d-9409-df00fa7325f3',\n",
       " 'bc7204cc-5d5c-470f-8fd0-8fce514cae60',\n",
       " 'f552aa89-bc70-46ea-9318-80a8c64030a8',\n",
       " 'a42a4ecb-a8d2-4264-9cc2-222885deb16a',\n",
       " 'a8465434-965f-4d47-9935-ba3255b147ae',\n",
       " 'cb46abfe-2f1c-4435-9170-9d2fb8c1dd43',\n",
       " '7022483a-4c6f-4bda-aa3d-7a2350eee7ca',\n",
       " 'bab1fd20-02f4-48fb-b6c3-fd6898d49d99',\n",
       " '55881652-516d-44c4-89cf-629aba54fdda',\n",
       " 'f321b513-1804-42b0-84d0-124cd87d5e2f',\n",
       " 'b843de35-47e6-4ffe-9cc9-d00656866d49',\n",
       " '392cc007-e12c-4a2a-9693-efecf0e39c27',\n",
       " '615db5ba-a503-44f3-8587-724e3acd9b90',\n",
       " 'ea47f590-efd6-454e-a61d-8081cfcf8bd4',\n",
       " '1cfaf48a-a8ae-40cf-bfd3-582df746af24',\n",
       " '57211e29-65f7-4f3c-b9a5-b71d2e792382',\n",
       " 'a9819d31-0893-459d-b2a2-9bca661ecde1',\n",
       " '4fa4f77f-8a72-4b0a-b391-8dfe17717336',\n",
       " '515864b3-e394-4fd4-9b75-7a66503c4de8',\n",
       " '37bea613-c8ce-4f39-8bc6-10b2e6ffbc17',\n",
       " '3ef5f0b7-0c2c-45d0-bd06-0cef92b210c7',\n",
       " '439e6dee-c86c-4d54-9bdc-6155efde418f',\n",
       " 'd44b2ffa-e284-4538-95ea-c72874f46d99',\n",
       " '4cfe442e-07d3-4856-9869-b26bd4f68ea8',\n",
       " 'ba0d51d9-99fa-4d35-b814-e98aa7178401',\n",
       " 'b728e847-bc76-40da-8497-221bed1b70d2',\n",
       " 'e13a5084-c0ba-45d2-ba06-dde0b0463d81',\n",
       " '20c6ba94-26a3-4e47-b699-fa34c29b6425',\n",
       " '32c6aa90-b627-45d9-aed8-ffaab77a444d',\n",
       " '53db7411-af6c-4beb-98da-74138f51758e',\n",
       " '13b2372a-ceb6-4223-84f3-e700a6eed40e',\n",
       " '5b5d622d-9beb-4d7e-bf5b-1bf5ed099571',\n",
       " '1b0e5a3d-a57c-4871-a2e9-c6038fa0eef4',\n",
       " 'e78dc897-fb5c-4d17-b762-f07986cfd9d1',\n",
       " '859d60ef-df42-4a85-a95e-72fd5bb32c4f',\n",
       " '7cd6e1e7-fad8-4462-8d42-f828a8547e75',\n",
       " 'a48fca59-9f4a-4106-b0ff-c179e3f92172',\n",
       " '29a93202-6753-44ee-ac12-7249a46dd1d2',\n",
       " 'e5926ddb-5843-4e52-b654-3a909e95fbf6',\n",
       " '6aec8756-c56b-4c85-9cb5-cb4bb9f0eb4f',\n",
       " 'ec35f014-9f25-4be8-a4d8-f63442c040bb',\n",
       " 'd9f07162-338d-4ead-b1ba-e1e8900db8d8',\n",
       " 'c75da120-8758-4dc7-8307-d9edf76e84f5',\n",
       " '55da10d7-00b8-4fa7-bcbc-06383dd6c7ef',\n",
       " '917aaddc-ef94-43fa-9b4d-e63cec958cdc',\n",
       " '264181fd-f996-4bcd-aca0-3dd2670a55ec',\n",
       " '8618d363-6431-4a8f-b955-79c3ce809871',\n",
       " 'a2452067-faa1-4985-8be7-a9d8e7137024',\n",
       " 'b03af19d-3346-4cb2-b9e4-b759abc0c99f',\n",
       " 'c9c13a53-36fe-4bb0-aa01-d861f595a73d',\n",
       " '3a449c02-3699-4103-be58-b6520ccf17a3',\n",
       " '5072788f-88a6-41e0-8de3-e737e579803f',\n",
       " '237eb13b-3cd6-457e-b098-d4f276588821',\n",
       " '4a55fe99-4235-4dcc-b870-9e3f49643c46',\n",
       " '3df345f3-144a-4bee-8d11-de61e7b7e25a',\n",
       " '89f58218-0b95-4d58-bdd2-0cc680f68a9a',\n",
       " '053a7a9a-8e11-43f5-a522-583a18194938',\n",
       " '1e133e4e-75b2-4fef-941b-821b4fa84e9e',\n",
       " '05134488-5561-43a9-a935-efea8a0c3089',\n",
       " '25c21847-d748-4627-a2ab-fd9fc199b9eb',\n",
       " 'bbbe5305-9e67-40e5-9b4b-6d5d67d42785',\n",
       " 'afc0e595-19fc-48cb-a960-86d1bd0f6b11',\n",
       " '67dbe24b-32fa-4ecd-9b9f-0e5b505587e9',\n",
       " 'b9504975-72ea-4553-ab29-6c0226a8472b',\n",
       " '3936a55b-89b6-41a2-ab56-31ea1edd7bda',\n",
       " '9b2cd718-9db0-4cc0-8dbb-88e7eb040f22',\n",
       " '411cacd1-11e4-4805-9f17-e1ea99901682',\n",
       " 'a5cb9eaa-7132-47f5-9842-e28f3ba25b5f',\n",
       " '27b11597-8677-4dfc-bb56-990c79e086c0',\n",
       " '967106b5-6b3c-4276-9bb3-23476cd79b62',\n",
       " '24d7a994-64f5-4981-8146-d1c7f26c455d',\n",
       " '760e9769-c379-4bcc-b61f-cd265df0aa7f',\n",
       " 'be3b639a-c245-48f6-93ad-2182db1c06ad',\n",
       " '92424f72-6317-476e-93c3-6d350e68f64d',\n",
       " '36930b04-dad1-4f43-b085-867add95ffe9',\n",
       " 'c0d5f63f-cdff-41f5-a812-5b3c3d9b031d',\n",
       " 'e542ba10-f20d-4c1e-8883-1a7c67727b1a',\n",
       " '14bdd1a1-87bc-48bb-994d-523b7d78d4b4',\n",
       " '1ae8aa5b-c03c-4637-853c-10e748f629b5',\n",
       " '1b9ead71-1143-4103-80c2-8cdd403f4dbd',\n",
       " '341ee539-cd8c-4b0a-b620-ab5130b77d57',\n",
       " 'c9b63720-61d0-4208-9c05-e36ed73c1635',\n",
       " '6608a535-c0c3-420c-90a1-992751207e80',\n",
       " 'e16c2a95-be54-40c7-8323-acd8f30e05e1',\n",
       " 'c7860075-a7e3-49b9-8b38-a5c299591e37',\n",
       " '3fc6543d-265a-4169-992c-3554e2cfb96a',\n",
       " '8232e77f-73ee-4910-a125-7c562a065cb3',\n",
       " '02ae9c0e-5b4a-4156-ac04-5cc508bdfde2',\n",
       " '66e5fc1e-c45a-479d-a1f5-f2d03548d252',\n",
       " '91109097-c71f-44d1-b003-abc9acccb990',\n",
       " 'd5a724ab-86d3-4e61-a9f5-bc2859395d21',\n",
       " 'fbb0a85d-18ba-42df-9baf-2d9d971308d0',\n",
       " '4eb729c5-5963-4063-b9ff-6d5bea78994d',\n",
       " 'a8e2ca5f-5f2b-4d26-b6f9-9d889231a7b9',\n",
       " '0a7de92a-b473-4de3-a234-ccec12aacfdd',\n",
       " '6eba7aeb-d41e-4ab2-b851-f908850471e3',\n",
       " '4ef84e2d-ccab-4e96-b3d3-26a8e162d497',\n",
       " '31c0ba65-d452-47d9-a13f-34abeee7508d',\n",
       " 'ee5dd20f-f089-4c08-8b77-98ce38bbc34c',\n",
       " 'cfaa79c5-204a-44b4-bed3-03046ee3dabc',\n",
       " '72131fc6-2569-4709-8bc6-0a4eb23f59c9',\n",
       " '736d9c47-d8a9-4ef5-89e3-00e0491af19d',\n",
       " '01074b82-bc4d-49eb-9950-406790970730',\n",
       " '1d1b1e7d-51f4-40d1-b4a6-d8afd8d405b9',\n",
       " '24391251-ab79-44bb-83bb-e376e9caea09',\n",
       " '1c6f7532-7153-42fb-968b-f89fe50f055b',\n",
       " 'a8e26e96-5768-43d5-8333-4c47863772e4',\n",
       " 'ca894948-6b2a-42c6-92d7-3c7c5cc4efc5',\n",
       " '1e0f7e2e-a9a5-44e7-b629-3c225b062751',\n",
       " '5c2c8c42-4646-4187-be87-b2de007c0eeb',\n",
       " '6d7871fd-1217-4533-9854-26199f213016',\n",
       " 'f41126b5-2494-4850-9f70-1e3ea158050d',\n",
       " 'fbae3f19-94d7-4506-bf19-20995a0601df',\n",
       " '34278b19-42d7-4d5b-ac37-8aef186ef7c9',\n",
       " 'bed703e0-ffe0-4f5a-a27d-3a5bfff4add0',\n",
       " '5bd55232-91b5-4044-89d3-a5e817b0436a',\n",
       " '0435531c-7d6e-4c4b-a2c7-3413cb5cd668',\n",
       " '3fec1da3-9a61-4a4b-915b-82a0842eeb1c',\n",
       " 'f177e3f0-9df6-40e0-a175-39f5818d45b6',\n",
       " 'be0befba-c938-40e5-9958-7e5032dc36f0',\n",
       " 'ea89d760-51c1-4edc-90cd-ea65b73ace93',\n",
       " '4e1b2ce5-2b0a-44ad-9808-e767dc9dae9c',\n",
       " '9876e347-b31b-4a20-a0b5-3ac3b54a216b',\n",
       " '2717cc17-fb60-4ba9-83c4-7bf32c7a8c23',\n",
       " '214ab390-6e76-4a38-8e35-4b02c8c12a62',\n",
       " '383f33a8-806e-4d33-8ed8-8f4ecd44556d',\n",
       " '5b44d85f-abd7-4831-9650-2e08924c91bb',\n",
       " 'd6c75b36-1c4c-406b-a861-ed42041f3c03',\n",
       " 'c48485ab-48c5-4417-90f0-c4f229b77d59',\n",
       " '24204d44-9795-4197-9709-2e70fe771660',\n",
       " '2e552aee-34d9-492e-9ba8-ba4c4aebb968',\n",
       " 'a67df671-0533-4a18-9f58-0fdd52fd1b7e',\n",
       " '8e40636e-59e6-4da4-a4bc-91b138cb2914',\n",
       " '5e461ee0-5573-446d-b730-f020f60d37ed',\n",
       " 'f60d8c84-ca39-40e7-b759-a35213de3975',\n",
       " '1b76b2b8-55d5-491d-a75e-6981b31ac89b',\n",
       " '166e9673-46dd-48a2-bba3-6b8f4c478811',\n",
       " 'b6ce7e02-40c3-4ef6-a893-ebe79256cf37',\n",
       " '5f778d41-43f4-4882-8da8-83d6cece595c',\n",
       " 'a653ba73-96cf-4418-b432-9e760aecb178',\n",
       " '0868986f-034d-4898-ade0-fc2b009e89ba',\n",
       " '142eab3b-c6d5-4080-bc31-515f851d31b7',\n",
       " 'dbf4514c-393c-4681-b63d-57b7558e6cb8',\n",
       " '0a267a61-6e3d-4b2a-91e4-359e974825da',\n",
       " 'bd7a8e3d-4b24-4d01-980d-b6bf4791afb4',\n",
       " 'edec66c0-4b61-4b58-b95d-bd0572a761a3',\n",
       " 'eb248df8-30e5-4cb9-83ff-c10b2ac5e294',\n",
       " '86452b86-e47e-4bbc-a7ae-4a1221304cc5',\n",
       " '26133c89-4657-4fd4-ae99-fc78ba7e226f',\n",
       " 'ceed289c-1d15-49de-af47-18204f72ce96',\n",
       " '7079df03-d690-491b-a5bb-f6d280f179ee',\n",
       " '784150e6-f9b5-4ca9-b155-25c9d0e0e4f3',\n",
       " '2793aa0c-bc5f-48a9-b6ec-c2cf81008180',\n",
       " 'cc87e8eb-5674-4357-9e41-34bfcceb2850',\n",
       " 'df0bb610-ba14-4c08-8bfd-49be67a9fd18',\n",
       " '03693737-4769-47a4-8b43-34fc3333b6b6',\n",
       " 'a8c1b396-b8e0-4267-afb0-78a72f99e321',\n",
       " 'f173b2b3-5c9e-47e3-bb14-81452929b14e',\n",
       " '6bf1be0a-e5c6-4ef8-9cda-7321e7cbd18c',\n",
       " '710316d5-c06c-42bb-bc6b-a532024770de',\n",
       " 'c5a8a496-13ff-43b3-a010-5b89dd540e86',\n",
       " '4c54ecb7-d3c2-4e10-b577-1ea0d85eab8a',\n",
       " '472a063a-f845-4546-bf68-6479a1196176',\n",
       " 'cf725aac-86e7-4851-b93a-5db2f59b6bef',\n",
       " '00df4693-8310-438f-9b92-4f9a1a61152d',\n",
       " '4715b43b-b08d-465a-b8b9-a04856de2848',\n",
       " '6cbbf225-acdc-404b-8684-fcbaa2ab8168',\n",
       " '2b4b5477-dc2d-49e5-aa34-10ce5bd1afe8',\n",
       " '3da2ff6b-5f9e-4bb4-8d27-605bc2a617ce',\n",
       " '1d909b5b-19da-4074-9874-1d392b098205',\n",
       " '06df372b-d642-445e-9ab1-fbdc30f347ca',\n",
       " '2e8241ae-30d4-433e-a342-9e1897c1b6cb',\n",
       " 'af1b5da5-4c29-4d21-8c2e-5ea76117fb40',\n",
       " 'b8fa6004-68c0-4620-9851-7ae8fba90f4d',\n",
       " '2cabe32e-932d-42e9-84a2-aaf5a3d69cb4',\n",
       " '42c643ac-1a2b-4650-b879-e775cac9660c',\n",
       " 'd4184acb-a973-40cd-bf94-38257b5b97da',\n",
       " 'd7e7f7f7-6900-4bd9-bb42-e5b611c8290b',\n",
       " '7f26da9c-a8a0-4569-a3e0-0511fd607daf',\n",
       " 'd474094b-0109-47a9-af21-a2f2b77403be',\n",
       " '01748c22-16b4-46a3-8068-8de919623c56',\n",
       " '236362c9-b5aa-403f-addf-cfb8a3306624',\n",
       " '3e238941-d819-4e6b-ab64-3e011701a8b7',\n",
       " 'c7beca53-9053-4939-92ea-1b6d2b0d3a35',\n",
       " '0b4168a2-c597-4b57-ad78-494a1c4e0dbf',\n",
       " '41a09a26-97b8-4842-9f3e-dc6030440d69',\n",
       " 'd23000af-59a3-44e1-8896-cbe3144fa4c6',\n",
       " 'b804076a-f7d9-4a18-9bbc-1b6f9a65ce1e',\n",
       " 'f7df6290-92bc-460c-b1a4-06773d6d71b4',\n",
       " '7adf5001-8011-4456-8b86-520cb1eff471',\n",
       " '4eca521e-d5e4-4056-8bb9-42e975d07410',\n",
       " '42f19302-8411-49eb-bba0-9638d1f9f796',\n",
       " '4eca5844-15db-429c-afdd-61c48a82f11f',\n",
       " 'b4ba09ba-bb81-463c-8b30-73e6ffd6e7e9',\n",
       " 'e8a4e874-ace9-4504-bf11-b98761f4e9b4',\n",
       " '95ed0c02-7c6d-4d54-8848-2bce48164e01',\n",
       " '6ac362e4-a6cb-4741-ab29-00dd4d905567',\n",
       " '62cf0420-c638-4e93-af44-39aebf5a717a',\n",
       " '408efd1d-ae97-47d8-9fa3-572fe0235440',\n",
       " '6949d803-edf6-42cb-8b91-95eba5df0ebf',\n",
       " '02f1a453-6804-4916-b808-e5b9fb29bb0c',\n",
       " '77a7fd51-8da7-4da1-9d84-6d2691c6ecd7',\n",
       " '37af89ec-8e38-4b96-9102-0ac0f693893f',\n",
       " 'd411b34b-d8ce-44fd-9abf-8e34fe4110a9',\n",
       " '6ba9d8e7-c607-4524-bf88-2e30589c6b98',\n",
       " 'a3fad033-17fe-407a-9a84-11a87a2218c4',\n",
       " '725f8aea-fdb1-408e-a98c-03d69363a4e3',\n",
       " '9f130335-4aa7-47b2-8b9c-cb02cc41cbf0',\n",
       " '309a05c0-5367-401d-bf21-6b13c1d11b59',\n",
       " '63cacb59-75c3-4813-affc-08efbb534c0a',\n",
       " '4a467a98-8786-4d3d-92f8-509b6977939c',\n",
       " '6661f630-6c06-478e-a3e4-bce8fa9854b7',\n",
       " '1c6ecd00-1f46-4de8-b9db-12612c844e7d',\n",
       " '1774a1e9-f9e4-45e5-8cbf-8788349d69bb',\n",
       " '6df6268e-f14b-476a-bb09-d539dc32ea72',\n",
       " '81eff3a1-d75d-417d-8913-89097fb4e253',\n",
       " 'fa4b6f46-ca9c-46ac-b243-2b972dd1e0f9',\n",
       " '152141d7-3f72-4c40-a599-a5561613c30b',\n",
       " 'eb85b92d-6ffb-406e-80c8-5127f938e609',\n",
       " '047d09ed-f013-434e-ba51-4601fa7f08bf',\n",
       " '943c40d7-9d9c-47ce-a107-025e2e117e70',\n",
       " '038c2bec-a380-48c1-b189-5d1053490d53',\n",
       " '22a71710-8490-43f4-b87c-c879edb29a37',\n",
       " '2d8b2d45-a4b9-4862-be15-c28245838557',\n",
       " 'e40733d6-8d25-4e0f-ae48-b9d6e7fc29bd',\n",
       " 'e609c3b6-0e9c-4c90-aaee-42966965c673',\n",
       " '49336eae-91d2-42e1-8192-84fc6b627d37',\n",
       " '56c01ff7-7a0a-407c-b33b-a7369376d792',\n",
       " 'c07f9411-f516-4667-bc02-5f5c2bf0d568',\n",
       " '2a6d25d7-6345-4904-8e3a-b2874b242e1a',\n",
       " 'f83cdfee-da96-4caa-8bae-e218695ce44c',\n",
       " '374d5c78-831c-4c9f-9278-9cb97719764d',\n",
       " 'ceab3606-954d-4932-856e-ca799eb360db',\n",
       " '53594b09-b061-4527-9884-f09409cce678',\n",
       " '83506c67-769f-4ebc-b39f-79967eb76de5',\n",
       " 'a830e1a1-f6e7-472f-93b1-6c5a7a2d7f31',\n",
       " '8a664aad-5d07-42ff-a85e-f78dce96df94',\n",
       " '0702ad44-0578-4e51-91de-57d9a65b14b8',\n",
       " '1bc46c88-28a4-4b94-a415-29ff7c3e7624',\n",
       " 'dae5e423-fa7b-421e-8197-45d0e46c3446',\n",
       " '9549d208-63e2-4fc0-9b84-ed9ff067ac56',\n",
       " '3ca6c907-1bcc-4d4d-ba1a-4289ceeb84fb',\n",
       " '1e85d2bf-0d36-4cc7-8675-639cb564a26a',\n",
       " '1a771db1-b734-43db-ad54-fc669481fdbf',\n",
       " '266306f9-7660-49c2-ac62-b20ed61fb21f',\n",
       " '69a60802-5127-43a9-9e75-ec4ddf3d05b0',\n",
       " '212fa11b-bae3-4081-b65b-03068587ead9',\n",
       " 'b19fd386-9a99-425f-99c7-3e8fd72dc906',\n",
       " '8e6b965b-55f3-4ee8-a9b2-3a965dbea3e7',\n",
       " '44911862-64d8-4565-b071-73739ae76971',\n",
       " '76204116-be6a-464d-93b0-fd64b9cae572',\n",
       " 'eb5498ed-111c-4795-8e5f-b94fd083db7b',\n",
       " '4407a239-3883-4da1-a144-f74f3f8eb8b9',\n",
       " '7f8bc4ee-e28a-4919-b511-d8be8ee449d2',\n",
       " '63588307-a473-4416-81d0-81ef0b43fee6',\n",
       " '06ccc789-7c65-44f4-a134-e0612aca75ba',\n",
       " '792a963d-d787-4cb4-a552-a02be85ee669',\n",
       " '42efa495-c579-4358-b9dc-ecc11d6440a9',\n",
       " '82d51fdb-c856-41ab-a047-483b715c7f0e',\n",
       " 'f585eab1-73ad-431f-b874-67e4e9559719',\n",
       " '55952e2a-e8cb-4640-a541-765b58a0b5f1',\n",
       " '91adc42a-485d-4b5e-9e86-fd271b26b26e',\n",
       " 'b8c1a178-ca8b-424b-b12d-11a53ec710b2',\n",
       " 'e150a50b-533d-4fed-a617-718354e1127f',\n",
       " '3856fc5e-55da-4b08-9043-eacad034c453',\n",
       " '51138a06-2114-4a08-b640-521ae3210486',\n",
       " '5321c978-4914-4851-8d37-a46c027fb5cb',\n",
       " '7b6c154e-372c-4317-b610-4b980b0bc904',\n",
       " '2d843f73-d42a-4a8f-bda7-ff98025b6c89',\n",
       " '81fc9fc3-fcb9-41da-9a37-84fd2cd1c889',\n",
       " '96db0a21-9956-4ea2-aabd-f1863c460a5b',\n",
       " '44a4f8da-bd9d-4917-8fcd-a3e51cb6675c',\n",
       " '8ba67864-a6e8-4b46-871d-4fb96f93888b',\n",
       " '0819ee72-25c9-41b8-b237-eb816075c212',\n",
       " '91aad8e6-81e6-49f5-9135-e678bc84fa6d',\n",
       " '671f34d6-8544-4000-bfb3-78215c77e0f0',\n",
       " 'd37cbaaf-6a5d-4a9d-ab76-11e01c6950e7',\n",
       " '0a4e90de-7779-428b-93b8-493528457ab4',\n",
       " '1dcfe5d1-59a4-40b1-804b-28dd6ad28876',\n",
       " 'd6e6bcdf-6b7b-47fa-9c90-36d3777ede3f',\n",
       " 'd841eafb-a9ea-4e77-8c10-c842011a21de',\n",
       " '9a0c9584-2ca3-433f-a6ee-20930925ffe7',\n",
       " 'bbbfe7f3-5be1-4aed-bf4e-2cc774bd6394',\n",
       " '6cc1506b-cec8-4f95-afb5-77dfe11078c5',\n",
       " 'b301b6e1-e6c1-4c23-ae78-42064b6b7776',\n",
       " '178aecc4-94c4-452d-bc57-c8455772457b',\n",
       " 'd02fee1d-c839-40e4-a419-32e37e4d6d98',\n",
       " '779e4e8d-2d1a-45f6-8496-8f40dc563715',\n",
       " '92ad4fe2-93f0-4478-93c2-788bfe10ac3c',\n",
       " '3594d9f6-83b4-490a-9cf6-ae6e205784aa',\n",
       " 'a19e801c-33c3-4bca-9e10-236a1d32d996',\n",
       " '94f66b80-3d56-4725-8c32-94d303b311ec',\n",
       " 'f9c06c98-65d5-4350-9a31-cb9b10bd9c65',\n",
       " '4df7b6e4-e2b0-4310-86b7-66f95d240b8c',\n",
       " '7d6c6445-daab-40ea-968f-d41e5ad0c7d6',\n",
       " 'eaad9383-8e45-4620-8e24-acbae62955b8',\n",
       " 'fbc5abc6-a315-41a7-802a-b4714986aeff',\n",
       " '3a330deb-b45c-43df-a6e0-e5c69a557dd0',\n",
       " 'd39202d8-17e7-4eae-9f68-18e05744da7e',\n",
       " '25bfbcfe-4a56-4b24-872a-c1155e1503c8',\n",
       " 'a297629f-1194-41be-8f21-3f6834820874',\n",
       " '5fe2c5b4-80ea-4c3e-8279-bc8c6d91a4b0',\n",
       " 'b56f2512-8daa-4e52-b958-e6199b4a1d99',\n",
       " 'be6238e5-8ae2-438c-b71e-cd483325fd03',\n",
       " '94d32020-3677-4353-9aa6-0458138d83eb',\n",
       " '2c21eb08-eaf1-4bf9-b914-2dc9faf492a7',\n",
       " 'ae50485d-abca-44af-9392-b8fa1e669dc6',\n",
       " '1f5b93db-c6b6-4e4c-af71-bc9e6cfe5fea',\n",
       " '5c14abc9-a4f3-4a2c-9cc9-6c8c535d7dbe',\n",
       " '1621a488-9451-4ef3-add5-dbf1d1176654',\n",
       " '46352498-f90c-4780-8070-dfd180f71b0f',\n",
       " 'e298ed70-a37f-4051-9ecd-8e7cbae0cdf5',\n",
       " 'ddfe8957-fe72-4885-ab30-0a01e4192bce',\n",
       " '59cf3014-5b2e-471b-b8dd-821777154e36',\n",
       " 'f8c5eb47-df48-42b1-8d0f-103a61fb922f',\n",
       " 'ed1f1fa1-2edc-476c-9065-935ddeed0417',\n",
       " '74d98cfb-5fd8-49f3-89d7-ec008797f43f',\n",
       " '88d9092b-0820-450b-906c-dbae2651952c',\n",
       " '802e7bb7-c491-4e5d-a6ff-8d33cc50f5e9',\n",
       " '2e9b3a05-f2a9-4616-a0dc-6ee70b9eeaab',\n",
       " '726fc8ba-434b-4904-afc6-71461ca519ef',\n",
       " '6d4099de-918e-4a5e-89c3-75db054517c8',\n",
       " '55b5426c-2580-4f6b-9f8a-147f6d2bc257',\n",
       " 'ea160e90-b930-49ec-be97-e00f2b557d53',\n",
       " '828c141a-4a81-4e6a-9100-b7a3189b0d08',\n",
       " '0157131a-5ab4-4119-a8c5-a82235ce5d54',\n",
       " '01f1d7af-a59c-4b42-9f7b-9c8b03d6206e',\n",
       " 'd6b19771-054b-4d90-813e-f2379bc480f4',\n",
       " 'afb30fb2-48a0-4270-86b2-320a63a75d16',\n",
       " '63b82bff-5721-43ee-96e3-9320f63b726d',\n",
       " '189876ef-a310-45fb-a70d-81085ad3a6a3',\n",
       " 'f5f39b0e-efb1-4d6f-9d6f-ace2001cc26a',\n",
       " '709ff339-cac5-445d-bf16-a1549efa8984',\n",
       " '3232d379-4212-4f19-a490-b6607355a119',\n",
       " '4c575d98-acf1-4263-951b-680db5e7504b',\n",
       " '47b6b06c-8afe-4cbb-a7a1-ab72f195f472',\n",
       " 'ee6fe08b-fc01-48f1-9f0e-f84e5629bcfc',\n",
       " '1e38237a-56c8-494c-b6ac-3f212e6d5ce9',\n",
       " 'bc6eb134-f4b3-4948-a9d8-7f9a58e804c0',\n",
       " '224d4e0d-8b95-47d1-9daf-fbe9771b3eb5',\n",
       " 'f4d6575a-a507-434e-ad47-cae897a84fda',\n",
       " 'bdfa93dc-3c1c-42d7-ac5c-0a84724a3368',\n",
       " 'a542019e-8ada-444c-bb43-99eccdf1d978',\n",
       " '5dbb5cf7-15eb-4060-b682-c2822a970082',\n",
       " 'ec8c9465-bd08-40ac-8ced-6db077e21c9b',\n",
       " '7653af7d-95bf-4e4f-9dfd-dde862d94384',\n",
       " 'b6360153-95a0-4309-9c5d-52e3685e73ab',\n",
       " 'dbd8ba2a-06ac-44f6-92ec-af035c189fe8',\n",
       " '5d1d88bc-d9ce-4cb0-8eed-94e65726dd61',\n",
       " '0acfc95f-45fe-4a3e-9ac0-20fed48bb06c',\n",
       " 'fc59907d-24bb-4f7c-80f4-f4254d6a41f1',\n",
       " 'b6cd370a-3f2b-415f-88cc-6c69589a6ccb',\n",
       " 'dcb47b20-326c-4a31-a8ba-3b024c4ea4f1',\n",
       " 'd87058b7-54e1-41ab-8823-c72ef3ad5edc',\n",
       " 'c01797ea-3c95-402d-9bc4-d1627a17f771',\n",
       " '92642826-e2b4-4495-8376-8defb3a69ea0',\n",
       " '5c987f33-2b6d-46df-85b9-0ef705a9a305',\n",
       " '33d7c59b-f161-4570-977b-d825e1d69919',\n",
       " 'b9932cc1-75af-4af9-be77-bf775fe680c5',\n",
       " '451bceff-93d2-4fb3-909a-2e9877c4a91a',\n",
       " '5a9f7f2f-be5b-4250-ba04-79fecc323428',\n",
       " '28a90b76-0956-4396-a0f2-fa8932472cd6',\n",
       " 'c5747b66-1580-44a6-a900-649c782ac2e0',\n",
       " '74a7d7db-8efe-444f-9c70-60739b10dc21',\n",
       " '066d4a7c-0bad-4cdb-bb4b-10f6d064ddb3',\n",
       " 'a8e59198-d6e9-4b9c-bf3a-d2f2ac02bdae',\n",
       " '9eadbcd7-eabb-4da0-ace8-cfdc07e772a8',\n",
       " 'e59e42e3-f030-4523-b472-693265c7f8e7',\n",
       " '2c2a4d24-2241-4029-a1b5-e99b158ead16',\n",
       " 'd34ac6ed-bb4a-4a1c-af5a-b9e401670c92',\n",
       " 'b9510924-97fc-48e7-aab9-325a5f44febc',\n",
       " '400725c0-ad2c-4afb-b77b-57ff0e7a2f73',\n",
       " 'fc184f5e-64d9-4712-8ac1-4de1082df8af',\n",
       " '1525bdd4-f84a-4130-bec2-989b36d19150',\n",
       " '0375615d-3537-4736-b8f9-ddd87e748220',\n",
       " '3356f4c3-9715-4939-8bfb-3b8b57461d50',\n",
       " 'dff96392-1be5-4895-8ee0-a0b8075c5353',\n",
       " 'fb6116ae-dc21-47ca-98ba-1da0143dd71f',\n",
       " '06d0d6a0-6130-471d-afba-26501ca016a2',\n",
       " '4f803af8-26f2-40d9-9f6d-0225197d9423',\n",
       " '46761037-1a31-43ca-b655-6dd69aa8c07c',\n",
       " 'e760b760-c18b-4191-a812-f618355ce426',\n",
       " '4a9212d8-65ed-4889-b871-bb930779032d',\n",
       " 'd0102939-ceb7-4522-82aa-0f8b3796ce42',\n",
       " 'de4b6dd3-29f6-4634-96af-f8214def33d0',\n",
       " '2f79d7a9-8b4e-4e87-8749-d9881bee6438',\n",
       " '5516575f-ecf3-4f4d-b95b-716aee732614',\n",
       " '056fc1f2-e442-4ef0-99f7-79e33e703a5b',\n",
       " '93127080-cefc-4f9e-9f64-e309ce26222b',\n",
       " '457756f2-ae40-4995-a467-c68e3ea2e4ae',\n",
       " '826ac670-756d-4e0b-86de-dc4ec21ef0e5',\n",
       " '94ca68dc-52fe-4d58-a518-8a307a701d7e',\n",
       " '6188e8f0-866f-4ae7-9fdf-98a533287a71',\n",
       " 'a90d6bff-e182-4d40-836e-f6b35c185158',\n",
       " 'b25eeb56-d8c0-415a-a9c9-58f9926da4ae',\n",
       " 'a4a4e153-bea1-4d77-b764-16c4157c5b44',\n",
       " 'bfa77338-1fe2-453b-ae0a-a8db49bf93fd',\n",
       " 'db37824a-4880-4279-8799-300be0dc925f',\n",
       " '61f40a70-1cad-4119-ab76-4d49a38dc896',\n",
       " '80014905-79da-4a73-92c5-c64cf6d8fb22',\n",
       " 'ff7dfc9d-0f1a-46d9-bb98-b0439a62791e',\n",
       " '4fa9a326-365a-42f8-b000-7ff6cc4262aa',\n",
       " 'e110248d-b21f-4e54-8c31-cf33b1e8fc96',\n",
       " '076b0595-dd58-449a-8063-3246cb06be1a',\n",
       " '37ece732-85a8-4d93-a756-b1b6a6b234b2',\n",
       " 'd28b9644-b43b-4211-b2db-be29f4026696',\n",
       " 'caa0423a-ea0a-4fa0-be6b-efa198af4a1a',\n",
       " '39d0c216-5f19-4e2c-9ab2-5dbc7f55c328',\n",
       " '29ce3f3b-c748-4ad9-840f-6f5da8113132',\n",
       " '2e1476e3-3cdb-4b5f-a2fd-870b7c9a29ed',\n",
       " 'c3d362b1-8c75-4b0d-83dc-3ba8f2971443',\n",
       " '02e9b41f-4b63-427a-a366-4a4dca662161',\n",
       " 'f28898fe-4e9c-41f8-8ea7-01aeacba3d72',\n",
       " '7fdb4a95-4f13-454e-8b9b-8093d1cd5ef3',\n",
       " '4d08486e-ec2e-4eeb-81a1-ed054148b0dc',\n",
       " '9406a6db-ed29-4a56-af18-cecd7f0cc298',\n",
       " '4105c60a-0cc3-4b02-b508-322ae47f712c',\n",
       " 'dd51de96-7cb7-42ad-abfd-8734dfda172e',\n",
       " '1c405cbb-2d5e-42fb-afef-c75fffbdd1d6',\n",
       " '54dd9df8-9381-4e50-ada2-39204c6e839a',\n",
       " '83547c09-67bc-4426-ac02-d6a3f0fa6e31',\n",
       " '53ba2a2d-bc13-4b53-891d-c0394839eb25',\n",
       " '65effef9-5786-4604-b012-71b854e43528',\n",
       " '3fbbe490-6c74-470a-8774-a1553cd07ed1',\n",
       " '5f91261e-6378-47fa-9534-5ca0a757ea27',\n",
       " '29020556-baeb-4f0e-9739-7059435c7dc4',\n",
       " '18e0d21d-842e-4e80-a8b1-0ef812b8df9e',\n",
       " '5945ee58-fe4f-4ad0-b409-5271bf5344d7',\n",
       " 'fc4156d5-19fa-4a08-8044-03565c074d75',\n",
       " 'f4827130-aa02-42d9-a429-ca33719e4734',\n",
       " 'c9d9863f-2d46-46cc-a81a-528081222fb8',\n",
       " '16e59bf3-2a4f-4c6b-9f26-c0c564a01cb8',\n",
       " '392e3c9f-d2fd-4d6f-a2e5-f82643c52789',\n",
       " 'd10943a8-8439-49de-9f74-cbeb6dbf8a29',\n",
       " '63298f2a-7989-445b-bdbd-0a5372a56c24',\n",
       " '13e57526-ce88-47fe-a4d2-48751473c03e',\n",
       " '8aaf8b0f-f2c0-4ee5-889d-bc50402fdf13',\n",
       " 'b9c94885-6d9e-4a11-8e98-2fca8ded4824',\n",
       " '29c2a9a3-83f9-4e41-924a-2eee3b109221',\n",
       " 'c8363b4b-b2d5-4c16-894c-da45c5b78b32',\n",
       " 'a0b41dec-28fe-4b34-b621-cd976ba7afb0',\n",
       " 'aaf04456-f32f-4099-b77a-88c3963178b0',\n",
       " 'c4f55c0a-446e-482e-a5b4-2ae255d5b5b6',\n",
       " '8f0596d4-02d2-4b43-9c61-e2258c81a1fd',\n",
       " '63010d42-4892-4ff8-a699-426d8e71b874',\n",
       " 'd1ca7d4a-c64c-4cd7-9e3a-b8f78ab124f5',\n",
       " '5aba09c9-8add-4dad-b137-6dedca04b8d1',\n",
       " '835f9781-7644-4d71-ab24-37d1e72cf84a',\n",
       " '07143586-a449-4c38-89c0-cca910044f96',\n",
       " 'ad2ab8be-4f94-4712-b738-4be4bcecef10',\n",
       " '2522a0dc-ea79-46e4-815c-078d8d0522f9',\n",
       " '35ec8a5f-6782-48fc-95d5-0aaf72f7f02f',\n",
       " '33f8db4d-b021-485f-8df9-75cdfe7b29bd',\n",
       " 'a76a1e92-52ce-45ab-8681-c91761e37f85',\n",
       " '64b63361-2f8b-4121-bfb0-d637a453891e',\n",
       " '8d6e83ef-0a96-4390-8fbb-40f4bfadc9e4',\n",
       " '0d4ca7cf-15ad-4974-a12f-61f9e6d6d795',\n",
       " 'b2a7c050-0d0a-4205-827b-d6459f4c4376',\n",
       " '7c6e6577-2584-4336-bda9-8fd547361bd5',\n",
       " 'dbe92bf0-214b-4d77-81dc-cb65898880fb',\n",
       " '19bb5b3f-546e-4e9d-8d2a-c0cd9fd9ad4b',\n",
       " 'e50cf531-31f0-4b71-9922-2e7a9fbab329',\n",
       " '8dc1f3c5-a659-4600-8334-397cde0a9763',\n",
       " '2fd49165-456d-487c-9d84-8d3893c78081',\n",
       " 'e3dc3488-47aa-4126-bb51-10ac688fe540',\n",
       " '79728cfe-8a6f-42fc-a6a2-b6cd21340ca4',\n",
       " '8269bcec-d712-46d5-b654-1e64ee000e62',\n",
       " '8347108f-24c7-4fa5-9c18-3f3c36ffe38c',\n",
       " '113f2de3-eeef-43fa-979e-21780e32ad8b',\n",
       " 'c7e6f103-2e1f-43e0-87a7-dbb180b67186',\n",
       " '902e3335-575f-418e-948e-aa6bb32afdd3',\n",
       " '950ecae7-5117-4b07-986f-0844e664a06d',\n",
       " '4e1da202-1d16-482f-b9e9-6470ef2a4d30',\n",
       " '85966c87-1520-4b70-8bf0-6911846a3379',\n",
       " 'dd7520a8-1b3f-4427-8c27-22cd2a87d101',\n",
       " '3e63a8ef-f401-43f4-a1ee-28951d890806',\n",
       " '00ed1d08-6317-402c-95f8-1fb134c6882d',\n",
       " '76e81334-cfc7-4309-8705-7c8688e1022a',\n",
       " '7c9679cf-7e6e-4767-a2c5-1c36eb2e2ddd',\n",
       " '49fa1cce-de3d-4420-9a07-edaf3410ed31',\n",
       " '5281d97f-7338-47cf-95e1-7fdd59c05774',\n",
       " '9d6b5d94-1312-4bde-8043-cc71a32ed7a1',\n",
       " '854c4f64-d48e-4e61-8929-a207e3767080',\n",
       " '25d858a6-70c5-44a5-8c32-8a5f64ff2f80',\n",
       " 'bb96f43b-2c35-4aee-8fda-1a2995a76934',\n",
       " 'fa1865c2-c7f2-45e4-85f6-81a54c5b3bec',\n",
       " '396bafce-bb0d-43dc-84bd-96c1eba83392',\n",
       " '86316ad2-5adf-47e5-96c9-779cf0ffac62',\n",
       " '70c4caed-732d-4a7e-9ad5-a70e1f214a31',\n",
       " '9a792970-1400-4000-a0b8-47041b1ecdc1',\n",
       " '893aae32-edb0-45ed-8390-833de818af09',\n",
       " 'd49a0a0e-7752-43ba-9421-edf8dc95710e',\n",
       " 'f3e5e30f-ef3c-418f-8e43-06a342322baa',\n",
       " '2301d324-abc4-4dc2-951b-9d19526360ab',\n",
       " '70343d98-dd8c-48ce-8528-89ddf162868d',\n",
       " '0a444c36-7263-42f4-82d4-9e3878cd8ab3',\n",
       " '0e7b17c1-29ff-4d91-b0ce-b6c06373bb7a',\n",
       " '5eb0ebf5-890f-444f-bae2-2af0d63d9439',\n",
       " '9c8a929e-3d7c-4a61-b64d-c45348df58b2',\n",
       " 'b1adbd77-e572-49e1-8136-41a5209c2002',\n",
       " '63eee6c9-a989-4c2d-b651-a148d8cd0b36',\n",
       " 'a4f6f53d-bfc6-4741-b753-6b96c924d81e',\n",
       " '69034ae9-b319-4c67-ba41-0d0905394097',\n",
       " '1dec4d7b-d52b-4e7f-aed4-96310654e918',\n",
       " '2f9cc396-3156-4017-926f-a4366576516a',\n",
       " '65df2bfa-426d-4747-95df-e336058ab779',\n",
       " '948b545e-648c-4b6c-b404-6eca79638542',\n",
       " 'b6b2e0ce-6b0e-45e8-9236-b459228ff247',\n",
       " '8d110815-e16b-4d8b-b116-4a3f24304a90',\n",
       " '7618accc-f27a-4dae-a5d7-90fef09273f2',\n",
       " '425f58b9-cebe-4637-83bb-522c03c3b29a',\n",
       " '647ff536-a0a7-4997-9d58-d563b3f95099',\n",
       " '074afd29-dede-4b3d-af0b-a043ed391da5',\n",
       " '7710865f-ddf4-412c-adc4-84bcf8a788c4',\n",
       " 'abe4fcad-b08f-4fdd-a3b8-c62391d3e3cb',\n",
       " 'd2339796-0dfe-4bb2-8114-5f8ceefec733',\n",
       " '7881f33b-01b2-446e-817a-c2026d97bb5c',\n",
       " 'f9b18a3b-cc2d-4f75-82e6-e09ce4b77db4',\n",
       " 'ad3a1b1e-1bb9-46d5-a70f-8123784374e8',\n",
       " '393fcc78-ce63-420b-bde9-ca69a8bc8108',\n",
       " '04775d8d-0a6e-4b11-aa46-b68c48cb0964',\n",
       " '7805d00c-ee28-46b2-b329-448e6b65aa12',\n",
       " '6af57e5a-8edb-4c06-82dd-40898ffcdfdf',\n",
       " 'fe4993fb-7208-4dc5-85b8-969cd4ff4502',\n",
       " 'a2cf8492-8594-43bf-99d1-e8aa0a944108',\n",
       " '522d536b-e0b0-4063-8268-ad2799a017f2',\n",
       " 'a7eabf0a-5043-44c1-9a1f-21143ea835a5',\n",
       " '69ad2438-6482-4ca8-821c-b92f8df235aa',\n",
       " '03100022-e0d2-4338-b2cb-f3adfb2022d9',\n",
       " '9552af6c-be8e-4dd0-99c1-0d903b26e427',\n",
       " '3eb96d7f-e14a-4526-a554-bbbf6514d30f',\n",
       " 'c6ab9e87-ced7-4a87-a08a-b905dc840da1',\n",
       " 'cd1e24c4-b528-4830-ada1-6d5fa2390205',\n",
       " 'f81f02fe-df3d-4001-81d0-4d54c450cc81',\n",
       " '60b18c16-6418-4a6f-843c-9dbd0a8dd6b9',\n",
       " '646454ce-f1a2-445e-8909-9ebcb28769cc',\n",
       " '5314a481-dac9-4d77-9e5b-97f9d718ab5a',\n",
       " '76ab4eec-a81e-4045-b5a4-24d8722bd2df',\n",
       " '83242d31-37e4-4ad2-867c-89c59e51f854',\n",
       " '8e3ff2ad-7b36-436d-b0a6-cafea75eba59',\n",
       " 'af8f30db-6b23-4e45-ba77-a02fdbd849d4',\n",
       " 'ed005592-29fb-4f3f-b92d-36c8e9d68e7d',\n",
       " 'b2f311fd-cb75-474a-8b5b-93a308d1e1ca',\n",
       " '2ebee862-a118-47ca-8298-dcee4579017c']"
      ]
     },
     "execution_count": 58,
     "metadata": {},
     "output_type": "execute_result"
    }
   ],
   "source": [
    "vector_store.add_documents(documents=split_docs) # added 615 chunks with cosine similarity index"
   ]
  },
  {
   "cell_type": "code",
   "execution_count": 59,
   "id": "95c466cc",
   "metadata": {},
   "outputs": [],
   "source": [
    "retriever=vector_store.as_retriever(\n",
    "    search_kwargs={\"k\": 10} #hyperparameter\n",
    ")"
   ]
  },
  {
   "cell_type": "code",
   "execution_count": 60,
   "id": "39330aee",
   "metadata": {},
   "outputs": [
    {
     "data": {
      "text/plain": [
       "[Document(id='9a0b94ed-4a72-478d-8e8b-7a2547366363', metadata={'producer': 'pdfTeX-1.40.25', 'creator': 'LaTeX with hyperref', 'creationdate': '2023-07-20T00:30:36+00:00', 'author': '', 'keywords': '', 'moddate': '2023-07-20T00:30:36+00:00', 'ptex.fullbanner': 'This is pdfTeX, Version 3.141592653-2.6-1.40.25 (TeX Live 2023) kpathsea version 6.3.5', 'subject': '', 'title': '', 'trapped': '/False', 'source': 'C:\\\\Users\\\\Artur Dragunov\\\\Documents\\\\GIT\\\\agentic-ai-bootcamp\\\\2-Langchain Basics\\\\llama2-bf0a30209b224e26e31087559688ce81.pdf', 'total_pages': 77, 'page': 3, 'page_label': '4'}, page_content='work (Section 6), and conclusions (Section 7).\\n‡https://ai.meta.com/resources/models-and-libraries/llama/\\n§We are delaying the release of the 34B model due to a lack of time to sufficiently red team.\\n¶https://ai.meta.com/llama\\n‖https://github.com/facebookresearch/llama\\n4'),\n",
       " Document(id='7d6c6445-daab-40ea-968f-d41e5ad0c7d6', metadata={'producer': 'pdfTeX-1.40.25', 'creator': 'LaTeX with hyperref', 'creationdate': '2023-07-20T00:30:36+00:00', 'author': '', 'keywords': '', 'moddate': '2023-07-20T00:30:36+00:00', 'ptex.fullbanner': 'This is pdfTeX, Version 3.141592653-2.6-1.40.25 (TeX Live 2023) kpathsea version 6.3.5', 'subject': '', 'title': '', 'trapped': '/False', 'source': 'C:\\\\Users\\\\Artur Dragunov\\\\Documents\\\\GIT\\\\agentic-ai-bootcamp\\\\2-Langchain Basics\\\\llama2-bf0a30209b224e26e31087559688ce81.pdf', 'total_pages': 77, 'page': 42, 'page_label': '43'}, page_content='10.18653/v1/2022.gebnlp-1.13. URLhttps://aclanthology.org/2022.gebnlp-1.13.\\nAlonTalmor,JonathanHerzig,NicholasLourie,andJonathanBerant.Commonsenseqa: Aquestionanswering\\nchallenge targeting commonsense knowledge.arXiv preprint arXiv:1811.00937, 2018.\\nRohan Taori, Ishaan Gulrajani, Tianyi Zhang, Yann Dubois, Xuechen Li, Carlos Guestrin, Percy Liang, and\\nTatsunori B. Hashimoto. Stanford alpaca: An instruction-following llama model.https://github.com/\\ntatsu-lab/stanford_alpaca, 2023.'),\n",
       " Document(id='83242d31-37e4-4ad2-867c-89c59e51f854', metadata={'producer': 'pdfTeX-1.40.25', 'creator': 'LaTeX with hyperref', 'creationdate': '2023-07-20T00:30:36+00:00', 'author': '', 'keywords': '', 'moddate': '2023-07-20T00:30:36+00:00', 'ptex.fullbanner': 'This is pdfTeX, Version 3.141592653-2.6-1.40.25 (TeX Live 2023) kpathsea version 6.3.5', 'subject': '', 'title': '', 'trapped': '/False', 'source': 'C:\\\\Users\\\\Artur Dragunov\\\\Documents\\\\GIT\\\\agentic-ai-bootcamp\\\\2-Langchain Basics\\\\llama2-bf0a30209b224e26e31087559688ce81.pdf', 'total_pages': 77, 'page': 76, 'page_label': '77'}, page_content='models-and-libraries/llama-downloads/\\nWhere to send com-\\nments\\nInstructions on how to provide feedback or comments on the model can be\\nfound in the model README, or by opening an issue in the GitHub repository\\n(https://github.com/facebookresearch/llama/).\\nIntended Use\\nIntended Use CasesLlama 2is intended for commercial and research use in English. Tuned models\\nare intended for assistant-like chat, whereas pretrained models can be adapted\\nfor a variety of natural language generation tasks.'),\n",
       " Document(id='ed1f1fa1-2edc-476c-9065-935ddeed0417', metadata={'producer': 'pdfTeX-1.40.25', 'creator': 'LaTeX with hyperref', 'creationdate': '2023-07-20T00:30:36+00:00', 'author': '', 'keywords': '', 'moddate': '2023-07-20T00:30:36+00:00', 'ptex.fullbanner': 'This is pdfTeX, Version 3.141592653-2.6-1.40.25 (TeX Live 2023) kpathsea version 6.3.5', 'subject': '', 'title': '', 'trapped': '/False', 'source': 'C:\\\\Users\\\\Artur Dragunov\\\\Documents\\\\GIT\\\\agentic-ai-bootcamp\\\\2-Langchain Basics\\\\llama2-bf0a30209b224e26e31087559688ce81.pdf', 'total_pages': 77, 'page': 46, 'page_label': '47'}, page_content='• Armand Joulin, Edouard Grave, Guillaume Lample, and Timothee Lacroix, members of the original\\nLlama team who helped get this work started.\\n• Drew Hamlin, Chantal Mora, and Aran Mun, who gave us some design input on the figures in the\\npaper.\\n• Vijai Mohan for the discussions about RLHF that inspired our Figure 20, and his contribution to the\\ninternal demo.\\n• Earlyreviewersofthispaper,whohelpedusimproveitsquality,includingMikeLewis,JoellePineau,'),\n",
       " Document(id='e9ab9183-a7bc-42fb-856e-ff0a3ddd8c83', metadata={'producer': 'pdfTeX-1.40.25', 'creator': 'LaTeX with hyperref', 'creationdate': '2023-07-20T00:30:36+00:00', 'author': '', 'keywords': '', 'moddate': '2023-07-20T00:30:36+00:00', 'ptex.fullbanner': 'This is pdfTeX, Version 3.141592653-2.6-1.40.25 (TeX Live 2023) kpathsea version 6.3.5', 'subject': '', 'title': '', 'trapped': '/False', 'source': 'C:\\\\Users\\\\Artur Dragunov\\\\Documents\\\\GIT\\\\agentic-ai-bootcamp\\\\2-Langchain Basics\\\\llama2-bf0a30209b224e26e31087559688ce81.pdf', 'total_pages': 77, 'page': 7, 'page_label': '8'}, page_content='et al., 2023). For AGI Eval, we only evaluate on the English tasks and report the average.\\nAs shown in Table 3,Llama 2models outperformLlama 1models. In particular,Llama 270B improves the\\nresultsonMMLUandBBHby ≈5and ≈8points, respectively, comparedtoLlama 165B.Llama 27Band30B\\nmodelsoutperformMPTmodelsofthecorrespondingsizeonallcategoriesbesidescodebenchmarks. Forthe\\nFalcon models,Llama 27B and 34B outperform Falcon 7B and 40B models on all categories of benchmarks.'),\n",
       " Document(id='e3b88972-78f8-4e37-bd34-a776a2836cc2', metadata={'producer': 'pdfTeX-1.40.25', 'creator': 'LaTeX with hyperref', 'creationdate': '2023-07-20T00:30:36+00:00', 'author': '', 'keywords': '', 'moddate': '2023-07-20T00:30:36+00:00', 'ptex.fullbanner': 'This is pdfTeX, Version 3.141592653-2.6-1.40.25 (TeX Live 2023) kpathsea version 6.3.5', 'subject': '', 'title': '', 'trapped': '/False', 'source': 'C:\\\\Users\\\\Artur Dragunov\\\\Documents\\\\GIT\\\\agentic-ai-bootcamp\\\\2-Langchain Basics\\\\llama2-bf0a30209b224e26e31087559688ce81.pdf', 'total_pages': 77, 'page': 2, 'page_label': '3'}, page_content='Llama 2-Chat, at scales up to 70B parameters. On the series of helpfulness and safety benchmarks we tested,\\nLlama 2-Chatmodels generally perform better than existing open-source models. They also appear to\\nbe on par with some of the closed-source models, at least on the human evaluations we performed (see\\nFigures 1 and 3). We have taken measures to increase the safety of these models, using safety-specific data'),\n",
       " Document(id='76ab4eec-a81e-4045-b5a4-24d8722bd2df', metadata={'producer': 'pdfTeX-1.40.25', 'creator': 'LaTeX with hyperref', 'creationdate': '2023-07-20T00:30:36+00:00', 'author': '', 'keywords': '', 'moddate': '2023-07-20T00:30:36+00:00', 'ptex.fullbanner': 'This is pdfTeX, Version 3.141592653-2.6-1.40.25 (TeX Live 2023) kpathsea version 6.3.5', 'subject': '', 'title': '', 'trapped': '/False', 'source': 'C:\\\\Users\\\\Artur Dragunov\\\\Documents\\\\GIT\\\\agentic-ai-bootcamp\\\\2-Langchain Basics\\\\llama2-bf0a30209b224e26e31087559688ce81.pdf', 'total_pages': 77, 'page': 76, 'page_label': '77'}, page_content='architecture. The tuned versions use supervised fine-tuning (SFT) and reinforce-\\nment learning with human feedback (RLHF) to align to human preferences for\\nhelpfulness and safety.\\nModel Dates Llama 2was trained between January 2023 and July 2023.\\nStatus This is a static model trained on an offline dataset. Future versions of the tuned\\nmodels will be released as we improve model safety with community feedback.\\nLicense A custom commercial license is available at:ai.meta.com/resources/'),\n",
       " Document(id='b2f311fd-cb75-474a-8b5b-93a308d1e1ca', metadata={'producer': 'pdfTeX-1.40.25', 'creator': 'LaTeX with hyperref', 'creationdate': '2023-07-20T00:30:36+00:00', 'author': '', 'keywords': '', 'moddate': '2023-07-20T00:30:36+00:00', 'ptex.fullbanner': 'This is pdfTeX, Version 3.141592653-2.6-1.40.25 (TeX Live 2023) kpathsea version 6.3.5', 'subject': '', 'title': '', 'trapped': '/False', 'source': 'C:\\\\Users\\\\Artur Dragunov\\\\Documents\\\\GIT\\\\agentic-ai-bootcamp\\\\2-Langchain Basics\\\\llama2-bf0a30209b224e26e31087559688ce81.pdf', 'total_pages': 77, 'page': 76, 'page_label': '77'}, page_content='Llama 2is a new technology that carries risks with use. Testing conducted to date has been in\\nEnglish, and has not covered, nor could it cover all scenarios. For these reasons, as with all LLMs,\\nLlama 2’s potential outputs cannot be predicted in advance, and the model may in some instances\\nproduce inaccurate or objectionable responses to user prompts. Therefore, before deploying any\\napplications ofLlama 2, developers should perform safety testing and tuning tailored to their'),\n",
       " Document(id='70c4caed-732d-4a7e-9ad5-a70e1f214a31', metadata={'producer': 'pdfTeX-1.40.25', 'creator': 'LaTeX with hyperref', 'creationdate': '2023-07-20T00:30:36+00:00', 'author': '', 'keywords': '', 'moddate': '2023-07-20T00:30:36+00:00', 'ptex.fullbanner': 'This is pdfTeX, Version 3.141592653-2.6-1.40.25 (TeX Live 2023) kpathsea version 6.3.5', 'subject': '', 'title': '', 'trapped': '/False', 'source': 'C:\\\\Users\\\\Artur Dragunov\\\\Documents\\\\GIT\\\\agentic-ai-bootcamp\\\\2-Langchain Basics\\\\llama2-bf0a30209b224e26e31087559688ce81.pdf', 'total_pages': 77, 'page': 70, 'page_label': '71'}, page_content='Llama 1\\n7B 16.65 30.72 26.82 16.58 26.49 22.27 17.16 19.71 28.67 21.71 29.80 23.01 19.37\\n13B 18.80 32.03 25.18 14.72 28.54 21.11 18.76 15.71 30.42 20.52 27.15 25.21 21.85\\n33B 16.87 32.24 21.53 16.24 28.54 22.04 19.91 18.27 29.88 18.13 25.90 24.53 19.37\\n65B 14.27 31.59 21.90 14.89 23.51 22.27 17.16 18.91 28.40 19.32 28.71 22.00 20.03\\nLlama 2\\n7B 16.53 31.15 22.63 15.74 26.87 19.95 15.79 19.55 25.03 18.92 21.53 22.34 20.20'),\n",
       " Document(id='24d7a994-64f5-4981-8146-d1c7f26c455d', metadata={'producer': 'pdfTeX-1.40.25', 'creator': 'LaTeX with hyperref', 'creationdate': '2023-07-20T00:30:36+00:00', 'author': '', 'keywords': '', 'moddate': '2023-07-20T00:30:36+00:00', 'ptex.fullbanner': 'This is pdfTeX, Version 3.141592653-2.6-1.40.25 (TeX Live 2023) kpathsea version 6.3.5', 'subject': '', 'title': '', 'trapped': '/False', 'source': 'C:\\\\Users\\\\Artur Dragunov\\\\Documents\\\\GIT\\\\agentic-ai-bootcamp\\\\2-Langchain Basics\\\\llama2-bf0a30209b224e26e31087559688ce81.pdf', 'total_pages': 77, 'page': 17, 'page_label': '18'}, page_content='we usegpt-3.5-turbo-0301 model in all generations. For PaLM, we use thechat-bison-001 model in all\\ngenerations. The final prompt count for human evaluations for each model is shown in Table 32. See more\\nmethodology details in Appendix, Section A.3.7. The following section shows helpfulness results; safety\\nresults are presented in Section 4.4.\\nResults. As shown in Figure 12,Llama 2-Chatmodels outperform open-source models by a significant')]"
      ]
     },
     "execution_count": 60,
     "metadata": {},
     "output_type": "execute_result"
    }
   ],
   "source": [
    "retriever.invoke(\"what is llama model?\")"
   ]
  },
  {
   "cell_type": "code",
   "execution_count": 62,
   "id": "6206c1a3",
   "metadata": {},
   "outputs": [],
   "source": [
    "from langchain_openai import ChatOpenAI\n",
    "\n",
    "model = ChatOpenAI(model = \"gpt-4.1-mini-2025-04-14\")"
   ]
  },
  {
   "cell_type": "code",
   "execution_count": null,
   "id": "3f475cad",
   "metadata": {},
   "outputs": [],
   "source": [
    "from langchain import hub\n",
    "prompt = hub.pull(\"rlm/rag-prompt\") # RAG prompt template"
   ]
  },
  {
   "cell_type": "code",
   "execution_count": 66,
   "id": "6c1b3524",
   "metadata": {},
   "outputs": [
    {
     "name": "stdout",
     "output_type": "stream",
     "text": [
      "[HumanMessagePromptTemplate(prompt=PromptTemplate(input_variables=['context', 'question'], input_types={}, partial_variables={}, template=\"You are an assistant for question-answering tasks. Use the following pieces of retrieved context to answer the question. If you don't know the answer, just say that you don't know. Use three sentences maximum and keep the answer concise.\\nQuestion: {question} \\nContext: {context} \\nAnswer:\"), additional_kwargs={})]\n"
     ]
    }
   ],
   "source": [
    "import pprint\n",
    "pprint.pprint(prompt.messages)"
   ]
  },
  {
   "cell_type": "markdown",
   "id": "5d733fc6",
   "metadata": {},
   "source": [
    "[HumanMessagePromptTemplate(prompt=PromptTemplate(input_variables=['context', 'question'], input_types={}, partial_variables={}, template=\"You are an assistant for question-answering tasks. Use the following pieces of retrieved context to answer the question. If you don't know the answer, just say that you don't know. Use three sentences maximum and keep the answer concise.\\nQuestion: {question} \\nContext: {context} \\nAnswer:\"), additional_kwargs={})]"
   ]
  },
  {
   "cell_type": "code",
   "execution_count": 67,
   "id": "1af11f84",
   "metadata": {},
   "outputs": [],
   "source": [
    "from langchain_core.output_parsers import StrOutputParser\n",
    "from langchain_core.runnables import RunnablePassthrough\n",
    "# RunnablePassthrough() passes input data through unchanged\n",
    "# it's essentially a \"do nothing\" operation that forwards whatever it receives."
   ]
  },
  {
   "cell_type": "code",
   "execution_count": null,
   "id": "4e44d99e",
   "metadata": {},
   "outputs": [],
   "source": [
    "# context(retriever),prompt(hub),model(openai),parser(langchain)"
   ]
  },
  {
   "cell_type": "code",
   "execution_count": 68,
   "id": "a10435ec",
   "metadata": {},
   "outputs": [],
   "source": [
    "def format_docs(docs):\n",
    "    return \"\\n\\n\".join(doc.page_content for doc in docs)\n",
    "    "
   ]
  },
  {
   "cell_type": "code",
   "execution_count": 69,
   "id": "39a90eef",
   "metadata": {},
   "outputs": [],
   "source": [
    "rag_chain = (\n",
    "    {\"context\": retriever | format_docs, \"question\": RunnablePassthrough()}\n",
    "    | prompt\n",
    "    | model\n",
    "    | StrOutputParser()\n",
    ")"
   ]
  },
  {
   "cell_type": "code",
   "execution_count": 70,
   "id": "5dc3c2c2",
   "metadata": {},
   "outputs": [
    {
     "data": {
      "text/plain": [
       "'The Llama model is a series of large language models developed by Meta, designed for natural language generation tasks. Llama 2, the latest version, includes tuned assistant-like chat models and pretrained models for research and commercial use, trained with techniques like supervised fine-tuning and reinforcement learning from human feedback to improve helpfulness and safety. It supports models up to 70 billion parameters and competes with other open and closed-source models in performance.'"
      ]
     },
     "execution_count": 70,
     "metadata": {},
     "output_type": "execute_result"
    }
   ],
   "source": [
    "rag_chain.invoke(\"what is llama model?\")"
   ]
  },
  {
   "cell_type": "code",
   "execution_count": null,
   "id": "82725f7f",
   "metadata": {},
   "outputs": [],
   "source": []
  }
 ],
 "metadata": {
  "kernelspec": {
   "display_name": ".venv",
   "language": "python",
   "name": "python3"
  },
  "language_info": {
   "codemirror_mode": {
    "name": "ipython",
    "version": 3
   },
   "file_extension": ".py",
   "mimetype": "text/x-python",
   "name": "python",
   "nbconvert_exporter": "python",
   "pygments_lexer": "ipython3",
   "version": "3.13.2"
  }
 },
 "nbformat": 4,
 "nbformat_minor": 5
}
