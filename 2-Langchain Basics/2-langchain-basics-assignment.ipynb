{
 "cells": [
  {
   "cell_type": "markdown",
   "metadata": {},
   "source": [
    "### Assisgment:\n",
    "\n",
    "Create a simple assistant that uses any LLM and should be pydantic, when we ask about any product it should give you following information: product Name, product details tentative price in USD (integer). use chat Prompt Template.\n"
   ]
  },
  {
   "cell_type": "code",
   "execution_count": 2,
   "metadata": {},
   "outputs": [],
   "source": [
    "from duckduckgo_search import DDGS\n",
    "\n",
    "def search_product_on_web(query: str) -> str:\n",
    "    with DDGS() as ddgs:\n",
    "        results = ddgs.text(query, max_results=3)\n",
    "        if results:\n",
    "            return \"\\n\".join([res['body'] for res in results])\n",
    "        return \"No relevant results found.\"\n"
   ]
  },
  {
   "cell_type": "code",
   "execution_count": 4,
   "metadata": {},
   "outputs": [
    {
     "name": "stdout",
     "output_type": "stream",
     "text": [
      "{'name': 'BMW M3 Competition xDrive', 'details': 'The BMW M3 Competition xDrive is the fastest version of the BMW 3 Series available on the market. It is an all-wheel-drive four-door sedan known for its high-performance capabilities and is widely regarded as a benchmark in the sports sedan segment. It offers scintillating performance suitable for everyday use, competing closely with models like the Tesla Model 3 Performance.', 'price': 72000}\n"
     ]
    }
   ],
   "source": [
    "from langchain_core.output_parsers import JsonOutputParser\n",
    "from langchain_core.prompts import PromptTemplate\n",
    "from langchain_openai import ChatOpenAI\n",
    "from pydantic import BaseModel, Field\n",
    "\n",
    "model = ChatOpenAI(temperature=0.1, model = \"gpt-4.1-mini-2025-04-14\")\n",
    "\n",
    "\n",
    "class ProductDetails(BaseModel):\n",
    "    name: str = Field(description=\"inquired product name\")\n",
    "    details: str = Field(description=\"details related to the inquired product\")\n",
    "    price: int = Field(description=\"tentative price of the inquired product in USD provided as an integer\")\n",
    "\n",
    "\n",
    "product_query = \"Tell me about the fastest version of BMW model 3 available on the market\"\n",
    "web_data = search_product_on_web(product_query)\n",
    "\n",
    "parser = JsonOutputParser(pydantic_object=ProductDetails)\n",
    "\n",
    "prompt = PromptTemplate(\n",
    "    template=\"Answer the user query: <{query}> using the following web search results <{web_data}>.\\n{format_instructions}\\n\",\n",
    "    input_variables=[\"query\", \"web_data\"],\n",
    "    partial_variables={\"format_instructions\": parser.get_format_instructions()},\n",
    ")\n",
    "\n",
    "chain = prompt | model | parser\n",
    "\n",
    "response = chain.invoke({\n",
    "    \"query\": product_query,\n",
    "    \"web_data\": web_data\n",
    "})\n",
    "print(response)"
   ]
  }
 ],
 "metadata": {
  "kernelspec": {
   "display_name": "Python 3",
   "language": "python",
   "name": "python3"
  },
  "language_info": {
   "codemirror_mode": {
    "name": "ipython",
    "version": 3
   },
   "file_extension": ".py",
   "mimetype": "text/x-python",
   "name": "python",
   "nbconvert_exporter": "python",
   "pygments_lexer": "ipython3",
   "version": "3.13.2"
  }
 },
 "nbformat": 4,
 "nbformat_minor": 2
}
