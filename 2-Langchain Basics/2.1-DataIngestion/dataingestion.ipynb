{
 "cells": [
  {
   "cell_type": "markdown",
   "id": "beff34fb",
   "metadata": {},
   "source": [
    "### Data Ingestion or Data Loader\n",
    "https://python.langchain.com/docs/integrations/document_loaders/"
   ]
  },
  {
   "cell_type": "code",
   "execution_count": 1,
   "id": "4c5285f6",
   "metadata": {},
   "outputs": [],
   "source": [
    "### text loader\n",
    "from langchain_community.document_loaders.text import TextLoader"
   ]
  },
  {
   "cell_type": "code",
   "execution_count": null,
   "id": "ea38a204",
   "metadata": {},
   "outputs": [],
   "source": [
    "loader=TextLoader('speech.txt')\n",
    "loader"
   ]
  },
  {
   "cell_type": "code",
   "execution_count": null,
   "id": "4d472cb0",
   "metadata": {},
   "outputs": [],
   "source": [
    "text_documents=loader.load()\n",
    "text_documents # we can't parse it directly to LLM. We need it split it first"
   ]
  },
  {
   "cell_type": "code",
   "execution_count": null,
   "id": "32d11c53",
   "metadata": {},
   "outputs": [],
   "source": [
    "### Read a PDf file\n",
    "from langchain_community.document_loaders import PyPDFLoader\n",
    "loader=PyPDFLoader('syllabus.pdf')\n",
    "docs=loader.load()\n",
    "docs"
   ]
  },
  {
   "cell_type": "code",
   "execution_count": null,
   "id": "120674d0",
   "metadata": {},
   "outputs": [],
   "source": [
    "## Web based loader - read from a website\n",
    "from langchain_community.document_loaders import WebBaseLoader\n",
    "import bs4\n",
    "loader=WebBaseLoader(web_paths=(\"https://python.langchain.com/docs/integrations/document_loaders/\",\"https://platform.openai.com/docs/pricing\"),) # you can provide any amount of links\n",
    "docs=loader.load()\n",
    "docs"
   ]
  },
  {
   "cell_type": "code",
   "execution_count": null,
   "id": "ca0f8216",
   "metadata": {},
   "outputs": [],
   "source": [
    "## Web based loader\n",
    "loader=WebBaseLoader(web_paths=(\"https://lilianweng.github.io/posts/2023-06-23-agent/\",),\n",
    "                     bs_kwargs=dict(parse_only=bs4.SoupStrainer(\n",
    "                         class_=(\"post-title\",\"post-content\",\"post-header\") # Souptrainer is targeting specific class of elements from the webpage (html tags) to scrap\n",
    "                     ))\n",
    "                     )\n",
    "\n",
    "doc=loader.load()\n",
    "doc"
   ]
  },
  {
   "cell_type": "code",
   "execution_count": null,
   "id": "4b23ba7f",
   "metadata": {},
   "outputs": [],
   "source": [
    "#Arxiv\n",
    "from langchain_community.document_loaders import ArxivLoader\n",
    "docs = ArxivLoader(query=\"1706.03762\", load_max_docs=2).load() # load arxiv articles. Take up to 2 documents which match\n",
    "docs"
   ]
  },
  {
   "cell_type": "code",
   "execution_count": null,
   "id": "d5edd048",
   "metadata": {},
   "outputs": [],
   "source": [
    "len(docs)"
   ]
  },
  {
   "cell_type": "code",
   "execution_count": null,
   "id": "6dbdfe1d",
   "metadata": {},
   "outputs": [],
   "source": [
    "from langchain_community.document_loaders import WikipediaLoader\n",
    "docs = WikipediaLoader(query=\"Generative AI\", load_max_docs=4).load()\n",
    "len(docs)\n",
    "print(docs)"
   ]
  },
  {
   "cell_type": "code",
   "execution_count": null,
   "id": "ee003cdc",
   "metadata": {},
   "outputs": [],
   "source": [
    "from langchain_community.document_loaders import RecursiveUrlLoader\n",
    "\n",
    "loader = RecursiveUrlLoader(\n",
    "    \"https://www.autoocista.cz/o-nas/\",\n",
    ")\n",
    "print(loader.load())"
   ]
  },
  {
   "cell_type": "code",
   "execution_count": null,
   "id": "229681be",
   "metadata": {},
   "outputs": [],
   "source": []
  },
  {
   "cell_type": "code",
   "execution_count": null,
   "id": "a3b7843a",
   "metadata": {},
   "outputs": [],
   "source": []
  },
  {
   "cell_type": "code",
   "execution_count": null,
   "id": "0e46025d",
   "metadata": {},
   "outputs": [],
   "source": []
  },
  {
   "cell_type": "code",
   "execution_count": null,
   "id": "3c70c53c",
   "metadata": {},
   "outputs": [],
   "source": []
  },
  {
   "cell_type": "code",
   "execution_count": null,
   "id": "8ca1adcd",
   "metadata": {},
   "outputs": [],
   "source": []
  },
  {
   "cell_type": "code",
   "execution_count": null,
   "id": "fd3c992e",
   "metadata": {},
   "outputs": [],
   "source": []
  },
  {
   "cell_type": "code",
   "execution_count": null,
   "id": "ae51e7d1",
   "metadata": {},
   "outputs": [],
   "source": []
  },
  {
   "cell_type": "code",
   "execution_count": null,
   "id": "80ad45d5",
   "metadata": {},
   "outputs": [],
   "source": []
  },
  {
   "cell_type": "code",
   "execution_count": null,
   "id": "352a2124",
   "metadata": {},
   "outputs": [],
   "source": []
  }
 ],
 "metadata": {
  "kernelspec": {
   "display_name": "Python 3",
   "language": "python",
   "name": "python3"
  },
  "language_info": {
   "codemirror_mode": {
    "name": "ipython",
    "version": 3
   },
   "file_extension": ".py",
   "mimetype": "text/x-python",
   "name": "python",
   "nbconvert_exporter": "python",
   "pygments_lexer": "ipython3",
   "version": "3.13.2"
  }
 },
 "nbformat": 4,
 "nbformat_minor": 5
}
