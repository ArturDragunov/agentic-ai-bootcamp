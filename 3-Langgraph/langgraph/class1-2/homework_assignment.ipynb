{
 "cells": [
  {
   "cell_type": "markdown",
   "id": "b615aa81",
   "metadata": {},
   "source": [
    "### Config the model"
   ]
  },
  {
   "cell_type": "code",
   "execution_count": 103,
   "id": "984ed602",
   "metadata": {},
   "outputs": [],
   "source": [
    "from langchain_google_genai import ChatGoogleGenerativeAI\n",
    "model=ChatGoogleGenerativeAI(model='gemini-2.5-flash-preview-05-20')"
   ]
  },
  {
   "cell_type": "markdown",
   "id": "6a332baf",
   "metadata": {},
   "source": [
    "### Config the embedding model"
   ]
  },
  {
   "cell_type": "code",
   "execution_count": 104,
   "id": "2ff22911",
   "metadata": {},
   "outputs": [],
   "source": [
    "import os\n",
    "os.environ['HF_TOKEN']=os.getenv(\"HUGGINGFACEHUB_API_TOKEN\")\n",
    "from langchain_huggingface import HuggingFaceEmbeddings\n",
    "embeddings = HuggingFaceEmbeddings(model_name=\"BAAI/bge-small-en\")"
   ]
  },
  {
   "cell_type": "markdown",
   "id": "ee0b265e",
   "metadata": {},
   "source": [
    "## lets take a data embedd it and store in VDB"
   ]
  },
  {
   "cell_type": "code",
   "execution_count": 105,
   "id": "692e03ac",
   "metadata": {},
   "outputs": [],
   "source": [
    "from langchain_community.document_loaders import TextLoader, DirectoryLoader\n",
    "from langchain_community.vectorstores import Chroma\n",
    "from langchain.text_splitter import RecursiveCharacterTextSplitter"
   ]
  },
  {
   "cell_type": "code",
   "execution_count": 106,
   "id": "d071a1b9",
   "metadata": {},
   "outputs": [],
   "source": [
    "loader=DirectoryLoader(\"../data2\",glob=\"./*.txt\",loader_cls=TextLoader) \n",
    "docs=loader.load()\n",
    "text_splitter=RecursiveCharacterTextSplitter(\n",
    "    chunk_size=200,\n",
    "    chunk_overlap=50\n",
    ")\n",
    "new_docs=text_splitter.split_documents(documents=docs)\n",
    "doc_string=[doc.page_content for doc in new_docs] # we dropped the metadata\n"
   ]
  },
  {
   "cell_type": "code",
   "execution_count": 107,
   "id": "e312b2bf",
   "metadata": {},
   "outputs": [],
   "source": [
    "db=Chroma.from_documents(new_docs,embeddings) # in-memory vector DB"
   ]
  },
  {
   "cell_type": "code",
   "execution_count": 108,
   "id": "b3aa918e",
   "metadata": {},
   "outputs": [],
   "source": [
    "retriever=db.as_retriever(search_kwargs={\"k\": 3})"
   ]
  },
  {
   "cell_type": "markdown",
   "id": "a922261c",
   "metadata": {},
   "source": [
    "## creation of pydantic class"
   ]
  },
  {
   "cell_type": "code",
   "execution_count": 109,
   "id": "2b01e7fb",
   "metadata": {},
   "outputs": [
    {
     "data": {
      "text/plain": [
       "True"
      ]
     },
     "execution_count": 109,
     "metadata": {},
     "output_type": "execute_result"
    }
   ],
   "source": [
    "import operator\n",
    "from typing import List\n",
    "from pydantic import BaseModel , Field\n",
    "from langchain.prompts import PromptTemplate\n",
    "from typing import TypedDict, Annotated, Sequence\n",
    "from langchain_core.messages import BaseMessage\n",
    "from langchain_core.output_parsers import StrOutputParser\n",
    "from langchain_core.prompts import ChatPromptTemplate, PromptTemplate\n",
    "from langchain_core.runnables import RunnablePassthrough\n",
    "from langchain_core.messages import HumanMessage, AIMessage\n",
    "from langgraph.graph import StateGraph,END\n",
    "from dotenv import load_dotenv\n",
    "load_dotenv()"
   ]
  },
  {
   "cell_type": "code",
   "execution_count": 110,
   "id": "8e2586ab",
   "metadata": {},
   "outputs": [],
   "source": [
    "from typing import Literal\n",
    "class TopicSelectionParser(BaseModel):\n",
    "  # to decrease halucination, first do reasoning and then topic\n",
    "  Reasoning: str = Field(description='Reasoning behind topic selection')\n",
    "  Topic: Literal[\"USA\", \"Web\", \"Not Related\"] = Field(description=\"selected topic\")"
   ]
  },
  {
   "cell_type": "code",
   "execution_count": 111,
   "id": "8a44b1b4",
   "metadata": {},
   "outputs": [],
   "source": [
    "from langchain.output_parsers import PydanticOutputParser\n",
    "parser=PydanticOutputParser(pydantic_object=TopicSelectionParser)"
   ]
  },
  {
   "cell_type": "code",
   "execution_count": 112,
   "id": "4b50c28f",
   "metadata": {},
   "outputs": [],
   "source": [
    "class AgentState(TypedDict):\n",
    "    messages: Annotated[Sequence[BaseMessage], operator.add]"
   ]
  },
  {
   "cell_type": "code",
   "execution_count": 113,
   "id": "88c27bb3",
   "metadata": {},
   "outputs": [],
   "source": [
    "from langchain_core.messages import AIMessage\n",
    "def function_1(state:AgentState): # state should be of AgentState type\n",
    "    \n",
    "    question=state[\"messages\"][0].content # we take latest message (recent) -> this is a BaseMessage object\n",
    "    \n",
    "    print(\"Question\",question)\n",
    "    \n",
    "    template=\"\"\"\n",
    "    Your task is to classify the given user query into one of the following categories: [USA, Web, Not Related]. \n",
    "    Only respond with the category name and nothing else. Respond USA if the query is about the US economy,\n",
    "    respond Web if the query requires to look for the latest information in the internet (e.g. current weather),\n",
    "    respond Not Related if the query is not related to USA or Web and you can answer it using your knowledge.\n",
    "\n",
    "    User query: {question}\n",
    "    {format_instructions}\n",
    "    \"\"\"\n",
    "    \n",
    "    prompt= PromptTemplate(\n",
    "        template=template,\n",
    "        input_variable=[\"question\"],\n",
    "        partial_variables={\"format_instructions\": parser.get_format_instructions()} # parser was defined outside of the function and it's a PydanticOutputParser\n",
    "    ) # partial variables are those which enter the prompt but they are not part of the chain invoke\n",
    "    \n",
    "    \n",
    "    chain= prompt | model | parser \n",
    "    # we pass the question to the prompt, then the llm model takes the prompt and outputs the response,\n",
    "\t\t# and then this response is evaluated by parser to have the right format\n",
    "    response = chain.invoke({\"question\":question})\n",
    "    \n",
    "    print(\"Parsed response:\", response)\n",
    "    \n",
    "    return {\"messages\": [AIMessage(content=response.Topic)]} # now it's like a new message in the state"
   ]
  },
  {
   "cell_type": "code",
   "execution_count": 114,
   "id": "88f0a9e2",
   "metadata": {},
   "outputs": [],
   "source": [
    "def router(state: AgentState):\n",
    "    print(\"-> ROUTER ->\")\n",
    "    last_message = state[\"messages\"][-1].content\n",
    "    print(f\"Router input (last message): '{last_message}'\")\n",
    "    \n",
    "    if \"usa\" in last_message.lower():\n",
    "        result = \"RAG Call\"\n",
    "    elif \"web\" in last_message.lower():\n",
    "        result = \"Web Call\"\n",
    "    else:\n",
    "        result = \"LLM Call\"\n",
    "    \n",
    "    print(f\"Router output: '{result}'\")\n",
    "    return result"
   ]
  },
  {
   "cell_type": "code",
   "execution_count": 115,
   "id": "b66f1de5",
   "metadata": {},
   "outputs": [],
   "source": [
    "def format_docs(docs):\n",
    "    return \"\\n\\n\".join(doc.page_content for doc in docs)"
   ]
  },
  {
   "cell_type": "code",
   "execution_count": 116,
   "id": "188882bd",
   "metadata": {},
   "outputs": [],
   "source": [
    "# RAG Function\n",
    "def function_2(state:AgentState):\n",
    "    print(\"-> RAG Call ->\")\n",
    "    \n",
    "    question = state[\"messages\"][0].content \n",
    "    print(\"Question\",question)\n",
    "    \n",
    "    prompt=PromptTemplate(\n",
    "        template=\"\"\"You are an assistant for question-answering tasks.\n",
    "                  Use the following pieces of retrieved context to answer the question.\n",
    "\t\t\t\t\t\t\t\t\tIf you don't know the answer, just say that you don't know.\n",
    "\t\t\t\t\t\t\t\t\tUse three sentences maximum and keep the answer concise.\\nQuestion: {question} \\nContext: {context} \\nAnswer:\"\"\",\n",
    "        \n",
    "        input_variables=['context', 'question']\n",
    "    )\n",
    "# retriever is from RAG db. It searches for similar outputs in db based on question and returns the context    \n",
    "    rag_chain = (\n",
    "        {\"context\": retriever | format_docs, \"question\": RunnablePassthrough()} \n",
    "        | prompt\n",
    "        | model\n",
    "        | StrOutputParser()\n",
    "    )\n",
    "    result = rag_chain.invoke(question)\n",
    "    return  {\"messages\": [AIMessage(content=result)]}"
   ]
  },
  {
   "cell_type": "code",
   "execution_count": 117,
   "id": "23cbceb6",
   "metadata": {},
   "outputs": [],
   "source": [
    "# LLM Function\n",
    "def function_3(state:AgentState):\n",
    "    print(\"-> LLM Call ->\")\n",
    "    question = state[\"messages\"][0].content\n",
    "    print(\"Question\",question)\n",
    "    \n",
    "    # Normal LLM call\n",
    "    complete_query = \"Anwer the follow question with you knowledge of the real world. Following is the user question: \" + question\n",
    "    response = model.invoke(complete_query)\n",
    "    return {\"messages\": [AIMessage(content=response.content)]}"
   ]
  },
  {
   "cell_type": "code",
   "execution_count": 118,
   "id": "3211aba6",
   "metadata": {},
   "outputs": [],
   "source": [
    "from langchain_community.tools.tavily_search import TavilySearchResults\n",
    "TAVILY_API_KEY=os.getenv(\"TAVILY_API_KEY\")\n",
    "tool=TavilySearchResults(tavily_api_key=TAVILY_API_KEY)\n",
    "def format_tavily_results(results):\n",
    "  return \"\\n\\n\".join([\n",
    "    f\"Title: {result['title']}\\nContent: {result['content']}\" \n",
    "    for result in results\n",
    "  ])\n",
    "# Web Call Function\n",
    "def function_4(state:AgentState):\n",
    "\tprint(\"-> Web Call ->\")\n",
    "\tquestion = state[\"messages\"][0].content\n",
    "\tprint(\"Question\",question)\n",
    "\tweb_search = format_tavily_results(tool.invoke({\"query\": question, \"max_results\": 5}))\n",
    "\tprompt=PromptTemplate(\n",
    "\ttemplate=\"\"\"You are an assistant for question-answering tasks.\n",
    "\t\t\t\t\t\tUse the following pieces of the latest fetched web news to answer the question.\n",
    "\t\t\t\t\t\tIf you don't know the answer, just say that you don't know.\n",
    "\t\t\t\t\t\tUse three sentences maximum and keep the answer concise.\\nQuestion: {question} \\nContext: {context} \\nAnswer:\"\"\",\n",
    "\n",
    "\tinput_variables=['context', 'question'])\n",
    "\t# Normal LLM call\n",
    "\tchain = prompt | model\n",
    "\tresponse = chain.invoke({\"question\": question, \"context\": web_search})\n",
    "\treturn {\"messages\": [AIMessage(content=response.content)]}"
   ]
  },
  {
   "cell_type": "code",
   "execution_count": 119,
   "id": "b7ca413f",
   "metadata": {},
   "outputs": [],
   "source": [
    "class ValidationParser(BaseModel):\n",
    "  # to decrease halucination, first do reasoning and then topic\n",
    "  Reasoning: str = Field(description='Reasoning behind validation output')\n",
    "  Validation: Literal[\"Pass\", \"Fail\"] = Field(description=\"validation based on question and answer\")\n",
    "\n",
    "validation_parser=PydanticOutputParser(pydantic_object=ValidationParser)"
   ]
  },
  {
   "cell_type": "code",
   "execution_count": 120,
   "id": "7921d95d",
   "metadata": {},
   "outputs": [],
   "source": [
    "# Validation Function\n",
    "def function_5(state:AgentState):\n",
    "\tprint(\"-> Validation Call ->\")\n",
    "\tquestion = state[\"messages\"][0].content\n",
    "\tprint(\"Question\",question)\n",
    "\tanswer = state[\"messages\"][-1].content\n",
    "\tprint(\"Question\",answer)\n",
    "\t# first is question, then supervisor output, then answer\n",
    "\tprompt=PromptTemplate(\n",
    "\ttemplate=\"\"\"You are a validator of a question-answering task.\n",
    "Your task is to validate the answer based on the given question and to\n",
    "classify it into one of the following categories: [Pass, Fail]. \n",
    "Classify Pass if:\n",
    " - the answer is correct and the question is related to the answer.\n",
    "Classify Fail if:\n",
    " - the answer does not logically match the question.\n",
    "Only respond with the category name and nothing else.\n",
    "\n",
    "{format_instructions}\n",
    "\\nQuestion: {question} \\nAnswer: {answer} \\nClassification:\"\"\",\n",
    "\tinput_variables=['answer', 'question'],\n",
    "\tpartial_variables={\"format_instructions\": validation_parser.get_format_instructions()})\n",
    "\tchain = prompt | model | validation_parser\n",
    "\tresponse = chain.invoke({'question': question, 'answer': answer})\n",
    "\treturn {\"messages\": [AIMessage(content=response.Validation)]}"
   ]
  },
  {
   "cell_type": "code",
   "execution_count": 121,
   "id": "47d65bbe",
   "metadata": {},
   "outputs": [],
   "source": [
    "def validation_router(state: AgentState):\n",
    "  print(\"-> VALIDATION ROUTER ->\")\n",
    "  \n",
    "  last_message = state[\"messages\"][-1].content\n",
    "  print(\"Validation result:\", last_message)\n",
    "  \n",
    "  if \"pass\" in last_message.lower():\n",
    "    return \"END\"\n",
    "  else:\n",
    "    return \"SUPERVISOR\"  # Go back to supervisor for retry"
   ]
  },
  {
   "cell_type": "code",
   "execution_count": 122,
   "id": "03f394f4",
   "metadata": {},
   "outputs": [],
   "source": [
    "from langgraph.graph import StateGraph,END"
   ]
  },
  {
   "cell_type": "code",
   "execution_count": 123,
   "id": "d161ee74",
   "metadata": {},
   "outputs": [
    {
     "data": {
      "text/plain": [
       "<langgraph.graph.state.StateGraph at 0x2c1c9f70b00>"
      ]
     },
     "execution_count": 123,
     "metadata": {},
     "output_type": "execute_result"
    }
   ],
   "source": [
    "workflow=StateGraph(AgentState) # we tell langgraph that we are dealing with AgentState\n",
    "workflow.add_node(\"Supervisor\",function_1)\n",
    "workflow.add_node(\"RAG\",function_2)\n",
    "workflow.add_node(\"LLM\",function_3)\n",
    "workflow.add_node(\"Web\",function_4)\n",
    "workflow.add_node(\"Validation\",function_5)"
   ]
  },
  {
   "cell_type": "code",
   "execution_count": 124,
   "id": "2a3b4820",
   "metadata": {},
   "outputs": [
    {
     "data": {
      "text/plain": [
       "<langgraph.graph.state.StateGraph at 0x2c1c9f70b00>"
      ]
     },
     "execution_count": 124,
     "metadata": {},
     "output_type": "execute_result"
    }
   ],
   "source": [
    "# Connect worker nodes to Validation\n",
    "workflow.add_edge(\"RAG\", \"Validation\")\n",
    "workflow.add_edge(\"LLM\", \"Validation\") \n",
    "workflow.add_edge(\"Web\", \"Validation\")"
   ]
  },
  {
   "cell_type": "code",
   "execution_count": 125,
   "id": "4ea675b0",
   "metadata": {},
   "outputs": [
    {
     "data": {
      "text/plain": [
       "<langgraph.graph.state.StateGraph at 0x2c1c9f70b00>"
      ]
     },
     "execution_count": 125,
     "metadata": {},
     "output_type": "execute_result"
    }
   ],
   "source": [
    "workflow.set_entry_point(\"Supervisor\") # start of the graph"
   ]
  },
  {
   "cell_type": "markdown",
   "id": "2885a7f3",
   "metadata": {},
   "source": [
    "one conditional edge -> one if else function"
   ]
  },
  {
   "cell_type": "code",
   "execution_count": 126,
   "id": "34d4c757",
   "metadata": {},
   "outputs": [
    {
     "data": {
      "text/plain": [
       "<langgraph.graph.state.StateGraph at 0x2c1c9f70b00>"
      ]
     },
     "execution_count": 126,
     "metadata": {},
     "output_type": "execute_result"
    }
   ],
   "source": [
    "# First conditional edge: Supervisor to workers\n",
    "# Note: LangGraph automatically adds END edge as fallback for unmapped values\n",
    "workflow.add_conditional_edges(\n",
    "  \"Supervisor\",  # FROM this node\n",
    "  router,        # Use this function to decide\n",
    "  {              # Map router output to next nodes\n",
    "    \"RAG Call\": \"RAG\",  # If router returns \"RAG Call\", go to RAG node\n",
    "    \"LLM Call\": \"LLM\",  # If router returns \"LLM Call\", go to LLM node\n",
    "    \"Web Call\": \"Web\",  # If router returns \"Web Call\", go to Web node\n",
    "  }\n",
    ")\n",
    "\n",
    "# Second conditional edge: Validation to END or back to Supervisor\n",
    "workflow.add_conditional_edges(\n",
    "  \"Validation\",\n",
    "  validation_router,\n",
    "  {\n",
    "    \"END\": END,           # If validation passes, end workflow\n",
    "    \"SUPERVISOR\": \"Supervisor\"  # If validation fails, go back to supervisor\n",
    "  }\n",
    ")"
   ]
  },
  {
   "cell_type": "code",
   "execution_count": 127,
   "id": "49a685be",
   "metadata": {},
   "outputs": [],
   "source": [
    "app = workflow.compile()"
   ]
  },
  {
   "cell_type": "code",
   "execution_count": 128,
   "id": "ea7fef95",
   "metadata": {},
   "outputs": [
    {
     "data": {
      "image/png": "[encoded data removed]",
      "text/plain": [
       "<langgraph.graph.state.CompiledStateGraph object at 0x000002C1C2165F20>"
      ]
     },
     "execution_count": 128,
     "metadata": {},
     "output_type": "execute_result"
    }
   ],
   "source": [
    "workflow.compile()\n"
   ]
  },
  {
   "cell_type": "code",
   "execution_count": 129,
   "id": "20b1e6dd",
   "metadata": {},
   "outputs": [],
   "source": [
    "from langchain_core.messages import HumanMessage\n",
    "\n",
    "state = {\"messages\": [HumanMessage(content=\"what is the weather today in Prague?\")]}"
   ]
  },
  {
   "cell_type": "code",
   "execution_count": 130,
   "id": "d6ccea29",
   "metadata": {},
   "outputs": [
    {
     "name": "stdout",
     "output_type": "stream",
     "text": [
      "Question what is the weather today in Prague?\n",
      "Parsed response: Reasoning=\"The query asks for 'today's' weather, which is dynamic and requires looking up the latest information on the internet.\" Topic='Web'\n",
      "-> ROUTER ->\n",
      "Router input (last message): 'Web'\n",
      "Router output: 'Web Call'\n",
      "-> Web Call ->\n",
      "Question what is the weather today in Prague?\n",
      "-> Validation Call ->\n",
      "Question what is the weather today in Prague?\n",
      "Question I don't know the weather today in Prague. The provided information only contains weather forecasts and historical data for October 2025.\n",
      "-> VALIDATION ROUTER ->\n",
      "Validation result: Pass\n"
     ]
    },
    {
     "data": {
      "text/plain": [
       "{'messages': [HumanMessage(content='what is the weather today in Prague?', additional_kwargs={}, response_metadata={}),\n",
       "  AIMessage(content='Web', additional_kwargs={}, response_metadata={}),\n",
       "  AIMessage(content=\"I don't know the weather today in Prague. The provided information only contains weather forecasts and historical data for October 2025.\", additional_kwargs={}, response_metadata={}),\n",
       "  AIMessage(content='Pass', additional_kwargs={}, response_metadata={})]}"
      ]
     },
     "execution_count": 130,
     "metadata": {},
     "output_type": "execute_result"
    }
   ],
   "source": [
    "app.invoke(state)"
   ]
  },
  {
   "cell_type": "code",
   "execution_count": 131,
   "id": "92b41c83",
   "metadata": {},
   "outputs": [],
   "source": [
    "state = {\"messages\": [HumanMessage(content=\"what is a gdp of usa?\")]}"
   ]
  },
  {
   "cell_type": "code",
   "execution_count": 132,
   "id": "f1409de6",
   "metadata": {},
   "outputs": [
    {
     "name": "stdout",
     "output_type": "stream",
     "text": [
      "Question what is a gdp of usa?\n",
      "Parsed response: Reasoning=\"The user query 'what is a gdp of usa?' directly pertains to the economy of the United States, which aligns with the definition of the 'USA' category.\" Topic='USA'\n",
      "-> ROUTER ->\n",
      "Router input (last message): 'USA'\n",
      "Router output: 'RAG Call'\n",
      "-> RAG Call ->\n",
      "Question what is a gdp of usa?\n",
      "-> Validation Call ->\n",
      "Question what is a gdp of usa?\n",
      "Question I don't know the answer based on the provided context. The context only mentions \"U.S. GDP – Size, Composition, and Global Share\" but does not state the specific GDP figure.\n",
      "-> VALIDATION ROUTER ->\n",
      "Validation result: Pass\n"
     ]
    },
    {
     "data": {
      "text/plain": [
       "{'messages': [HumanMessage(content='what is a gdp of usa?', additional_kwargs={}, response_metadata={}),\n",
       "  AIMessage(content='USA', additional_kwargs={}, response_metadata={}),\n",
       "  AIMessage(content='I don\\'t know the answer based on the provided context. The context only mentions \"U.S. GDP – Size, Composition, and Global Share\" but does not state the specific GDP figure.', additional_kwargs={}, response_metadata={}),\n",
       "  AIMessage(content='Pass', additional_kwargs={}, response_metadata={})]}"
      ]
     },
     "execution_count": 132,
     "metadata": {},
     "output_type": "execute_result"
    }
   ],
   "source": [
    "app.invoke(state)"
   ]
  },
  {
   "cell_type": "code",
   "execution_count": 133,
   "id": "29f645f4",
   "metadata": {},
   "outputs": [],
   "source": [
    "state = {\"messages\": [HumanMessage(content=\"can you tell me the industrial growth of world's most powerful economy?\")]}"
   ]
  },
  {
   "cell_type": "code",
   "execution_count": 134,
   "id": "ccee61e0",
   "metadata": {},
   "outputs": [
    {
     "name": "stdout",
     "output_type": "stream",
     "text": [
      "Question can you tell me the industrial growth of world's most powerful economy?\n",
      "Parsed response: Reasoning=\"The phrase 'world's most powerful economy' is widely recognized as referring to the United States. The query asks about 'industrial growth', which is an economic indicator. Therefore, the query is about the US economy.\" Topic='USA'\n",
      "-> ROUTER ->\n",
      "Router input (last message): 'USA'\n",
      "Router output: 'RAG Call'\n",
      "-> RAG Call ->\n",
      "Question can you tell me the industrial growth of world's most powerful economy?\n",
      "-> Validation Call ->\n",
      "Question can you tell me the industrial growth of world's most powerful economy?\n",
      "Question Based on the provided context, the United States of America has the largest economy in the world, making it the most powerful economic force globally. However, the context does not provide information regarding its industrial growth. Therefore, I don't know the answer.\n",
      "-> VALIDATION ROUTER ->\n",
      "Validation result: Pass\n"
     ]
    },
    {
     "data": {
      "text/plain": [
       "{'messages': [HumanMessage(content=\"can you tell me the industrial growth of world's most powerful economy?\", additional_kwargs={}, response_metadata={}),\n",
       "  AIMessage(content='USA', additional_kwargs={}, response_metadata={}),\n",
       "  AIMessage(content=\"Based on the provided context, the United States of America has the largest economy in the world, making it the most powerful economic force globally. However, the context does not provide information regarding its industrial growth. Therefore, I don't know the answer.\", additional_kwargs={}, response_metadata={}),\n",
       "  AIMessage(content='Pass', additional_kwargs={}, response_metadata={})]}"
      ]
     },
     "execution_count": 134,
     "metadata": {},
     "output_type": "execute_result"
    }
   ],
   "source": [
    "app.invoke(state)"
   ]
  },
  {
   "cell_type": "code",
   "execution_count": 135,
   "id": "536402a5",
   "metadata": {},
   "outputs": [],
   "source": [
    "state = {\"messages\": [HumanMessage(content=\"can you tell me the industrial growth of world's poor economy?\")]}"
   ]
  },
  {
   "cell_type": "code",
   "execution_count": 136,
   "id": "37719742",
   "metadata": {},
   "outputs": [
    {
     "name": "stdout",
     "output_type": "stream",
     "text": [
      "Question can you tell me the industrial growth of world's poor economy?\n",
      "Parsed response: Reasoning=\"The query asks for 'industrial growth of world's poor economy'. This information is dynamic and requires looking up current or recent economic data, reports, and statistics, which are best found on the internet. It's not a static piece of general knowledge, nor is it specifically about the US economy.\" Topic='Web'\n",
      "-> ROUTER ->\n",
      "Router input (last message): 'Web'\n",
      "Router output: 'Web Call'\n",
      "-> Web Call ->\n",
      "Question can you tell me the industrial growth of world's poor economy?\n",
      "-> Validation Call ->\n",
      "Question can you tell me the industrial growth of world's poor economy?\n",
      "Question The provided text indicates that industrialization is often essential for economic growth and long-run poverty reduction, and that rapid economic growth in population-rich countries like China and India, driven by manufacturing, has benefited the poor. However, it also notes significant differences between countries regarding industrialization's impact on the poor. The text does not provide a specific industrial growth rate for the world's poor economies as a whole, though it mentions that \"poor countries with very little income growth\" exist and that the world's poorest nations risk being left further behind in industrial development.\n",
      "-> VALIDATION ROUTER ->\n",
      "Validation result: Pass\n"
     ]
    },
    {
     "data": {
      "text/plain": [
       "{'messages': [HumanMessage(content=\"can you tell me the industrial growth of world's poor economy?\", additional_kwargs={}, response_metadata={}),\n",
       "  AIMessage(content='Web', additional_kwargs={}, response_metadata={}),\n",
       "  AIMessage(content='The provided text indicates that industrialization is often essential for economic growth and long-run poverty reduction, and that rapid economic growth in population-rich countries like China and India, driven by manufacturing, has benefited the poor. However, it also notes significant differences between countries regarding industrialization\\'s impact on the poor. The text does not provide a specific industrial growth rate for the world\\'s poor economies as a whole, though it mentions that \"poor countries with very little income growth\" exist and that the world\\'s poorest nations risk being left further behind in industrial development.', additional_kwargs={}, response_metadata={}),\n",
       "  AIMessage(content='Pass', additional_kwargs={}, response_metadata={})]}"
      ]
     },
     "execution_count": 136,
     "metadata": {},
     "output_type": "execute_result"
    }
   ],
   "source": [
    "app.invoke(state)"
   ]
  }
 ],
 "metadata": {
  "kernelspec": {
   "display_name": ".venv",
   "language": "python",
   "name": "python3"
  },
  "language_info": {
   "codemirror_mode": {
    "name": "ipython",
    "version": 3
   },
   "file_extension": ".py",
   "mimetype": "text/x-python",
   "name": "python",
   "nbconvert_exporter": "python",
   "pygments_lexer": "ipython3",
   "version": "3.13.2"
  }
 },
 "nbformat": 4,
 "nbformat_minor": 5
}
