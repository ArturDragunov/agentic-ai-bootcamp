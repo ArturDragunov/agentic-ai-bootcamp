{
 "cells": [
  {
   "cell_type": "code",
   "execution_count": 3,
   "id": "694ea1a8",
   "metadata": {},
   "outputs": [],
   "source": [
    "from langchain_community.tools import WikipediaQueryRun\n",
    "from langchain_community.utilities import WikipediaAPIWrapper\n",
    "\n",
    "wiki_tool=WikipediaQueryRun(api_wrapper=WikipediaAPIWrapper(top_k_results=5,doc_content_chars_max= 500))\n",
    "# top_k_results=5: Fetches the top 5 most relevant Wikipedia articles for your query\n",
    "# Truncates each article's content to maximum 500 characters\n",
    "# Return the combined results\n",
    "# The top_k_results=5 means it will search up to 5 Wikipedia pages, but it often returns fewer results if:\n",
    "\n",
    "# Only one highly relevant page exists for the query\n",
    "# Other pages don't meet Wikipedia's relevance threshold\n",
    "# The query is specific enough that one page dominates"
   ]
  },
  {
   "cell_type": "code",
   "execution_count": 4,
   "id": "8a450b4b",
   "metadata": {},
   "outputs": [
    {
     "data": {
      "text/plain": [
       "'wikipedia'"
      ]
     },
     "execution_count": 4,
     "metadata": {},
     "output_type": "execute_result"
    }
   ],
   "source": [
    "wiki_tool.name"
   ]
  },
  {
   "cell_type": "code",
   "execution_count": 5,
   "id": "0f46f450",
   "metadata": {},
   "outputs": [
    {
     "data": {
      "text/plain": [
       "'A wrapper around Wikipedia. Useful for when you need to answer general questions about people, places, companies, facts, historical events, or other subjects. Input should be a search query.'"
      ]
     },
     "execution_count": 5,
     "metadata": {},
     "output_type": "execute_result"
    }
   ],
   "source": [
    "wiki_tool.description"
   ]
  },
  {
   "cell_type": "code",
   "execution_count": 6,
   "id": "0aa4502c",
   "metadata": {},
   "outputs": [
    {
     "data": {
      "text/plain": [
       "{'query': {'description': 'query to look up on wikipedia',\n",
       "  'title': 'Query',\n",
       "  'type': 'string'}}"
      ]
     },
     "execution_count": 6,
     "metadata": {},
     "output_type": "execute_result"
    }
   ],
   "source": [
    "wiki_tool.args"
   ]
  },
  {
   "cell_type": "code",
   "execution_count": null,
   "id": "99477475",
   "metadata": {},
   "outputs": [
    {
     "data": {
      "text/plain": [
       "\"Page: Elon Musk\\nSummary: Elon Reeve Musk ( EE-lon; born June 28, 1971) is a businessman known for his leadership of Tesla, SpaceX, X (formerly Twitter) and the Department of Government Efficiency (DOGE). Musk has been considered the wealthiest person in the world since 2021; as of May 2025, Forbes estimates his net worth to be US$424.7 billion. \\nBorn to a wealthy family in Pretoria, South Africa, Musk emigrated in 1989 to Canada. He received bachelor's degrees from the University of Pennsylvania\""
      ]
     },
     "execution_count": 7,
     "metadata": {},
     "output_type": "execute_result"
    }
   ],
   "source": [
    "wiki_tool.run({\"query\":\"elon musk\"}) # 500 words -> page summary"
   ]
  },
  {
   "cell_type": "code",
   "execution_count": 8,
   "id": "bf3a63ed",
   "metadata": {},
   "outputs": [
    {
     "name": "stderr",
     "output_type": "stream",
     "text": [
      "c:\\Users\\Artur Dragunov\\Documents\\GIT\\agentic-ai-bootcamp\\.venv\\Lib\\site-packages\\wikipedia\\wikipedia.py:389: GuessedAtParserWarning: No parser was explicitly specified, so I'm using the best available HTML parser for this system (\"lxml\"). This usually isn't a problem, but if you run this code on another system, or in a different virtual environment, it may use a different parser and behave differently.\n",
      "\n",
      "The code that caused this warning is on line 389 of the file c:\\Users\\Artur Dragunov\\Documents\\GIT\\agentic-ai-bootcamp\\.venv\\Lib\\site-packages\\wikipedia\\wikipedia.py. To get rid of this warning, pass the additional argument 'features=\"lxml\"' to the BeautifulSoup constructor.\n",
      "\n",
      "  lis = BeautifulSoup(html).find_all('li')\n"
     ]
    },
    {
     "data": {
      "text/plain": [
       "\"Page: Royal Challengers Bengaluru\\nSummary: Royal Challengers Bengaluru, formerly known as Royal Challengers Bangalore, commonly known as RCB, is a professional T20 franchise cricket team based in Bengaluru, Karnataka, that competes in the Indian Premier League. Founded in 2008 by United Spirits, the team's home ground is M. Chinnaswamy Stadium. RCB won their first title in 2025. The team has also finished as the runners-up on three occasions: in 2009, 2011, and 2016. They have also qualified for\""
      ]
     },
     "execution_count": 8,
     "metadata": {},
     "output_type": "execute_result"
    }
   ],
   "source": [
    "wiki_tool.run(\"RCB\")"
   ]
  },
  {
   "cell_type": "code",
   "execution_count": 9,
   "id": "a79c6cc6",
   "metadata": {},
   "outputs": [],
   "source": [
    "from langchain_community.tools import YouTubeSearchTool"
   ]
  },
  {
   "cell_type": "code",
   "execution_count": 10,
   "id": "c35d1810",
   "metadata": {},
   "outputs": [],
   "source": [
    "tool=YouTubeSearchTool()"
   ]
  },
  {
   "cell_type": "code",
   "execution_count": 11,
   "id": "3dfe8f0e",
   "metadata": {},
   "outputs": [
    {
     "data": {
      "text/plain": [
       "'youtube_search'"
      ]
     },
     "execution_count": 11,
     "metadata": {},
     "output_type": "execute_result"
    }
   ],
   "source": [
    "tool.name"
   ]
  },
  {
   "cell_type": "code",
   "execution_count": 12,
   "id": "31dd4376",
   "metadata": {},
   "outputs": [
    {
     "data": {
      "text/plain": [
       "'search for youtube videos associated with a person. the input to this tool should be a comma separated list, the first part contains a person name and the second a number that is the maximum number of video results to return aka num_results. the second part is optional'"
      ]
     },
     "execution_count": 12,
     "metadata": {},
     "output_type": "execute_result"
    }
   ],
   "source": [
    "tool.description"
   ]
  },
  {
   "cell_type": "code",
   "execution_count": null,
   "id": "ed05eed1",
   "metadata": {},
   "outputs": [
    {
     "data": {
      "text/plain": [
       "\"['https://www.youtube.com/watch?v=s11yOKNXOQU&pp=ygUMc3Vubnkgc2F2aXRh', 'https://www.youtube.com/watch?v=oFMixPMJ6Ko&pp=ygUMc3Vubnkgc2F2aXRh']\""
      ]
     },
     "execution_count": 13,
     "metadata": {},
     "output_type": "execute_result"
    }
   ],
   "source": [
    "tool.run(\"sunny savita\") # returns videos available on the channel"
   ]
  },
  {
   "cell_type": "code",
   "execution_count": 14,
   "id": "7ab2dde0",
   "metadata": {},
   "outputs": [
    {
     "data": {
      "text/plain": [
       "\"['https://www.youtube.com/watch?v=p4pHsuEf4Ms&pp=ygUKa3Jpc2ggbmFpaw%3D%3D', 'https://www.youtube.com/watch?v=6SO-8FcSkz4&pp=ygUKa3Jpc2ggbmFpa9IHCQmyCQGHKiGM7w%3D%3D']\""
      ]
     },
     "execution_count": 14,
     "metadata": {},
     "output_type": "execute_result"
    }
   ],
   "source": [
    "tool.run(\"krish naik\")"
   ]
  },
  {
   "cell_type": "code",
   "execution_count": 15,
   "id": "21d809df",
   "metadata": {},
   "outputs": [],
   "source": [
    "from langchain_community.tools.tavily_search import TavilySearchResults"
   ]
  },
  {
   "cell_type": "code",
   "execution_count": 21,
   "id": "16ed7cac",
   "metadata": {},
   "outputs": [],
   "source": [
    "import os\n",
    "from dotenv import load_dotenv\n",
    "load_dotenv()\n",
    "TAVILY_API_KEY=os.getenv(\"TAVILY_API_KEY\")"
   ]
  },
  {
   "cell_type": "code",
   "execution_count": 22,
   "id": "f745e41b",
   "metadata": {},
   "outputs": [],
   "source": [
    "tool=TavilySearchResults(tavily_api_key=TAVILY_API_KEY)"
   ]
  },
  {
   "cell_type": "code",
   "execution_count": 23,
   "id": "42cf9b63",
   "metadata": {},
   "outputs": [
    {
     "data": {
      "text/plain": [
       "[{'title': 'LIVE: 11 Dead In Stampede As RCB Victory Celebrations ... - YouTube',\n",
       "  'url': 'https://www.youtube.com/watch?v=DCTt4n9CsL4',\n",
       "  'content': \"### Description\\n25715 views\\nPosted: 4 Jun 2025\\nWATCH | Tragedy strikes during RCB's IPL 2025 victory parade celebrations at Bengaluru’s Chinnaswamy Stadium. At least 11 fans are dead and 25 injured in a shocking stampede as massive crowds surged to celebrate RCB’s historic IPL win. Police lathi-charge, overcrowding, and poor crowd control are under scrutiny. Karnataka CM Siddaramaiah has ordered an inquiry. [...] the loss of lives? Can the state evade the responsibility? There was a fan frenzy that happened uh at the RCB's victory. Uh this is the stampede timeline. This is what we know so far. Uh the RCB's victory lap turned uh uh fatal. What essentially happened was for a stadium which has a capacity of about 30,000 people more than one lakh turned up. The fans were allowed to enter the stadium all of them without any registration any passes. There were specific gates uh gate number three, gate number [...] celebrating an IPL title victory after 18 long years tonight in Bengaluru city and all across Karnataka there's going to be a sea of tears and a sea of mourning 11 people dead, more than 30 injured as a stampede broke inside the Chinwami stadium where the team the Royal Challengers Bangalore. The winners of the IPL title were being felicitated by the state career association and by the state government. Like I said over one lakh fans turned up at the stadium which can hold only about 30,000\",\n",
       "  'score': 0.83710164},\n",
       " {'title': \"Several Killed as RCB's Victory Celebration Turns Deadly - YouTube\",\n",
       "  'url': 'https://www.youtube.com/watch?v=gz8chxY7elU',\n",
       "  'content': \"At least 11 people were killed and 30 injured in a stampede outside the Chinnaswamy cricket stadium in Bengaluru. The incident happened during the Royal Challengers' victory celebrations after their first IPL triumph in 18 years. Did the state government underestimate the rush? Were crowd control measures not in place? Palki Sharma tells you.\\n\\n--- [...] It was supposed to be a day of pure joy, of celebration and pride. Instead, Bengaluru is in shock today. I'm sure you've seen the news and the pictures. Bengaluru was all decked up for a massive celebration today. Their IPL team had finally won the tournament. The Royal Challengers beat Punjab Kings yesterday. It was their first IPL trophy in 18 years. Now the RCB fans are a very passionate lot. Plus they've been waiting for a win since 2008. So they packed the streets of Bengaluru in [...] soon the fan frenzy turned fatal. The exact details are not clear yet but reports say the rush led to a stampede. At least 11 people were killed, including children, and more than 30 were injured. Like I said, the exact sequence of events is unclear, but these pictures give you an idea. Uh you can see fans climbing up fences and trees. In some places, the police pushed back with force. We will show you the pictures, but as always, viewer discretion is advised. [Applause] [Music] [Applause] Such\",\n",
       "  'score': 0.83290404},\n",
       " {'title': \"How did celebration of RCB's historic win in IPL spiral into chaos ...\",\n",
       "  'url': 'https://www.thehindu.com/news/national/karnataka/how-did-celebration-of-rcbs-historic-win-in-ipl-spiral-into-chaos-and-crisis-explained/article69668074.ece',\n",
       "  'content': 'A stampede during RCB’s victory celebrations in Bengaluru on June 4 claimed 11 lives and left several others with injuries, turning a moment of triumph into tragedy. Facing a backlash for mismanagement and hurried planning, the Congress government in Karnataka suspended top police officials [...] Remove [SEE ALL](https://www.thehindu.com/myaccount/?tab=bookmarks)\\n\\nPRINT\\n\\n![Image 12: Footwear left behind by fans of Royal Challenge Bengaluru (RCB) after a stampede at the victory celebrations, in Bengaluru on June 5, 2025. ](https://www.thehindu.com/theme/images/th-online/1x1_spacer.png)\\n\\nFootwear left behind by fans of Royal Challenge Bengaluru (RCB) after a stampede at the victory celebrations, in Bengaluru on June 5, 2025. | Photo Credit: SUDHAKARA JAIN\\n\\n#### The story so far [...] The situation spiralled out of control when fans, eager to be part of the celebration, rushed to the already packed stadium gates, demanding entry. Overwhelmed by the sheer volume, police personnel struggled to manage the crowd. Chaos broke out as fans jumped barricades, trampled one another, and triggered a deadly stampede, according to police.\\n\\nAs the tragedy unfolded outside, the event inside the stadium was hastily scaled down and brought to an early close.',\n",
       "  'score': 0.818055},\n",
       " {'title': '3 feared dead in stampede at RCB victory celebrations in Bengaluru',\n",
       "  'url': 'https://www.reddit.com/r/Cricket/comments/1l33sse/3_feared_dead_in_stampede_at_rcb_victory/',\n",
       "  'content': \"A tragic day for Indian cricket — over 15 fans lost their lives during RCB's victory parade, not in protest or play, but in celebration. This\",\n",
       "  'score': 0.7783298},\n",
       " {'title': \"Deaths and injuries to fans mar RCB's homecoming in Bengaluru\",\n",
       "  'url': 'https://www.espncricinfo.com/story/rcb-s-felicitation-in-bengaluru-after-winning-ipl-2025-marred-by-deaths-and-injuries-to-fans-1489074',\n",
       "  'content': '![Image 34: Crowds gathered in large numbers for RCB\\'s victory parade, Bengaluru, June 4, 2025](https://img1.hscicdn.com/image/upload/f_auto,t_ds_w_640/lsci/db/PICTURES/CMS/401700/401709.4.jpg)\\n\\nCrowds gathered in large numbers for RCB\\'s victory parade•PTI \\n\\n\"When one organises a victory celebration of this magnitude, proper precautions, safety and security measures need to be taken. There have been some lapses somewhere.\" [...] \"People entered through the gates, and broke them. A stampede took place; no one expected such a huge crowd. Capacity of the stadium is only 35,000, but two-three lakh people have come to participate in the celebration. I\\'m not denying or saying nothing happened, that\\'s why I\\'ve ordered an enquiry. The pain of this tragedy has also erased the joy of victory.\" [...] Several police personnel engaged to manage crowds on Wednesday afternoon were seen carrying fans - some of them minors - to hospital amid rain and heavy traffic that had come to a grinding halt, even as RCB\\'s victorious squad held the trophy aloft as celebrations continued in front of at least 25,000 fans who had made it inside the Chinnaswamy Stadium.',\n",
       "  'score': 0.76321954}]"
      ]
     },
     "execution_count": 23,
     "metadata": {},
     "output_type": "execute_result"
    }
   ],
   "source": [
    "tool.invoke({\"query\":\"what happend in RCB victory celebration?\"})"
   ]
  },
  {
   "cell_type": "code",
   "execution_count": null,
   "id": "377e6c26",
   "metadata": {},
   "outputs": [],
   "source": [
    "! pip install youtube-search-python\n",
    "! pip install youtube-search\n"
   ]
  },
  {
   "cell_type": "markdown",
   "id": "c1e3cd34",
   "metadata": {},
   "source": [
    "## Custom_tool"
   ]
  },
  {
   "cell_type": "code",
   "execution_count": 24,
   "id": "0058a3af",
   "metadata": {},
   "outputs": [],
   "source": [
    "def multiply(a:int,b:int)->int:\n",
    "    return a*b"
   ]
  },
  {
   "cell_type": "code",
   "execution_count": 25,
   "id": "2fd727eb",
   "metadata": {},
   "outputs": [
    {
     "data": {
      "text/plain": [
       "200"
      ]
     },
     "execution_count": 25,
     "metadata": {},
     "output_type": "execute_result"
    }
   ],
   "source": [
    "multiply(10,20)"
   ]
  },
  {
   "cell_type": "code",
   "execution_count": 23,
   "id": "913cc79c",
   "metadata": {},
   "outputs": [
    {
     "ename": "AttributeError",
     "evalue": "'function' object has no attribute 'run'",
     "output_type": "error",
     "traceback": [
      "\u001b[1;31m---------------------------------------------------------------------------\u001b[0m",
      "\u001b[1;31mAttributeError\u001b[0m                            Traceback (most recent call last)",
      "Cell \u001b[1;32mIn[23], line 1\u001b[0m\n\u001b[1;32m----> 1\u001b[0m \u001b[43mmultiply\u001b[49m\u001b[38;5;241;43m.\u001b[39;49m\u001b[43mrun\u001b[49m(\u001b[38;5;241m10\u001b[39m,\u001b[38;5;241m20\u001b[39m)\n",
      "\u001b[1;31mAttributeError\u001b[0m: 'function' object has no attribute 'run'"
     ]
    }
   ],
   "source": [
    "multiply.run(10,20)"
   ]
  },
  {
   "cell_type": "code",
   "execution_count": 24,
   "id": "c8864bb2",
   "metadata": {},
   "outputs": [
    {
     "ename": "AttributeError",
     "evalue": "'function' object has no attribute 'invoke'",
     "output_type": "error",
     "traceback": [
      "\u001b[1;31m---------------------------------------------------------------------------\u001b[0m",
      "\u001b[1;31mAttributeError\u001b[0m                            Traceback (most recent call last)",
      "Cell \u001b[1;32mIn[24], line 1\u001b[0m\n\u001b[1;32m----> 1\u001b[0m \u001b[43mmultiply\u001b[49m\u001b[38;5;241;43m.\u001b[39;49m\u001b[43minvoke\u001b[49m(\u001b[38;5;241m10\u001b[39m,\u001b[38;5;241m20\u001b[39m)\n",
      "\u001b[1;31mAttributeError\u001b[0m: 'function' object has no attribute 'invoke'"
     ]
    }
   ],
   "source": [
    "multiply.invoke(10,20)"
   ]
  },
  {
   "cell_type": "code",
   "execution_count": 26,
   "id": "3a3665bc",
   "metadata": {},
   "outputs": [],
   "source": [
    "from langchain.agents import tool\n",
    "@tool # converting a function into langchain compatible tool\n",
    "def multiply(a:int,b:int)->int:\n",
    "    '''this tool is for the multiplication'''\n",
    "    return a*b"
   ]
  },
  {
   "cell_type": "code",
   "execution_count": 27,
   "id": "1954df2b",
   "metadata": {},
   "outputs": [
    {
     "name": "stderr",
     "output_type": "stream",
     "text": [
      "C:\\Users\\Artur Dragunov\\AppData\\Local\\Temp\\ipykernel_27880\\1069163338.py:1: LangChainDeprecationWarning: The method `BaseTool.__call__` was deprecated in langchain-core 0.1.47 and will be removed in 1.0. Use :meth:`~invoke` instead.\n",
      "  multiply(5,10)\n"
     ]
    },
    {
     "ename": "AttributeError",
     "evalue": "'int' object has no attribute 'parent_run_id'",
     "output_type": "error",
     "traceback": [
      "\u001b[31m---------------------------------------------------------------------------\u001b[39m",
      "\u001b[31mAttributeError\u001b[39m                            Traceback (most recent call last)",
      "\u001b[36mCell\u001b[39m\u001b[36m \u001b[39m\u001b[32mIn[27]\u001b[39m\u001b[32m, line 1\u001b[39m\n\u001b[32m----> \u001b[39m\u001b[32m1\u001b[39m \u001b[43mmultiply\u001b[49m\u001b[43m(\u001b[49m\u001b[32;43m5\u001b[39;49m\u001b[43m,\u001b[49m\u001b[32;43m10\u001b[39;49m\u001b[43m)\u001b[49m\n",
      "\u001b[36mFile \u001b[39m\u001b[32mc:\\Users\\Artur Dragunov\\Documents\\GIT\\agentic-ai-bootcamp\\.venv\\Lib\\site-packages\\langchain_core\\_api\\deprecation.py:191\u001b[39m, in \u001b[36mdeprecated.<locals>.deprecate.<locals>.warning_emitting_wrapper\u001b[39m\u001b[34m(*args, **kwargs)\u001b[39m\n\u001b[32m    189\u001b[39m     warned = \u001b[38;5;28;01mTrue\u001b[39;00m\n\u001b[32m    190\u001b[39m     emit_warning()\n\u001b[32m--> \u001b[39m\u001b[32m191\u001b[39m \u001b[38;5;28;01mreturn\u001b[39;00m \u001b[43mwrapped\u001b[49m\u001b[43m(\u001b[49m\u001b[43m*\u001b[49m\u001b[43margs\u001b[49m\u001b[43m,\u001b[49m\u001b[43m \u001b[49m\u001b[43m*\u001b[49m\u001b[43m*\u001b[49m\u001b[43mkwargs\u001b[49m\u001b[43m)\u001b[49m\n",
      "\u001b[36mFile \u001b[39m\u001b[32mc:\\Users\\Artur Dragunov\\Documents\\GIT\\agentic-ai-bootcamp\\.venv\\Lib\\site-packages\\langchain_core\\tools\\base.py:896\u001b[39m, in \u001b[36mBaseTool.__call__\u001b[39m\u001b[34m(self, tool_input, callbacks)\u001b[39m\n\u001b[32m    893\u001b[39m \u001b[38;5;129m@deprecated\u001b[39m(\u001b[33m\"\u001b[39m\u001b[33m0.1.47\u001b[39m\u001b[33m\"\u001b[39m, alternative=\u001b[33m\"\u001b[39m\u001b[33minvoke\u001b[39m\u001b[33m\"\u001b[39m, removal=\u001b[33m\"\u001b[39m\u001b[33m1.0\u001b[39m\u001b[33m\"\u001b[39m)\n\u001b[32m    894\u001b[39m \u001b[38;5;28;01mdef\u001b[39;00m\u001b[38;5;250m \u001b[39m\u001b[34m__call__\u001b[39m(\u001b[38;5;28mself\u001b[39m, tool_input: \u001b[38;5;28mstr\u001b[39m, callbacks: Callbacks = \u001b[38;5;28;01mNone\u001b[39;00m) -> \u001b[38;5;28mstr\u001b[39m:\n\u001b[32m    895\u001b[39m \u001b[38;5;250m    \u001b[39m\u001b[33;03m\"\"\"Make tool callable.\"\"\"\u001b[39;00m\n\u001b[32m--> \u001b[39m\u001b[32m896\u001b[39m     \u001b[38;5;28;01mreturn\u001b[39;00m \u001b[38;5;28;43mself\u001b[39;49m\u001b[43m.\u001b[49m\u001b[43mrun\u001b[49m\u001b[43m(\u001b[49m\u001b[43mtool_input\u001b[49m\u001b[43m,\u001b[49m\u001b[43m \u001b[49m\u001b[43mcallbacks\u001b[49m\u001b[43m=\u001b[49m\u001b[43mcallbacks\u001b[49m\u001b[43m)\u001b[49m\n",
      "\u001b[36mFile \u001b[39m\u001b[32mc:\\Users\\Artur Dragunov\\Documents\\GIT\\agentic-ai-bootcamp\\.venv\\Lib\\site-packages\\langchain_core\\tools\\base.py:705\u001b[39m, in \u001b[36mBaseTool.run\u001b[39m\u001b[34m(self, tool_input, verbose, start_color, color, callbacks, tags, metadata, run_name, run_id, config, tool_call_id, **kwargs)\u001b[39m\n\u001b[32m    667\u001b[39m \u001b[38;5;28;01mdef\u001b[39;00m\u001b[38;5;250m \u001b[39m\u001b[34mrun\u001b[39m(\n\u001b[32m    668\u001b[39m     \u001b[38;5;28mself\u001b[39m,\n\u001b[32m    669\u001b[39m     tool_input: Union[\u001b[38;5;28mstr\u001b[39m, \u001b[38;5;28mdict\u001b[39m[\u001b[38;5;28mstr\u001b[39m, Any]],\n\u001b[32m   (...)\u001b[39m\u001b[32m    681\u001b[39m     **kwargs: Any,\n\u001b[32m    682\u001b[39m ) -> Any:\n\u001b[32m    683\u001b[39m \u001b[38;5;250m    \u001b[39m\u001b[33;03m\"\"\"Run the tool.\u001b[39;00m\n\u001b[32m    684\u001b[39m \n\u001b[32m    685\u001b[39m \u001b[33;03m    Args:\u001b[39;00m\n\u001b[32m   (...)\u001b[39m\u001b[32m    703\u001b[39m \u001b[33;03m        ToolException: If an error occurs during tool execution.\u001b[39;00m\n\u001b[32m    704\u001b[39m \u001b[33;03m    \"\"\"\u001b[39;00m\n\u001b[32m--> \u001b[39m\u001b[32m705\u001b[39m     callback_manager = \u001b[43mCallbackManager\u001b[49m\u001b[43m.\u001b[49m\u001b[43mconfigure\u001b[49m\u001b[43m(\u001b[49m\n\u001b[32m    706\u001b[39m \u001b[43m        \u001b[49m\u001b[43mcallbacks\u001b[49m\u001b[43m,\u001b[49m\n\u001b[32m    707\u001b[39m \u001b[43m        \u001b[49m\u001b[38;5;28;43mself\u001b[39;49m\u001b[43m.\u001b[49m\u001b[43mcallbacks\u001b[49m\u001b[43m,\u001b[49m\n\u001b[32m    708\u001b[39m \u001b[43m        \u001b[49m\u001b[38;5;28;43mself\u001b[39;49m\u001b[43m.\u001b[49m\u001b[43mverbose\u001b[49m\u001b[43m \u001b[49m\u001b[38;5;129;43;01mor\u001b[39;49;00m\u001b[43m \u001b[49m\u001b[38;5;28;43mbool\u001b[39;49m\u001b[43m(\u001b[49m\u001b[43mverbose\u001b[49m\u001b[43m)\u001b[49m\u001b[43m,\u001b[49m\n\u001b[32m    709\u001b[39m \u001b[43m        \u001b[49m\u001b[43mtags\u001b[49m\u001b[43m,\u001b[49m\n\u001b[32m    710\u001b[39m \u001b[43m        \u001b[49m\u001b[38;5;28;43mself\u001b[39;49m\u001b[43m.\u001b[49m\u001b[43mtags\u001b[49m\u001b[43m,\u001b[49m\n\u001b[32m    711\u001b[39m \u001b[43m        \u001b[49m\u001b[43mmetadata\u001b[49m\u001b[43m,\u001b[49m\n\u001b[32m    712\u001b[39m \u001b[43m        \u001b[49m\u001b[38;5;28;43mself\u001b[39;49m\u001b[43m.\u001b[49m\u001b[43mmetadata\u001b[49m\u001b[43m,\u001b[49m\n\u001b[32m    713\u001b[39m \u001b[43m    \u001b[49m\u001b[43m)\u001b[49m\n\u001b[32m    715\u001b[39m     run_manager = callback_manager.on_tool_start(\n\u001b[32m    716\u001b[39m         {\u001b[33m\"\u001b[39m\u001b[33mname\u001b[39m\u001b[33m\"\u001b[39m: \u001b[38;5;28mself\u001b[39m.name, \u001b[33m\"\u001b[39m\u001b[33mdescription\u001b[39m\u001b[33m\"\u001b[39m: \u001b[38;5;28mself\u001b[39m.description},\n\u001b[32m    717\u001b[39m         tool_input \u001b[38;5;28;01mif\u001b[39;00m \u001b[38;5;28misinstance\u001b[39m(tool_input, \u001b[38;5;28mstr\u001b[39m) \u001b[38;5;28;01melse\u001b[39;00m \u001b[38;5;28mstr\u001b[39m(tool_input),\n\u001b[32m   (...)\u001b[39m\u001b[32m    726\u001b[39m         **kwargs,\n\u001b[32m    727\u001b[39m     )\n\u001b[32m    729\u001b[39m     content = \u001b[38;5;28;01mNone\u001b[39;00m\n",
      "\u001b[36mFile \u001b[39m\u001b[32mc:\\Users\\Artur Dragunov\\Documents\\GIT\\agentic-ai-bootcamp\\.venv\\Lib\\site-packages\\langchain_core\\callbacks\\manager.py:1625\u001b[39m, in \u001b[36mCallbackManager.configure\u001b[39m\u001b[34m(cls, inheritable_callbacks, local_callbacks, verbose, inheritable_tags, local_tags, inheritable_metadata, local_metadata)\u001b[39m\n\u001b[32m   1594\u001b[39m \u001b[38;5;129m@classmethod\u001b[39m\n\u001b[32m   1595\u001b[39m \u001b[38;5;28;01mdef\u001b[39;00m\u001b[38;5;250m \u001b[39m\u001b[34mconfigure\u001b[39m(\n\u001b[32m   1596\u001b[39m     \u001b[38;5;28mcls\u001b[39m,\n\u001b[32m   (...)\u001b[39m\u001b[32m   1603\u001b[39m     local_metadata: Optional[\u001b[38;5;28mdict\u001b[39m[\u001b[38;5;28mstr\u001b[39m, Any]] = \u001b[38;5;28;01mNone\u001b[39;00m,\n\u001b[32m   1604\u001b[39m ) -> CallbackManager:\n\u001b[32m   1605\u001b[39m \u001b[38;5;250m    \u001b[39m\u001b[33;03m\"\"\"Configure the callback manager.\u001b[39;00m\n\u001b[32m   1606\u001b[39m \n\u001b[32m   1607\u001b[39m \u001b[33;03m    Args:\u001b[39;00m\n\u001b[32m   (...)\u001b[39m\u001b[32m   1623\u001b[39m \u001b[33;03m        CallbackManager: The configured callback manager.\u001b[39;00m\n\u001b[32m   1624\u001b[39m \u001b[33;03m    \"\"\"\u001b[39;00m\n\u001b[32m-> \u001b[39m\u001b[32m1625\u001b[39m     \u001b[38;5;28;01mreturn\u001b[39;00m \u001b[43m_configure\u001b[49m\u001b[43m(\u001b[49m\n\u001b[32m   1626\u001b[39m \u001b[43m        \u001b[49m\u001b[38;5;28;43mcls\u001b[39;49m\u001b[43m,\u001b[49m\n\u001b[32m   1627\u001b[39m \u001b[43m        \u001b[49m\u001b[43minheritable_callbacks\u001b[49m\u001b[43m,\u001b[49m\n\u001b[32m   1628\u001b[39m \u001b[43m        \u001b[49m\u001b[43mlocal_callbacks\u001b[49m\u001b[43m,\u001b[49m\n\u001b[32m   1629\u001b[39m \u001b[43m        \u001b[49m\u001b[43minheritable_tags\u001b[49m\u001b[43m,\u001b[49m\n\u001b[32m   1630\u001b[39m \u001b[43m        \u001b[49m\u001b[43mlocal_tags\u001b[49m\u001b[43m,\u001b[49m\n\u001b[32m   1631\u001b[39m \u001b[43m        \u001b[49m\u001b[43minheritable_metadata\u001b[49m\u001b[43m,\u001b[49m\n\u001b[32m   1632\u001b[39m \u001b[43m        \u001b[49m\u001b[43mlocal_metadata\u001b[49m\u001b[43m,\u001b[49m\n\u001b[32m   1633\u001b[39m \u001b[43m        \u001b[49m\u001b[43mverbose\u001b[49m\u001b[43m=\u001b[49m\u001b[43mverbose\u001b[49m\u001b[43m,\u001b[49m\n\u001b[32m   1634\u001b[39m \u001b[43m    \u001b[49m\u001b[43m)\u001b[49m\n",
      "\u001b[36mFile \u001b[39m\u001b[32mc:\\Users\\Artur Dragunov\\Documents\\GIT\\agentic-ai-bootcamp\\.venv\\Lib\\site-packages\\langchain_core\\callbacks\\manager.py:2355\u001b[39m, in \u001b[36m_configure\u001b[39m\u001b[34m(callback_manager_cls, inheritable_callbacks, local_callbacks, inheritable_tags, local_tags, inheritable_metadata, local_metadata, verbose)\u001b[39m\n\u001b[32m   2349\u001b[39m     callback_manager = callback_manager_cls(\n\u001b[32m   2350\u001b[39m         handlers=inheritable_callbacks_.copy(),\n\u001b[32m   2351\u001b[39m         inheritable_handlers=inheritable_callbacks_.copy(),\n\u001b[32m   2352\u001b[39m         parent_run_id=parent_run_id,\n\u001b[32m   2353\u001b[39m     )\n\u001b[32m   2354\u001b[39m \u001b[38;5;28;01melse\u001b[39;00m:\n\u001b[32m-> \u001b[39m\u001b[32m2355\u001b[39m     parent_run_id_ = \u001b[43minheritable_callbacks\u001b[49m\u001b[43m.\u001b[49m\u001b[43mparent_run_id\u001b[49m\n\u001b[32m   2356\u001b[39m     \u001b[38;5;66;03m# Break ties between the external tracing context and inherited context\u001b[39;00m\n\u001b[32m   2357\u001b[39m     \u001b[38;5;28;01mif\u001b[39;00m parent_run_id \u001b[38;5;129;01mis\u001b[39;00m \u001b[38;5;129;01mnot\u001b[39;00m \u001b[38;5;28;01mNone\u001b[39;00m \u001b[38;5;129;01mand\u001b[39;00m (\n\u001b[32m   2358\u001b[39m         parent_run_id_ \u001b[38;5;129;01mis\u001b[39;00m \u001b[38;5;28;01mNone\u001b[39;00m\n\u001b[32m   2359\u001b[39m         \u001b[38;5;66;03m# If the LC parent has already been reflected\u001b[39;00m\n\u001b[32m   (...)\u001b[39m\u001b[32m   2362\u001b[39m         \u001b[38;5;129;01mor\u001b[39;00m (run_tree \u001b[38;5;129;01mand\u001b[39;00m \u001b[38;5;28mstr\u001b[39m(parent_run_id_) \u001b[38;5;129;01min\u001b[39;00m run_tree.dotted_order)\n\u001b[32m   2363\u001b[39m     ):\n",
      "\u001b[31mAttributeError\u001b[39m: 'int' object has no attribute 'parent_run_id'"
     ]
    }
   ],
   "source": [
    "multiply(5,10) # it's no long a function, it's a tool"
   ]
  },
  {
   "cell_type": "code",
   "execution_count": 31,
   "id": "50306c92",
   "metadata": {},
   "outputs": [
    {
     "data": {
      "text/plain": [
       "200"
      ]
     },
     "execution_count": 31,
     "metadata": {},
     "output_type": "execute_result"
    }
   ],
   "source": [
    "multiply.invoke({\"a\":10,\"b\":20}) # invoke is a common method in langchain for execution"
   ]
  },
  {
   "cell_type": "code",
   "execution_count": 28,
   "id": "5ca800ff",
   "metadata": {},
   "outputs": [
    {
     "data": {
      "text/plain": [
       "'multiply'"
      ]
     },
     "execution_count": 28,
     "metadata": {},
     "output_type": "execute_result"
    }
   ],
   "source": [
    "multiply.name"
   ]
  },
  {
   "cell_type": "code",
   "execution_count": 29,
   "id": "8978a8c9",
   "metadata": {},
   "outputs": [
    {
     "data": {
      "text/plain": [
       "'this tool is for the multiplication'"
      ]
     },
     "execution_count": 29,
     "metadata": {},
     "output_type": "execute_result"
    }
   ],
   "source": [
    "multiply.description"
   ]
  },
  {
   "cell_type": "code",
   "execution_count": 30,
   "id": "6a41b532",
   "metadata": {},
   "outputs": [
    {
     "data": {
      "text/plain": [
       "{'a': {'title': 'A', 'type': 'integer'},\n",
       " 'b': {'title': 'B', 'type': 'integer'}}"
      ]
     },
     "execution_count": 30,
     "metadata": {},
     "output_type": "execute_result"
    }
   ],
   "source": [
    "multiply.args"
   ]
  },
  {
   "cell_type": "code",
   "execution_count": 31,
   "id": "6de152ea",
   "metadata": {},
   "outputs": [],
   "source": [
    "def get_word_length(word:str)->int:\n",
    "    return len(word)"
   ]
  },
  {
   "cell_type": "code",
   "execution_count": 32,
   "id": "a0fffdcf",
   "metadata": {},
   "outputs": [
    {
     "data": {
      "text/plain": [
       "12"
      ]
     },
     "execution_count": 32,
     "metadata": {},
     "output_type": "execute_result"
    }
   ],
   "source": [
    "get_word_length(\"sunny savita\")"
   ]
  },
  {
   "cell_type": "code",
   "execution_count": 33,
   "id": "6a65a42f",
   "metadata": {},
   "outputs": [
    {
     "data": {
      "text/plain": [
       "12"
      ]
     },
     "execution_count": 33,
     "metadata": {},
     "output_type": "execute_result"
    }
   ],
   "source": [
    "get_word_length(\"naredra modi\")"
   ]
  },
  {
   "cell_type": "code",
   "execution_count": 34,
   "id": "93dccd5e",
   "metadata": {},
   "outputs": [],
   "source": [
    "@tool\n",
    "def get_word_length(word:str)->int:\n",
    "    \"\"\"this funtion is calculating a length of the word\"\"\" # docstring is always needed for the tool\n",
    "    return len(word)"
   ]
  },
  {
   "cell_type": "code",
   "execution_count": 40,
   "id": "1292db4b",
   "metadata": {},
   "outputs": [
    {
     "data": {
      "text/plain": [
       "'get_word_length'"
      ]
     },
     "execution_count": 40,
     "metadata": {},
     "output_type": "execute_result"
    }
   ],
   "source": [
    "get_word_length.name"
   ]
  },
  {
   "cell_type": "code",
   "execution_count": 41,
   "id": "309a3ab7",
   "metadata": {},
   "outputs": [
    {
     "data": {
      "text/plain": [
       "'this funtion is calculating a length of the word'"
      ]
     },
     "execution_count": 41,
     "metadata": {},
     "output_type": "execute_result"
    }
   ],
   "source": [
    "get_word_length.description"
   ]
  },
  {
   "cell_type": "code",
   "execution_count": 43,
   "id": "375b13d8",
   "metadata": {},
   "outputs": [
    {
     "data": {
      "text/plain": [
       "{'word': {'title': 'Word', 'type': 'string'}}"
      ]
     },
     "execution_count": 43,
     "metadata": {},
     "output_type": "execute_result"
    }
   ],
   "source": [
    "get_word_length.args"
   ]
  },
  {
   "cell_type": "code",
   "execution_count": null,
   "id": "fcdfeefe",
   "metadata": {},
   "outputs": [
    {
     "data": {
      "text/plain": [
       "5"
      ]
     },
     "execution_count": 35,
     "metadata": {},
     "output_type": "execute_result"
    }
   ],
   "source": [
    "get_word_length(\"sunny\") \n",
    "# even though it's a tool, we can call it as a function because this function has only one parameter"
   ]
  },
  {
   "cell_type": "code",
   "execution_count": 36,
   "id": "da04955e",
   "metadata": {},
   "outputs": [
    {
     "data": {
      "text/plain": [
       "5"
      ]
     },
     "execution_count": 36,
     "metadata": {},
     "output_type": "execute_result"
    }
   ],
   "source": [
    "get_word_length.invoke(\"sunny\")"
   ]
  },
  {
   "cell_type": "code",
   "execution_count": 37,
   "id": "87bb9160",
   "metadata": {},
   "outputs": [],
   "source": [
    "@tool\n",
    "def call_gamil_api(args):\n",
    "    \"\"\"this is my gamil api calling funtion\"\"\"\n",
    "    pass"
   ]
  }
 ],
 "metadata": {
  "kernelspec": {
   "display_name": ".venv",
   "language": "python",
   "name": "python3"
  },
  "language_info": {
   "codemirror_mode": {
    "name": "ipython",
    "version": 3
   },
   "file_extension": ".py",
   "mimetype": "text/x-python",
   "name": "python",
   "nbconvert_exporter": "python",
   "pygments_lexer": "ipython3",
   "version": "3.13.2"
  }
 },
 "nbformat": 4,
 "nbformat_minor": 5
}
