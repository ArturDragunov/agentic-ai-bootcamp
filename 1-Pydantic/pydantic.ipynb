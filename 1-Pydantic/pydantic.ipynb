{
 "cells": [
  {
   "cell_type": "markdown",
   "id": "c4b058be",
   "metadata": {},
   "source": [
    "#### Pydantic Basics: Creating and Using Models\n",
    "Pydantic models are the foundation of data validation in Python. They use Python type annotations to define the structure and validate data at runtime. Here's a detailed exploration of basic model creation with several examples.\n",
    "\n"
   ]
  },
  {
   "cell_type": "markdown",
   "id": "8541de6e",
   "metadata": {},
   "source": [
    "Data Class vs Normal Class\n",
    "\n",
    "Data Class\n",
    "\n",
    "- Primarily for storing data\n",
    "- Auto-generates __init__, __repr__, __eq__, etc.\n",
    "- Less boilerplate code\n",
    "- Immutable option available\n",
    "\n",
    "Normal Class\n",
    "\n",
    "- Full control over behavior\n",
    "- Contains methods that perform operations\n",
    "- Encapsulation of complex logic\n",
    "- Custom initialization\n",
    "\n",
    "When to Use Data Class\n",
    "\n",
    "- Modeling data structures\n",
    "- Need simple value containers\n",
    "- Working with DTOs or configuration\n",
    "- Primarily storing attributes\n",
    "\n",
    "When to Use Normal Class\n",
    "\n",
    "- Complex behavior is needed\n",
    "- Custom methods dominate\n",
    "- Inheritance hierarchies\n",
    "- Need fine control over special methods\n"
   ]
  },
  {
   "cell_type": "code",
   "execution_count": 1,
   "id": "0d269075",
   "metadata": {},
   "outputs": [],
   "source": [
    "from dataclasses import dataclass # data class is a decorator on top of the class to define attributes\n",
    "\n",
    "@dataclass\n",
    "class Person(): # in data class we don't need a constructor on the contrary to normal class. It's defined automatically. data class is just for holding values\n",
    "    name:str\n",
    "    age:int\n",
    "    city:str"
   ]
  },
  {
   "cell_type": "code",
   "execution_count": null,
   "id": "64708358",
   "metadata": {},
   "outputs": [
    {
     "name": "stdout",
     "output_type": "stream",
     "text": [
      "Person(name='Krish', age=35, city='Bangalore')\n"
     ]
    }
   ],
   "source": [
    "person=Person(name=\"Krish\",age=35,city=\"Bangalore\")\n",
    "print(person)"
   ]
  },
  {
   "cell_type": "code",
   "execution_count": 3,
   "id": "3d67b9b8",
   "metadata": {},
   "outputs": [
    {
     "name": "stdout",
     "output_type": "stream",
     "text": [
      "Person(name='Krish', age=35, city=35)\n"
     ]
    }
   ],
   "source": [
    "person=Person(name=\"Krish\",age=35,city=35) # city is int here and we receive no error. Pydantic handles this error\n",
    "print(person)"
   ]
  },
  {
   "cell_type": "code",
   "execution_count": 4,
   "id": "072c9aaa",
   "metadata": {},
   "outputs": [],
   "source": [
    "## Pydantic\n",
    "from pydantic import BaseModel # with pydantic we don't need to use dataclass decorator anymore!"
   ]
  },
  {
   "cell_type": "code",
   "execution_count": 5,
   "id": "a2882d55",
   "metadata": {},
   "outputs": [
    {
     "name": "stdout",
     "output_type": "stream",
     "text": [
      "name='Krish' age=35 city='Bangalore'\n"
     ]
    }
   ],
   "source": [
    "class Person1(BaseModel): # class inheriting from BaseModel is called Data Model\n",
    "    name:str\n",
    "    age:int\n",
    "    city:str\n",
    "\n",
    "person=Person1(name=\"Krish\",age=35,city=\"Bangalore\")\n",
    "print(person)"
   ]
  },
  {
   "cell_type": "code",
   "execution_count": 6,
   "id": "debbfb3e",
   "metadata": {},
   "outputs": [
    {
     "ename": "ValidationError",
     "evalue": "1 validation error for Person1\ncity\n  Input should be a valid string [type=string_type, input_value=35, input_type=int]\n    For further information visit https://errors.pydantic.dev/2.11/v/string_type",
     "output_type": "error",
     "traceback": [
      "\u001b[31m---------------------------------------------------------------------------\u001b[39m",
      "\u001b[31mValidationError\u001b[39m                           Traceback (most recent call last)",
      "\u001b[36mCell\u001b[39m\u001b[36m \u001b[39m\u001b[32mIn[6]\u001b[39m\u001b[32m, line 1\u001b[39m\n\u001b[32m----> \u001b[39m\u001b[32m1\u001b[39m person1=\u001b[43mPerson1\u001b[49m\u001b[43m(\u001b[49m\u001b[43mname\u001b[49m\u001b[43m=\u001b[49m\u001b[33;43m\"\u001b[39;49m\u001b[33;43mKrish\u001b[39;49m\u001b[33;43m\"\u001b[39;49m\u001b[43m,\u001b[49m\u001b[43mage\u001b[49m\u001b[43m=\u001b[49m\u001b[32;43m35\u001b[39;49m\u001b[43m,\u001b[49m\u001b[43mcity\u001b[49m\u001b[43m=\u001b[49m\u001b[32;43m35\u001b[39;49m\u001b[43m)\u001b[49m\n\u001b[32m      2\u001b[39m \u001b[38;5;28mprint\u001b[39m(person1)\n",
      "\u001b[36mFile \u001b[39m\u001b[32mc:\\Users\\Artur Dragunov\\Documents\\GIT\\agentic-ai-bootcamp\\ai-agents-bootcamp-venv\\Lib\\site-packages\\pydantic\\main.py:253\u001b[39m, in \u001b[36mBaseModel.__init__\u001b[39m\u001b[34m(self, **data)\u001b[39m\n\u001b[32m    251\u001b[39m \u001b[38;5;66;03m# `__tracebackhide__` tells pytest and some other tools to omit this function from tracebacks\u001b[39;00m\n\u001b[32m    252\u001b[39m __tracebackhide__ = \u001b[38;5;28;01mTrue\u001b[39;00m\n\u001b[32m--> \u001b[39m\u001b[32m253\u001b[39m validated_self = \u001b[38;5;28;43mself\u001b[39;49m\u001b[43m.\u001b[49m\u001b[43m__pydantic_validator__\u001b[49m\u001b[43m.\u001b[49m\u001b[43mvalidate_python\u001b[49m\u001b[43m(\u001b[49m\u001b[43mdata\u001b[49m\u001b[43m,\u001b[49m\u001b[43m \u001b[49m\u001b[43mself_instance\u001b[49m\u001b[43m=\u001b[49m\u001b[38;5;28;43mself\u001b[39;49m\u001b[43m)\u001b[49m\n\u001b[32m    254\u001b[39m \u001b[38;5;28;01mif\u001b[39;00m \u001b[38;5;28mself\u001b[39m \u001b[38;5;129;01mis\u001b[39;00m \u001b[38;5;129;01mnot\u001b[39;00m validated_self:\n\u001b[32m    255\u001b[39m     warnings.warn(\n\u001b[32m    256\u001b[39m         \u001b[33m'\u001b[39m\u001b[33mA custom validator is returning a value other than `self`.\u001b[39m\u001b[38;5;130;01m\\n\u001b[39;00m\u001b[33m'\u001b[39m\n\u001b[32m    257\u001b[39m         \u001b[33m\"\u001b[39m\u001b[33mReturning anything other than `self` from a top level model validator isn\u001b[39m\u001b[33m'\u001b[39m\u001b[33mt supported when validating via `__init__`.\u001b[39m\u001b[38;5;130;01m\\n\u001b[39;00m\u001b[33m\"\u001b[39m\n\u001b[32m    258\u001b[39m         \u001b[33m'\u001b[39m\u001b[33mSee the `model_validator` docs (https://docs.pydantic.dev/latest/concepts/validators/#model-validators) for more details.\u001b[39m\u001b[33m'\u001b[39m,\n\u001b[32m    259\u001b[39m         stacklevel=\u001b[32m2\u001b[39m,\n\u001b[32m    260\u001b[39m     )\n",
      "\u001b[31mValidationError\u001b[39m: 1 validation error for Person1\ncity\n  Input should be a valid string [type=string_type, input_value=35, input_type=int]\n    For further information visit https://errors.pydantic.dev/2.11/v/string_type"
     ]
    }
   ],
   "source": [
    "person1=Person1(name=\"Krish\",age=35,city=35)\n",
    "print(person1)"
   ]
  },
  {
   "cell_type": "code",
   "execution_count": 7,
   "id": "364c4d3f",
   "metadata": {},
   "outputs": [
    {
     "name": "stdout",
     "output_type": "stream",
     "text": [
      "name='Krish' age=35 city='35'\n"
     ]
    }
   ],
   "source": [
    "person2=Person1(name=\"Krish\",age=35,city=\"35\")\n",
    "print(person2)"
   ]
  },
  {
   "cell_type": "markdown",
   "id": "4a865be7",
   "metadata": {},
   "source": [
    "#### 2. Model with Optional Fields\n",
    "Add optional fields using Python's Optional type:\n",
    "\n"
   ]
  },
  {
   "cell_type": "code",
   "execution_count": 8,
   "id": "7a0e2969",
   "metadata": {},
   "outputs": [],
   "source": [
    "from typing import Optional\n",
    "class Employee(BaseModel):\n",
    "    id:int\n",
    "    name:str\n",
    "    department:str\n",
    "    salary: Optional[float]=None #Optional with default value equaling to None\n",
    "    is_active: Optional[bool]=True #Optional field with default value being True\n",
    "\n",
    "    "
   ]
  },
  {
   "cell_type": "code",
   "execution_count": 9,
   "id": "ab394c56",
   "metadata": {},
   "outputs": [
    {
     "name": "stdout",
     "output_type": "stream",
     "text": [
      "id=1 name='John' department='CS' salary=None is_active=True\n"
     ]
    }
   ],
   "source": [
    "emp1=Employee(id=1,name=\"John\",department=\"CS\")\n",
    "print(emp1)"
   ]
  },
  {
   "cell_type": "code",
   "execution_count": 10,
   "id": "5cb398d2",
   "metadata": {},
   "outputs": [
    {
     "name": "stdout",
     "output_type": "stream",
     "text": [
      "id=2 name='Krish' department='CS' salary=30000.0 is_active=True\n"
     ]
    }
   ],
   "source": [
    "emp2=Employee(id=2,name=\"Krish\",department=\"CS\",salary=\"30000\") \n",
    "# pydantic does type casting where possible!\n",
    "# It converted \"30000\" to float 30000.0 without throwing an error\n",
    "print(emp2)"
   ]
  },
  {
   "cell_type": "markdown",
   "id": "8bceaa0c",
   "metadata": {},
   "source": [
    "Definition:\n",
    "- Optional[type]: Indicates the field can be None\n",
    "\n",
    "- Default value (= None or = True): Makes the field optional\n",
    "\n",
    "- Required fields must still be provided\n",
    "\n",
    "- Pydantic validates types even for optional fields when values are provided"
   ]
  },
  {
   "cell_type": "code",
   "execution_count": 12,
   "id": "2f8d0f0c",
   "metadata": {},
   "outputs": [
    {
     "name": "stdout",
     "output_type": "stream",
     "text": [
      "id=2 name='Krish' department='CS' salary=30000.0 is_active=True\n"
     ]
    }
   ],
   "source": [
    "emp3=Employee(id=2,name=\"Krish\",department=\"CS\",salary=\"30000\",is_active=1) # type casting: 1 transformed to True\n",
    "print(emp3)"
   ]
  },
  {
   "cell_type": "code",
   "execution_count": 14,
   "id": "5ff9e2b3",
   "metadata": {},
   "outputs": [
    {
     "ename": "ValidationError",
     "evalue": "2 validation errors for Employee\nsalary\n  Input should be a valid number, unable to parse string as a number [type=float_parsing, input_value='ban', input_type=str]\n    For further information visit https://errors.pydantic.dev/2.11/v/float_parsing\nis_active\n  Input should be a valid boolean, unable to interpret input [type=bool_parsing, input_value=100, input_type=int]\n    For further information visit https://errors.pydantic.dev/2.11/v/bool_parsing",
     "output_type": "error",
     "traceback": [
      "\u001b[31m---------------------------------------------------------------------------\u001b[39m",
      "\u001b[31mValidationError\u001b[39m                           Traceback (most recent call last)",
      "\u001b[36mCell\u001b[39m\u001b[36m \u001b[39m\u001b[32mIn[14]\u001b[39m\u001b[32m, line 1\u001b[39m\n\u001b[32m----> \u001b[39m\u001b[32m1\u001b[39m emp3=\u001b[43mEmployee\u001b[49m\u001b[43m(\u001b[49m\u001b[38;5;28;43mid\u001b[39;49m\u001b[43m=\u001b[49m\u001b[32;43m2\u001b[39;49m\u001b[43m,\u001b[49m\u001b[43mname\u001b[49m\u001b[43m=\u001b[49m\u001b[33;43m\"\u001b[39;49m\u001b[33;43mKrish\u001b[39;49m\u001b[33;43m\"\u001b[39;49m\u001b[43m,\u001b[49m\u001b[43mdepartment\u001b[49m\u001b[43m=\u001b[49m\u001b[33;43m\"\u001b[39;49m\u001b[33;43mCS\u001b[39;49m\u001b[33;43m\"\u001b[39;49m\u001b[43m,\u001b[49m\u001b[43msalary\u001b[49m\u001b[43m=\u001b[49m\u001b[33;43m\"\u001b[39;49m\u001b[33;43mban\u001b[39;49m\u001b[33;43m\"\u001b[39;49m\u001b[43m,\u001b[49m\u001b[43mis_active\u001b[49m\u001b[43m=\u001b[49m\u001b[32;43m100\u001b[39;49m\u001b[43m)\u001b[49m\n\u001b[32m      2\u001b[39m \u001b[38;5;28mprint\u001b[39m(emp3)\n",
      "\u001b[36mFile \u001b[39m\u001b[32mc:\\Users\\Artur Dragunov\\Documents\\GIT\\agentic-ai-bootcamp\\ai-agents-bootcamp-venv\\Lib\\site-packages\\pydantic\\main.py:253\u001b[39m, in \u001b[36mBaseModel.__init__\u001b[39m\u001b[34m(self, **data)\u001b[39m\n\u001b[32m    251\u001b[39m \u001b[38;5;66;03m# `__tracebackhide__` tells pytest and some other tools to omit this function from tracebacks\u001b[39;00m\n\u001b[32m    252\u001b[39m __tracebackhide__ = \u001b[38;5;28;01mTrue\u001b[39;00m\n\u001b[32m--> \u001b[39m\u001b[32m253\u001b[39m validated_self = \u001b[38;5;28;43mself\u001b[39;49m\u001b[43m.\u001b[49m\u001b[43m__pydantic_validator__\u001b[49m\u001b[43m.\u001b[49m\u001b[43mvalidate_python\u001b[49m\u001b[43m(\u001b[49m\u001b[43mdata\u001b[49m\u001b[43m,\u001b[49m\u001b[43m \u001b[49m\u001b[43mself_instance\u001b[49m\u001b[43m=\u001b[49m\u001b[38;5;28;43mself\u001b[39;49m\u001b[43m)\u001b[49m\n\u001b[32m    254\u001b[39m \u001b[38;5;28;01mif\u001b[39;00m \u001b[38;5;28mself\u001b[39m \u001b[38;5;129;01mis\u001b[39;00m \u001b[38;5;129;01mnot\u001b[39;00m validated_self:\n\u001b[32m    255\u001b[39m     warnings.warn(\n\u001b[32m    256\u001b[39m         \u001b[33m'\u001b[39m\u001b[33mA custom validator is returning a value other than `self`.\u001b[39m\u001b[38;5;130;01m\\n\u001b[39;00m\u001b[33m'\u001b[39m\n\u001b[32m    257\u001b[39m         \u001b[33m\"\u001b[39m\u001b[33mReturning anything other than `self` from a top level model validator isn\u001b[39m\u001b[33m'\u001b[39m\u001b[33mt supported when validating via `__init__`.\u001b[39m\u001b[38;5;130;01m\\n\u001b[39;00m\u001b[33m\"\u001b[39m\n\u001b[32m    258\u001b[39m         \u001b[33m'\u001b[39m\u001b[33mSee the `model_validator` docs (https://docs.pydantic.dev/latest/concepts/validators/#model-validators) for more details.\u001b[39m\u001b[33m'\u001b[39m,\n\u001b[32m    259\u001b[39m         stacklevel=\u001b[32m2\u001b[39m,\n\u001b[32m    260\u001b[39m     )\n",
      "\u001b[31mValidationError\u001b[39m: 2 validation errors for Employee\nsalary\n  Input should be a valid number, unable to parse string as a number [type=float_parsing, input_value='ban', input_type=str]\n    For further information visit https://errors.pydantic.dev/2.11/v/float_parsing\nis_active\n  Input should be a valid boolean, unable to interpret input [type=bool_parsing, input_value=100, input_type=int]\n    For further information visit https://errors.pydantic.dev/2.11/v/bool_parsing"
     ]
    }
   ],
   "source": [
    "emp3=Employee(id=2,name=\"Krish\",department=\"CS\",salary=\"ban\",is_active=100)\n",
    "print(emp3)"
   ]
  },
  {
   "cell_type": "code",
   "execution_count": 7,
   "id": "bf1c44ea",
   "metadata": {},
   "outputs": [],
   "source": [
    "from typing import List\n",
    "\n",
    "class Classroom(BaseModel):\n",
    "    room_number:str\n",
    "    students: List[str] #List of strings\n",
    "    capacity:int"
   ]
  },
  {
   "cell_type": "code",
   "execution_count": 8,
   "id": "2d106620",
   "metadata": {},
   "outputs": [
    {
     "name": "stdout",
     "output_type": "stream",
     "text": [
      "room_number='A101' students=['Alice', 'Bob', 'Charlie'] capacity=30\n"
     ]
    }
   ],
   "source": [
    "# Create a classroom\n",
    "classroom = Classroom(\n",
    "    room_number=\"A101\",\n",
    "    students=(\"Alice\", \"Bob\", \"Charlie\"), # transformed from tuple to list\n",
    "    capacity=30\n",
    ")\n",
    "print(classroom)"
   ]
  },
  {
   "cell_type": "code",
   "execution_count": 9,
   "id": "0c30e32c",
   "metadata": {},
   "outputs": [
    {
     "data": {
      "text/plain": [
       "['Alice', 'Bob', 'Charlie']"
      ]
     },
     "execution_count": 9,
     "metadata": {},
     "output_type": "execute_result"
    }
   ],
   "source": [
    "list((\"Alice\", \"Bob\", \"Charlie\"))"
   ]
  },
  {
   "cell_type": "code",
   "execution_count": 10,
   "id": "07551ce6",
   "metadata": {},
   "outputs": [
    {
     "ename": "ValidationError",
     "evalue": "1 validation error for Classroom\nstudents.1\n  Input should be a valid string [type=string_type, input_value=123, input_type=int]\n    For further information visit https://errors.pydantic.dev/2.11/v/string_type",
     "output_type": "error",
     "traceback": [
      "\u001b[31m---------------------------------------------------------------------------\u001b[39m",
      "\u001b[31mValidationError\u001b[39m                           Traceback (most recent call last)",
      "\u001b[36mCell\u001b[39m\u001b[36m \u001b[39m\u001b[32mIn[10]\u001b[39m\u001b[32m, line 2\u001b[39m\n\u001b[32m      1\u001b[39m \u001b[38;5;66;03m# Create a classroom\u001b[39;00m\n\u001b[32m----> \u001b[39m\u001b[32m2\u001b[39m classroom1 = \u001b[43mClassroom\u001b[49m\u001b[43m(\u001b[49m\n\u001b[32m      3\u001b[39m \u001b[43m    \u001b[49m\u001b[43mroom_number\u001b[49m\u001b[43m=\u001b[49m\u001b[33;43m\"\u001b[39;49m\u001b[33;43mA101\u001b[39;49m\u001b[33;43m\"\u001b[39;49m\u001b[43m,\u001b[49m\n\u001b[32m      4\u001b[39m \u001b[43m    \u001b[49m\u001b[43mstudents\u001b[49m\u001b[43m=\u001b[49m\u001b[43m(\u001b[49m\u001b[33;43m\"\u001b[39;49m\u001b[33;43mAlice\u001b[39;49m\u001b[33;43m\"\u001b[39;49m\u001b[43m,\u001b[49m\u001b[43m \u001b[49m\u001b[32;43m123\u001b[39;49m\u001b[43m,\u001b[49m\u001b[43m \u001b[49m\u001b[33;43m\"\u001b[39;49m\u001b[33;43mCharlie\u001b[39;49m\u001b[33;43m\"\u001b[39;49m\u001b[43m)\u001b[49m\u001b[43m,\u001b[49m\n\u001b[32m      5\u001b[39m \u001b[43m    \u001b[49m\u001b[43mcapacity\u001b[49m\u001b[43m=\u001b[49m\u001b[32;43m30\u001b[39;49m\n\u001b[32m      6\u001b[39m \u001b[43m)\u001b[49m\n\u001b[32m      7\u001b[39m \u001b[38;5;28mprint\u001b[39m(classroom1)\n",
      "\u001b[36mFile \u001b[39m\u001b[32mc:\\Users\\Artur Dragunov\\Documents\\GIT\\agentic-ai-bootcamp\\ai-agents-bootcamp-venv\\Lib\\site-packages\\pydantic\\main.py:253\u001b[39m, in \u001b[36mBaseModel.__init__\u001b[39m\u001b[34m(self, **data)\u001b[39m\n\u001b[32m    251\u001b[39m \u001b[38;5;66;03m# `__tracebackhide__` tells pytest and some other tools to omit this function from tracebacks\u001b[39;00m\n\u001b[32m    252\u001b[39m __tracebackhide__ = \u001b[38;5;28;01mTrue\u001b[39;00m\n\u001b[32m--> \u001b[39m\u001b[32m253\u001b[39m validated_self = \u001b[38;5;28;43mself\u001b[39;49m\u001b[43m.\u001b[49m\u001b[43m__pydantic_validator__\u001b[49m\u001b[43m.\u001b[49m\u001b[43mvalidate_python\u001b[49m\u001b[43m(\u001b[49m\u001b[43mdata\u001b[49m\u001b[43m,\u001b[49m\u001b[43m \u001b[49m\u001b[43mself_instance\u001b[49m\u001b[43m=\u001b[49m\u001b[38;5;28;43mself\u001b[39;49m\u001b[43m)\u001b[49m\n\u001b[32m    254\u001b[39m \u001b[38;5;28;01mif\u001b[39;00m \u001b[38;5;28mself\u001b[39m \u001b[38;5;129;01mis\u001b[39;00m \u001b[38;5;129;01mnot\u001b[39;00m validated_self:\n\u001b[32m    255\u001b[39m     warnings.warn(\n\u001b[32m    256\u001b[39m         \u001b[33m'\u001b[39m\u001b[33mA custom validator is returning a value other than `self`.\u001b[39m\u001b[38;5;130;01m\\n\u001b[39;00m\u001b[33m'\u001b[39m\n\u001b[32m    257\u001b[39m         \u001b[33m\"\u001b[39m\u001b[33mReturning anything other than `self` from a top level model validator isn\u001b[39m\u001b[33m'\u001b[39m\u001b[33mt supported when validating via `__init__`.\u001b[39m\u001b[38;5;130;01m\\n\u001b[39;00m\u001b[33m\"\u001b[39m\n\u001b[32m    258\u001b[39m         \u001b[33m'\u001b[39m\u001b[33mSee the `model_validator` docs (https://docs.pydantic.dev/latest/concepts/validators/#model-validators) for more details.\u001b[39m\u001b[33m'\u001b[39m,\n\u001b[32m    259\u001b[39m         stacklevel=\u001b[32m2\u001b[39m,\n\u001b[32m    260\u001b[39m     )\n",
      "\u001b[31mValidationError\u001b[39m: 1 validation error for Classroom\nstudents.1\n  Input should be a valid string [type=string_type, input_value=123, input_type=int]\n    For further information visit https://errors.pydantic.dev/2.11/v/string_type"
     ]
    }
   ],
   "source": [
    "# Create a classroom\n",
    "classroom1 = Classroom(\n",
    "    room_number=\"A101\",\n",
    "    students=(\"Alice\", 123, \"Charlie\"),\n",
    "    capacity=30\n",
    ")\n",
    "print(classroom1)"
   ]
  },
  {
   "cell_type": "code",
   "execution_count": 11,
   "id": "a671f4e2",
   "metadata": {},
   "outputs": [
    {
     "name": "stdout",
     "output_type": "stream",
     "text": [
      "1 validation error for Classroom\n",
      "students.1\n",
      "  Input should be a valid string [type=string_type, input_value=123, input_type=int]\n",
      "    For further information visit https://errors.pydantic.dev/2.11/v/string_type\n"
     ]
    }
   ],
   "source": [
    "try:\n",
    "    invalid_val=Classroom(room_number=\"A1\",students=[\"Krish\",123],capacity=30)\n",
    "\n",
    "except ValueError as e:\n",
    "    print(e) # you see even the error location -> students.1"
   ]
  },
  {
   "cell_type": "markdown",
   "id": "76876b1f",
   "metadata": {},
   "source": [
    "#### 4. Model with Nested Models\n",
    "Create complex structures with nested models:"
   ]
  },
  {
   "cell_type": "code",
   "execution_count": 12,
   "id": "b485c6a3",
   "metadata": {},
   "outputs": [],
   "source": [
    "from pydantic import BaseModel\n",
    "\n",
    "class Address(BaseModel):\n",
    "    street:str\n",
    "    city:str\n",
    "    zip_code:str\n",
    "\n",
    "class Customer(BaseModel):\n",
    "    customer_id:int\n",
    "    name:str\n",
    "    address:Address  ## Nested Model -> address should belong to class Address!"
   ]
  },
  {
   "cell_type": "code",
   "execution_count": 23,
   "id": "b50dc51d",
   "metadata": {},
   "outputs": [
    {
     "name": "stdout",
     "output_type": "stream",
     "text": [
      "customer_id=1 name='Krish' address=Address(street='Main street', city='Boston', zip_code='02108')\n"
     ]
    }
   ],
   "source": [
    "customer=Customer(customer_id=1,name=\"Krish\",\n",
    "                  address={\"street\":\"Main street\",\"city\":\"Boston\",\"zip_code\":\"02108\"})\n",
    "\n",
    "print(customer)"
   ]
  },
  {
   "cell_type": "code",
   "execution_count": 24,
   "id": "497286a6",
   "metadata": {},
   "outputs": [
    {
     "ename": "ValidationError",
     "evalue": "1 validation error for Customer\naddress.city\n  Input should be a valid string [type=string_type, input_value=123, input_type=int]\n    For further information visit https://errors.pydantic.dev/2.11/v/string_type",
     "output_type": "error",
     "traceback": [
      "\u001b[31m---------------------------------------------------------------------------\u001b[39m",
      "\u001b[31mValidationError\u001b[39m                           Traceback (most recent call last)",
      "\u001b[36mCell\u001b[39m\u001b[36m \u001b[39m\u001b[32mIn[24]\u001b[39m\u001b[32m, line 1\u001b[39m\n\u001b[32m----> \u001b[39m\u001b[32m1\u001b[39m customer=\u001b[43mCustomer\u001b[49m\u001b[43m(\u001b[49m\u001b[43mcustomer_id\u001b[49m\u001b[43m=\u001b[49m\u001b[32;43m1\u001b[39;49m\u001b[43m,\u001b[49m\u001b[43mname\u001b[49m\u001b[43m=\u001b[49m\u001b[33;43m\"\u001b[39;49m\u001b[33;43mKrish\u001b[39;49m\u001b[33;43m\"\u001b[39;49m\u001b[43m,\u001b[49m\n\u001b[32m      2\u001b[39m \u001b[43m                  \u001b[49m\u001b[43maddress\u001b[49m\u001b[43m=\u001b[49m\u001b[43m{\u001b[49m\u001b[33;43m\"\u001b[39;49m\u001b[33;43mstreet\u001b[39;49m\u001b[33;43m\"\u001b[39;49m\u001b[43m:\u001b[49m\u001b[33;43m\"\u001b[39;49m\u001b[33;43mMain street\u001b[39;49m\u001b[33;43m\"\u001b[39;49m\u001b[43m,\u001b[49m\u001b[33;43m\"\u001b[39;49m\u001b[33;43mcity\u001b[39;49m\u001b[33;43m\"\u001b[39;49m\u001b[43m:\u001b[49m\u001b[32;43m123\u001b[39;49m\u001b[43m,\u001b[49m\u001b[33;43m\"\u001b[39;49m\u001b[33;43mzip_code\u001b[39;49m\u001b[33;43m\"\u001b[39;49m\u001b[43m:\u001b[49m\u001b[33;43m\"\u001b[39;49m\u001b[33;43m02108\u001b[39;49m\u001b[33;43m\"\u001b[39;49m\u001b[43m}\u001b[49m\u001b[43m)\u001b[49m\n\u001b[32m      4\u001b[39m \u001b[38;5;28mprint\u001b[39m(customer)\n",
      "\u001b[36mFile \u001b[39m\u001b[32mc:\\Users\\Artur Dragunov\\Documents\\GIT\\agentic-ai-bootcamp\\ai-agents-bootcamp-venv\\Lib\\site-packages\\pydantic\\main.py:253\u001b[39m, in \u001b[36mBaseModel.__init__\u001b[39m\u001b[34m(self, **data)\u001b[39m\n\u001b[32m    251\u001b[39m \u001b[38;5;66;03m# `__tracebackhide__` tells pytest and some other tools to omit this function from tracebacks\u001b[39;00m\n\u001b[32m    252\u001b[39m __tracebackhide__ = \u001b[38;5;28;01mTrue\u001b[39;00m\n\u001b[32m--> \u001b[39m\u001b[32m253\u001b[39m validated_self = \u001b[38;5;28;43mself\u001b[39;49m\u001b[43m.\u001b[49m\u001b[43m__pydantic_validator__\u001b[49m\u001b[43m.\u001b[49m\u001b[43mvalidate_python\u001b[49m\u001b[43m(\u001b[49m\u001b[43mdata\u001b[49m\u001b[43m,\u001b[49m\u001b[43m \u001b[49m\u001b[43mself_instance\u001b[49m\u001b[43m=\u001b[49m\u001b[38;5;28;43mself\u001b[39;49m\u001b[43m)\u001b[49m\n\u001b[32m    254\u001b[39m \u001b[38;5;28;01mif\u001b[39;00m \u001b[38;5;28mself\u001b[39m \u001b[38;5;129;01mis\u001b[39;00m \u001b[38;5;129;01mnot\u001b[39;00m validated_self:\n\u001b[32m    255\u001b[39m     warnings.warn(\n\u001b[32m    256\u001b[39m         \u001b[33m'\u001b[39m\u001b[33mA custom validator is returning a value other than `self`.\u001b[39m\u001b[38;5;130;01m\\n\u001b[39;00m\u001b[33m'\u001b[39m\n\u001b[32m    257\u001b[39m         \u001b[33m\"\u001b[39m\u001b[33mReturning anything other than `self` from a top level model validator isn\u001b[39m\u001b[33m'\u001b[39m\u001b[33mt supported when validating via `__init__`.\u001b[39m\u001b[38;5;130;01m\\n\u001b[39;00m\u001b[33m\"\u001b[39m\n\u001b[32m    258\u001b[39m         \u001b[33m'\u001b[39m\u001b[33mSee the `model_validator` docs (https://docs.pydantic.dev/latest/concepts/validators/#model-validators) for more details.\u001b[39m\u001b[33m'\u001b[39m,\n\u001b[32m    259\u001b[39m         stacklevel=\u001b[32m2\u001b[39m,\n\u001b[32m    260\u001b[39m     )\n",
      "\u001b[31mValidationError\u001b[39m: 1 validation error for Customer\naddress.city\n  Input should be a valid string [type=string_type, input_value=123, input_type=int]\n    For further information visit https://errors.pydantic.dev/2.11/v/string_type"
     ]
    }
   ],
   "source": [
    "customer=Customer(customer_id=1,name=\"Krish\",\n",
    "                  address={\"street\":\"Main street\",\"city\":123,\"zip_code\":\"02108\"})\n",
    "\n",
    "print(customer)"
   ]
  },
  {
   "cell_type": "markdown",
   "id": "eaa1ef99",
   "metadata": {},
   "source": [
    "#### Pydantic Fields: Customization and Constraints\n",
    "\n",
    "The Field function in Pydantic enhances model fields beyond basic type hints by allowing you to specify validation rules, default values, aliases, and more. Here's a comprehensive tutorial with examples."
   ]
  },
  {
   "cell_type": "code",
   "execution_count": 13,
   "id": "6a2a2c51",
   "metadata": {},
   "outputs": [
    {
     "ename": "ValidationError",
     "evalue": "1 validation error for Item\nprice\n  Input should be less than or equal to 10000 [type=less_than_equal, input_value=100000, input_type=int]\n    For further information visit https://errors.pydantic.dev/2.11/v/less_than_equal",
     "output_type": "error",
     "traceback": [
      "\u001b[31m---------------------------------------------------------------------------\u001b[39m",
      "\u001b[31mValidationError\u001b[39m                           Traceback (most recent call last)",
      "\u001b[36mCell\u001b[39m\u001b[36m \u001b[39m\u001b[32mIn[13]\u001b[39m\u001b[32m, line 8\u001b[39m\n\u001b[32m      5\u001b[39m     price:\u001b[38;5;28mfloat\u001b[39m=Field(gt=\u001b[32m0\u001b[39m,le=\u001b[32m10000\u001b[39m)  \u001b[38;5;66;03m## greater than 0 and less than or equal to 10000\u001b[39;00m\n\u001b[32m      6\u001b[39m     quantity:\u001b[38;5;28mint\u001b[39m=Field(ge=\u001b[32m0\u001b[39m) \u001b[38;5;66;03m# greater or equal to 0\u001b[39;00m\n\u001b[32m----> \u001b[39m\u001b[32m8\u001b[39m item=\u001b[43mItem\u001b[49m\u001b[43m(\u001b[49m\u001b[43mname\u001b[49m\u001b[43m=\u001b[49m\u001b[33;43m\"\u001b[39;49m\u001b[33;43mBook\u001b[39;49m\u001b[33;43m\"\u001b[39;49m\u001b[43m,\u001b[49m\u001b[43m \u001b[49m\u001b[43mprice\u001b[49m\u001b[43m=\u001b[49m\u001b[32;43m100000\u001b[39;49m\u001b[43m,\u001b[49m\u001b[43mquantity\u001b[49m\u001b[43m=\u001b[49m\u001b[32;43m10\u001b[39;49m\u001b[43m)\u001b[49m\n\u001b[32m      9\u001b[39m \u001b[38;5;28mprint\u001b[39m(item)\n",
      "\u001b[36mFile \u001b[39m\u001b[32mc:\\Users\\Artur Dragunov\\Documents\\GIT\\agentic-ai-bootcamp\\ai-agents-bootcamp-venv\\Lib\\site-packages\\pydantic\\main.py:253\u001b[39m, in \u001b[36mBaseModel.__init__\u001b[39m\u001b[34m(self, **data)\u001b[39m\n\u001b[32m    251\u001b[39m \u001b[38;5;66;03m# `__tracebackhide__` tells pytest and some other tools to omit this function from tracebacks\u001b[39;00m\n\u001b[32m    252\u001b[39m __tracebackhide__ = \u001b[38;5;28;01mTrue\u001b[39;00m\n\u001b[32m--> \u001b[39m\u001b[32m253\u001b[39m validated_self = \u001b[38;5;28;43mself\u001b[39;49m\u001b[43m.\u001b[49m\u001b[43m__pydantic_validator__\u001b[49m\u001b[43m.\u001b[49m\u001b[43mvalidate_python\u001b[49m\u001b[43m(\u001b[49m\u001b[43mdata\u001b[49m\u001b[43m,\u001b[49m\u001b[43m \u001b[49m\u001b[43mself_instance\u001b[49m\u001b[43m=\u001b[49m\u001b[38;5;28;43mself\u001b[39;49m\u001b[43m)\u001b[49m\n\u001b[32m    254\u001b[39m \u001b[38;5;28;01mif\u001b[39;00m \u001b[38;5;28mself\u001b[39m \u001b[38;5;129;01mis\u001b[39;00m \u001b[38;5;129;01mnot\u001b[39;00m validated_self:\n\u001b[32m    255\u001b[39m     warnings.warn(\n\u001b[32m    256\u001b[39m         \u001b[33m'\u001b[39m\u001b[33mA custom validator is returning a value other than `self`.\u001b[39m\u001b[38;5;130;01m\\n\u001b[39;00m\u001b[33m'\u001b[39m\n\u001b[32m    257\u001b[39m         \u001b[33m\"\u001b[39m\u001b[33mReturning anything other than `self` from a top level model validator isn\u001b[39m\u001b[33m'\u001b[39m\u001b[33mt supported when validating via `__init__`.\u001b[39m\u001b[38;5;130;01m\\n\u001b[39;00m\u001b[33m\"\u001b[39m\n\u001b[32m    258\u001b[39m         \u001b[33m'\u001b[39m\u001b[33mSee the `model_validator` docs (https://docs.pydantic.dev/latest/concepts/validators/#model-validators) for more details.\u001b[39m\u001b[33m'\u001b[39m,\n\u001b[32m    259\u001b[39m         stacklevel=\u001b[32m2\u001b[39m,\n\u001b[32m    260\u001b[39m     )\n",
      "\u001b[31mValidationError\u001b[39m: 1 validation error for Item\nprice\n  Input should be less than or equal to 10000 [type=less_than_equal, input_value=100000, input_type=int]\n    For further information visit https://errors.pydantic.dev/2.11/v/less_than_equal"
     ]
    }
   ],
   "source": [
    "from pydantic import BaseModel,Field\n",
    "\n",
    "class Item(BaseModel):\n",
    "    name:str=Field(min_length=2,max_length=50) # string size\n",
    "    price:float=Field(gt=0,le=10000)  ## greater than 0 and less than or equal to 10000\n",
    "    quantity:int=Field(ge=0) # greater or equal to 0\n",
    "\n",
    "item=Item(name=\"Book\", price=100000,quantity=10)\n",
    "print(item)"
   ]
  },
  {
   "cell_type": "markdown",
   "id": "8248242e",
   "metadata": {},
   "source": [
    "Pydantic default_factory Summary\n",
    "In Pydantic, default_factory=lambda: value provides a function that generates default values dynamically:\n",
    "\n",
    "pythonemail: str = Field(default_factory=lambda: \"user@example.com\", description=\"Default email address\")\n",
    "\n",
    "Key points:\n",
    "\n",
    "Function is evaluated when an instance is created, not at class definition time\n",
    "\n",
    "Primary use-cases:\n",
    "\n",
    "Mutable defaults: Prevents shared reference issues\n",
    "- BAD: All instances share the same list -> items: list = Field(default=[])\n",
    "\n",
    "- GOOD: Each instance gets its own list -> items: list = Field(default_factory=lambda: [])\n",
    "\n",
    "Runtime values: For values calculated at instantiation time created_at: datetime = Field(default_factory=lambda: datetime.now())\n",
    "\n",
    "Complex defaults: When default requires logic or function calls\n",
    "\n",
    "For immutable types like strings, a simple default=\"value\" is usually sufficient unless you need dynamic evaluation.\n"
   ]
  },
  {
   "cell_type": "code",
   "execution_count": 14,
   "id": "f651bd9a",
   "metadata": {},
   "outputs": [
    {
     "name": "stdout",
     "output_type": "stream",
     "text": [
      "username='alice' age=18 email='user@example.com'\n"
     ]
    }
   ],
   "source": [
    "class User(BaseModel):\n",
    "    username:str=Field(description=\"Unique username for the user\")\n",
    "    age:int=Field(default=18,description=\"User age defaults to 18\")\n",
    "    email:str= Field(default_factory=lambda: \"user@example.com\",description=\"Default email address\")\n",
    "\n",
    "\n",
    "# Examples\n",
    "user1 = User(username=\"alice\")\n",
    "print(user1)\n",
    "\n",
    "\n"
   ]
  },
  {
   "cell_type": "code",
   "execution_count": 15,
   "id": "1cb1e653",
   "metadata": {},
   "outputs": [
    {
     "name": "stdout",
     "output_type": "stream",
     "text": [
      "username='bob' age=25 email='bob@domain.com'\n"
     ]
    }
   ],
   "source": [
    "user2 = User(username=\"bob\", age=25, email=\"bob@domain.com\")\n",
    "print(user2)"
   ]
  },
  {
   "cell_type": "code",
   "execution_count": 16,
   "id": "107b21d9",
   "metadata": {},
   "outputs": [
    {
     "data": {
      "text/plain": [
       "{'properties': {'username': {'description': 'Unique username for the user',\n",
       "   'title': 'Username',\n",
       "   'type': 'string'},\n",
       "  'age': {'default': 18,\n",
       "   'description': 'User age defaults to 18',\n",
       "   'title': 'Age',\n",
       "   'type': 'integer'},\n",
       "  'email': {'description': 'Default email address',\n",
       "   'title': 'Email',\n",
       "   'type': 'string'}},\n",
       " 'required': ['username'],\n",
       " 'title': 'User',\n",
       " 'type': 'object'}"
      ]
     },
     "execution_count": 16,
     "metadata": {},
     "output_type": "execute_result"
    }
   ],
   "source": [
    "User.model_json_schema()"
   ]
  }
 ],
 "metadata": {
  "kernelspec": {
   "display_name": "Python 3",
   "language": "python",
   "name": "python3"
  },
  "language_info": {
   "codemirror_mode": {
    "name": "ipython",
    "version": 3
   },
   "file_extension": ".py",
   "mimetype": "text/x-python",
   "name": "python",
   "nbconvert_exporter": "python",
   "pygments_lexer": "ipython3",
   "version": "3.13.2"
  }
 },
 "nbformat": 4,
 "nbformat_minor": 5
}
