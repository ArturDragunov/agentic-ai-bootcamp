{
 "cells": [
  {
   "cell_type": "markdown",
   "id": "c4b058be",
   "metadata": {},
   "source": [
    "#### Pydantic Basics: Creating and Using Models\n",
    "Pydantic models are the foundation of data validation in Python. They use Python type annotations to define the structure and validate data at runtime. Here's a detailed exploration of basic model creation with several examples.\n",
    "\n"
   ]
  },
  {
   "cell_type": "markdown",
   "id": "8541de6e",
   "metadata": {},
   "source": [
    "Data Class vs Normal Class\n",
    "\n",
    "Data Class\n",
    "\n",
    "- Primarily for storing data\n",
    "- Auto-generates __init__, __repr__, __eq__, etc.\n",
    "- Less boilerplate code\n",
    "- Immutable option available\n",
    "\n",
    "Normal Class\n",
    "\n",
    "- Full control over behavior\n",
    "- Contains methods that perform operations\n",
    "- Encapsulation of complex logic\n",
    "- Custom initialization\n",
    "\n",
    "When to Use Data Class\n",
    "\n",
    "- Modeling data structures\n",
    "- Need simple value containers\n",
    "- Working with DTOs or configuration\n",
    "- Primarily storing attributes\n",
    "\n",
    "When to Use Normal Class\n",
    "\n",
    "- Complex behavior is needed\n",
    "- Custom methods dominate\n",
    "- Inheritance hierarchies\n",
    "- Need fine control over special methods\n"
   ]
  },
  {
   "cell_type": "code",
   "execution_count": 1,
   "id": "0d269075",
   "metadata": {},
   "outputs": [],
   "source": [
    "from dataclasses import dataclass # data class is a decorator on top of the class to define attributes\n",
    "\n",
    "@dataclass\n",
    "class Person(): # in data class we don't need a constructor on the contrary to normal class. It's defined automatically. data class is just for holding values\n",
    "    name:str\n",
    "    age:int\n",
    "    city:str"
   ]
  },
  {
   "cell_type": "code",
   "execution_count": null,
   "id": "64708358",
   "metadata": {},
   "outputs": [],
   "source": [
    "person=Person(name=\"Krish\",age=35,city=\"Bangalore\")\n",
    "print(person)"
   ]
  },
  {
   "cell_type": "code",
   "execution_count": null,
   "id": "3d67b9b8",
   "metadata": {},
   "outputs": [],
   "source": [
    "person=Person(name=\"Krish\",age=35,city=35) # city is int here and we receive no error. Pydantic handles this error\n",
    "print(person)"
   ]
  },
  {
   "cell_type": "code",
   "execution_count": 4,
   "id": "072c9aaa",
   "metadata": {},
   "outputs": [],
   "source": [
    "## Pydantic\n",
    "from pydantic import BaseModel # with pydantic we don't need to use dataclass decorator anymore!"
   ]
  },
  {
   "cell_type": "code",
   "execution_count": null,
   "id": "a2882d55",
   "metadata": {},
   "outputs": [],
   "source": [
    "class Person1(BaseModel): # class inheriting from BaseModel is called Data Model\n",
    "    name:str\n",
    "    age:int\n",
    "    city:str\n",
    "\n",
    "person=Person1(name=\"Krish\",age=35,city=\"Bangalore\")\n",
    "print(person)"
   ]
  },
  {
   "cell_type": "code",
   "execution_count": null,
   "id": "debbfb3e",
   "metadata": {},
   "outputs": [],
   "source": [
    "person1=Person1(name=\"Krish\",age=35,city=35)\n",
    "print(person1)"
   ]
  },
  {
   "cell_type": "code",
   "execution_count": null,
   "id": "364c4d3f",
   "metadata": {},
   "outputs": [],
   "source": [
    "person2=Person1(name=\"Krish\",age=35,city=\"35\")\n",
    "print(person2)"
   ]
  },
  {
   "cell_type": "markdown",
   "id": "4a865be7",
   "metadata": {},
   "source": [
    "#### 2. Model with Optional Fields\n",
    "Add optional fields using Python's Optional type:\n",
    "\n"
   ]
  },
  {
   "cell_type": "code",
   "execution_count": 8,
   "id": "7a0e2969",
   "metadata": {},
   "outputs": [],
   "source": [
    "from typing import Optional\n",
    "class Employee(BaseModel):\n",
    "    id:int\n",
    "    name:str\n",
    "    department:str\n",
    "    salary: Optional[float]=None #Optional with default value equaling to None\n",
    "    is_active: Optional[bool]=True #Optional field with default value being True\n",
    "\n",
    "    "
   ]
  },
  {
   "cell_type": "code",
   "execution_count": null,
   "id": "ab394c56",
   "metadata": {},
   "outputs": [],
   "source": [
    "emp1=Employee(id=1,name=\"John\",department=\"CS\")\n",
    "print(emp1)"
   ]
  },
  {
   "cell_type": "code",
   "execution_count": null,
   "id": "5cb398d2",
   "metadata": {},
   "outputs": [],
   "source": [
    "emp2=Employee(id=2,name=\"Krish\",department=\"CS\",salary=\"30000\") \n",
    "# pydantic does type casting where possible!\n",
    "# It converted \"30000\" to float 30000.0 without throwing an error\n",
    "print(emp2)"
   ]
  },
  {
   "cell_type": "markdown",
   "id": "8bceaa0c",
   "metadata": {},
   "source": [
    "Definition:\n",
    "- Optional[type]: Indicates the field can be None\n",
    "\n",
    "- Default value (= None or = True): Makes the field optional\n",
    "\n",
    "- Required fields must still be provided\n",
    "\n",
    "- Pydantic validates types even for optional fields when values are provided"
   ]
  },
  {
   "cell_type": "code",
   "execution_count": null,
   "id": "2f8d0f0c",
   "metadata": {},
   "outputs": [],
   "source": [
    "emp3=Employee(id=2,name=\"Krish\",department=\"CS\",salary=\"30000\",is_active=1) # type casting: 1 transformed to True\n",
    "print(emp3)"
   ]
  },
  {
   "cell_type": "code",
   "execution_count": null,
   "id": "5ff9e2b3",
   "metadata": {},
   "outputs": [],
   "source": [
    "emp3=Employee(id=2,name=\"Krish\",department=\"CS\",salary=\"ban\",is_active=100)\n",
    "print(emp3)"
   ]
  },
  {
   "cell_type": "code",
   "execution_count": 7,
   "id": "bf1c44ea",
   "metadata": {},
   "outputs": [],
   "source": [
    "from typing import List\n",
    "\n",
    "class Classroom(BaseModel):\n",
    "    room_number:str\n",
    "    students: List[str] #List of strings\n",
    "    capacity:int"
   ]
  },
  {
   "cell_type": "code",
   "execution_count": null,
   "id": "2d106620",
   "metadata": {},
   "outputs": [],
   "source": [
    "# Create a classroom\n",
    "classroom = Classroom(\n",
    "    room_number=\"A101\",\n",
    "    students=(\"Alice\", \"Bob\", \"Charlie\"), # transformed from tuple to list\n",
    "    capacity=30\n",
    ")\n",
    "print(classroom)"
   ]
  },
  {
   "cell_type": "code",
   "execution_count": null,
   "id": "0c30e32c",
   "metadata": {},
   "outputs": [],
   "source": [
    "list((\"Alice\", \"Bob\", \"Charlie\"))"
   ]
  },
  {
   "cell_type": "code",
   "execution_count": null,
   "id": "07551ce6",
   "metadata": {},
   "outputs": [],
   "source": [
    "# Create a classroom\n",
    "classroom1 = Classroom(\n",
    "    room_number=\"A101\",\n",
    "    students=(\"Alice\", 123, \"Charlie\"),\n",
    "    capacity=30\n",
    ")\n",
    "print(classroom1)"
   ]
  },
  {
   "cell_type": "code",
   "execution_count": null,
   "id": "a671f4e2",
   "metadata": {},
   "outputs": [],
   "source": [
    "try:\n",
    "    invalid_val=Classroom(room_number=\"A1\",students=[\"Krish\",123],capacity=30)\n",
    "\n",
    "except ValueError as e:\n",
    "    print(e) # you see even the error location -> students.1"
   ]
  },
  {
   "cell_type": "markdown",
   "id": "76876b1f",
   "metadata": {},
   "source": [
    "#### 4. Model with Nested Models\n",
    "Create complex structures with nested models:"
   ]
  },
  {
   "cell_type": "code",
   "execution_count": 12,
   "id": "b485c6a3",
   "metadata": {},
   "outputs": [],
   "source": [
    "from pydantic import BaseModel\n",
    "\n",
    "class Address(BaseModel):\n",
    "    street:str\n",
    "    city:str\n",
    "    zip_code:str\n",
    "\n",
    "class Customer(BaseModel):\n",
    "    customer_id:int\n",
    "    name:str\n",
    "    address:Address  ## Nested Model -> address should belong to class Address!"
   ]
  },
  {
   "cell_type": "code",
   "execution_count": null,
   "id": "b50dc51d",
   "metadata": {},
   "outputs": [],
   "source": [
    "customer=Customer(customer_id=1,name=\"Krish\",\n",
    "                  address={\"street\":\"Main street\",\"city\":\"Boston\",\"zip_code\":\"02108\"})\n",
    "\n",
    "print(customer)"
   ]
  },
  {
   "cell_type": "code",
   "execution_count": null,
   "id": "497286a6",
   "metadata": {},
   "outputs": [],
   "source": [
    "customer=Customer(customer_id=1,name=\"Krish\",\n",
    "                  address={\"street\":\"Main street\",\"city\":123,\"zip_code\":\"02108\"})\n",
    "\n",
    "print(customer)"
   ]
  },
  {
   "cell_type": "markdown",
   "id": "eaa1ef99",
   "metadata": {},
   "source": [
    "#### Pydantic Fields: Customization and Constraints\n",
    "\n",
    "The Field function in Pydantic enhances model fields beyond basic type hints by allowing you to specify validation rules, default values, aliases, and more. Here's a comprehensive tutorial with examples."
   ]
  },
  {
   "cell_type": "code",
   "execution_count": null,
   "id": "6a2a2c51",
   "metadata": {},
   "outputs": [],
   "source": [
    "from pydantic import BaseModel,Field\n",
    "\n",
    "class Item(BaseModel):\n",
    "    name:str=Field(min_length=2,max_length=50) # string size\n",
    "    price:float=Field(gt=0,le=10000)  ## greater than 0 and less than or equal to 10000\n",
    "    quantity:int=Field(ge=0) # greater or equal to 0\n",
    "\n",
    "item=Item(name=\"Book\", price=100000,quantity=10)\n",
    "print(item)"
   ]
  },
  {
   "cell_type": "markdown",
   "id": "8248242e",
   "metadata": {},
   "source": [
    "Pydantic default_factory Summary\n",
    "In Pydantic, default_factory=lambda: value provides a function that generates default values dynamically:\n",
    "\n",
    "pythonemail: str = Field(default_factory=lambda: \"user@example.com\", description=\"Default email address\")\n",
    "\n",
    "Key points:\n",
    "\n",
    "Function is evaluated when an instance is created, not at class definition time\n",
    "\n",
    "Primary use-cases:\n",
    "\n",
    "Mutable defaults: Prevents shared reference issues\n",
    "- BAD: All instances share the same list -> items: list = Field(default=[])\n",
    "\n",
    "- GOOD: Each instance gets its own list -> items: list = Field(default_factory=lambda: [])\n",
    "\n",
    "Runtime values: For values calculated at instantiation time created_at: datetime = Field(default_factory=lambda: datetime.now())\n",
    "\n",
    "Complex defaults: When default requires logic or function calls\n",
    "\n",
    "For immutable types like strings, a simple default=\"value\" is usually sufficient unless you need dynamic evaluation.\n"
   ]
  },
  {
   "cell_type": "code",
   "execution_count": null,
   "id": "f651bd9a",
   "metadata": {},
   "outputs": [],
   "source": [
    "class User(BaseModel):\n",
    "    username:str=Field(description=\"Unique username for the user\")\n",
    "    age:int=Field(default=18,description=\"User age defaults to 18\")\n",
    "    email:str= Field(default_factory=lambda: \"user@example.com\",description=\"Default email address\")\n",
    "\n",
    "\n",
    "# Examples\n",
    "user1 = User(username=\"alice\")\n",
    "print(user1)\n",
    "\n",
    "\n"
   ]
  },
  {
   "cell_type": "code",
   "execution_count": null,
   "id": "1cb1e653",
   "metadata": {},
   "outputs": [],
   "source": [
    "user2 = User(username=\"bob\", age=25, email=\"bob@domain.com\")\n",
    "print(user2)"
   ]
  },
  {
   "cell_type": "code",
   "execution_count": null,
   "id": "107b21d9",
   "metadata": {},
   "outputs": [],
   "source": [
    "User.model_json_schema()"
   ]
  }
 ],
 "metadata": {
  "kernelspec": {
   "display_name": "Python 3",
   "language": "python",
   "name": "python3"
  },
  "language_info": {
   "codemirror_mode": {
    "name": "ipython",
    "version": 3
   },
   "file_extension": ".py",
   "mimetype": "text/x-python",
   "name": "python",
   "nbconvert_exporter": "python",
   "pygments_lexer": "ipython3",
   "version": "3.13.2"
  }
 },
 "nbformat": 4,
 "nbformat_minor": 5
}
